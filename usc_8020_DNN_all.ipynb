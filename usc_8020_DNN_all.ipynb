{
  "cells": [
    {
      "cell_type": "markdown",
      "metadata": {
        "id": "view-in-github",
        "colab_type": "text"
      },
      "source": [
        "<a href=\"https://colab.research.google.com/github/rijinbaby/Urban-Sound-Classification/blob/DNN/usc_8020_DNN_all.ipynb\" target=\"_parent\"><img src=\"https://colab.research.google.com/assets/colab-badge.svg\" alt=\"Open In Colab\"/></a>"
      ]
    },
    {
      "cell_type": "code",
      "execution_count": 1,
      "metadata": {
        "id": "5b684yPnvpTw"
      },
      "outputs": [],
      "source": [
        "#importing required libraries\n",
        "#Keras\n",
        "import tensorflow.keras\n",
        "from tensorflow.keras import regularizers, layers\n",
        "from tensorflow.keras.preprocessing import sequence\n",
        "from tensorflow.keras.preprocessing.text import Tokenizer\n",
        "from tensorflow.keras.preprocessing.sequence import pad_sequences\n",
        "from tensorflow.keras.models import Sequential, Model, model_from_json\n",
        "from tensorflow.keras.layers import Dense, Embedding, LSTM\n",
        "from tensorflow.keras.layers import Input, Flatten, Dropout, Activation, BatchNormalization\n",
        "from tensorflow.keras.layers import Conv2D, MaxPooling2D, AveragePooling1D\n",
        "from tensorflow.keras.utils import to_categorical\n",
        "from tensorflow.keras.callbacks import ModelCheckpoint\n",
        "\n",
        "#sklearn\n",
        "from sklearn.metrics import confusion_matrix, accuracy_score, classification_report\n",
        "from sklearn.model_selection import train_test_split\n",
        "from sklearn.preprocessing import LabelEncoder\n",
        "\n",
        "#Others\n",
        "import librosa\n",
        "import librosa.display\n",
        "import json\n",
        "import numpy as np\n",
        "import matplotlib.pyplot as plt\n",
        "from matplotlib.pyplot import specgram\n",
        "import tensorflow as tf\n",
        "import pandas as pd\n",
        "import seaborn as sns\n",
        "import glob\n",
        "import os\n",
        "import pickle\n",
        "import IPython.display as ipd\n",
        "import csv\n",
        "from tqdm import tqdm\n",
        "import os\n",
        "os.environ[\"CUDA_VISIBLE_DEVICES\"]=\"0\"\n",
        "tf_device='/gpu:0'"
      ]
    },
    {
      "cell_type": "markdown",
      "metadata": {
        "id": "Id69ADCsvpT3"
      },
      "source": [
        "# Confusion matrix \n"
      ]
    },
    {
      "cell_type": "code",
      "execution_count": 2,
      "metadata": {
        "id": "7eJHLBFkvpT6"
      },
      "outputs": [],
      "source": [
        "def make_confusion_matrix(cf,\n",
        "                          group_names=None,\n",
        "                          categories='auto',\n",
        "                          count=True,\n",
        "                          percent=True,\n",
        "                          cbar=True,\n",
        "                          xyticks=True,\n",
        "                          xyplotlabels=True,\n",
        "                          sum_stats=True,\n",
        "                          figsize=None,\n",
        "                          cmap='Blues',\n",
        "                          title=None):\n",
        "    '''\n",
        "    This function will make a pretty plot of an sklearn Confusion Matrix cm using a Seaborn heatmap visualization.\n",
        "    Arguments\n",
        "    ---------\n",
        "    cf:            confusion matrix to be passed in\n",
        "    group_names:   List of strings that represent the labels row by row to be shown in each square.\n",
        "    categories:    List of strings containing the categories to be displayed on the x,y axis. Default is 'auto'\n",
        "    count:         If True, show the raw number in the confusion matrix. Default is True.\n",
        "    normalize:     If True, show the proportions for each category. Default is True.\n",
        "    cbar:          If True, show the color bar. The cbar values are based off the values in the confusion matrix.\n",
        "                   Default is True.\n",
        "    xyticks:       If True, show x and y ticks. Default is True.\n",
        "    xyplotlabels:  If True, show 'True Label' and 'Predicted Label' on the figure. Default is True.\n",
        "    sum_stats:     If True, display summary statistics below the figure. Default is True.\n",
        "    figsize:       Tuple representing the figure size. Default will be the matplotlib rcParams value.\n",
        "    cmap:          Colormap of the values displayed from matplotlib.pyplot.cm. Default is 'Blues'\n",
        "                   See http://matplotlib.org/examples/color/colormaps_reference.html\n",
        "                   \n",
        "    title:         Title for the heatmap. Default is None.\n",
        "    '''\n",
        "\n",
        "\n",
        "    # CODE TO GENERATE TEXT INSIDE EACH SQUARE\n",
        "    blanks = ['' for i in range(cf.size)]\n",
        "\n",
        "    if group_names and len(group_names)==cf.size:\n",
        "        group_labels = [\"{}\\n\".format(value) for value in group_names]\n",
        "    else:\n",
        "        group_labels = blanks\n",
        "\n",
        "    if count:\n",
        "        group_counts = [\"{0:0.0f}\\n\".format(value) for value in cf.flatten()]\n",
        "    else:\n",
        "        group_counts = blanks\n",
        "\n",
        "    if percent:\n",
        "        group_percentages = [\"{0:.2%}\".format(value) for value in cf.flatten()/np.sum(cf)]\n",
        "    else:\n",
        "        group_percentages = blanks\n",
        "\n",
        "    box_labels = [f\"{v1}{v2}{v3}\".strip() for v1, v2, v3 in zip(group_labels,group_counts,group_percentages)]\n",
        "    box_labels = np.asarray(box_labels).reshape(cf.shape[0],cf.shape[1])\n",
        "\n",
        "\n",
        "    # CODE TO GENERATE SUMMARY STATISTICS & TEXT FOR SUMMARY STATS\n",
        "    if sum_stats:\n",
        "        #Accuracy is sum of diagonal divided by total observations\n",
        "        accuracy  = np.trace(cf) / float(np.sum(cf))\n",
        "\n",
        "        #if it is a binary confusion matrix, show some more stats\n",
        "        if len(cf)==2:\n",
        "            #Metrics for Binary Confusion Matrices\n",
        "            precision = cf[1,1] / sum(cf[:,1])\n",
        "            recall    = cf[1,1] / sum(cf[1,:])\n",
        "            f1_score  = 2*precision*recall / (precision + recall)\n",
        "            stats_text = \"\\n\\nAccuracy={:0.3f}\\nPrecision={:0.3f}\\nRecall={:0.3f}\\nF1 Score={:0.3f}\".format(\n",
        "                accuracy,precision,recall,f1_score)\n",
        "        else:\n",
        "            stats_text = \"\\n\\nAccuracy={:0.3f}\".format(accuracy)\n",
        "    else:\n",
        "        stats_text = \"\"\n",
        "\n",
        "\n",
        "    # SET FIGURE PARAMETERS ACCORDING TO OTHER ARGUMENTS\n",
        "    if figsize==None:\n",
        "        #Get default figure size if not set\n",
        "        figsize = plt.rcParams.get('figure.figsize')\n",
        "\n",
        "    if xyticks==False:\n",
        "        #Do not show categories if xyticks is False\n",
        "        categories=False\n",
        "\n",
        "\n",
        "    # MAKE THE HEATMAP VISUALIZATION\n",
        "    plt.rcParams[\"font.family\"] = 'NanumGothic'\n",
        "    plt.figure(figsize=figsize)\n",
        "    sns.heatmap(cf,annot=box_labels,fmt=\"\",cmap=cmap,cbar=cbar,xticklabels=categories,yticklabels=categories)\n",
        "\n",
        "    if xyplotlabels:\n",
        "        plt.ylabel('True label')\n",
        "        plt.xlabel('Predicted label' + stats_text)\n",
        "    else:\n",
        "        plt.xlabel(stats_text)\n",
        "    \n",
        "    if title:\n",
        "        plt.title(title)\n",
        "        plt.savefig(title +'.jpg')"
      ]
    },
    {
      "cell_type": "markdown",
      "metadata": {
        "id": "7fYiOYPcvpUH"
      },
      "source": [
        "# Data Processing"
      ]
    },
    {
      "cell_type": "code",
      "execution_count": 3,
      "metadata": {
        "colab": {
          "base_uri": "https://localhost:8080/"
        },
        "id": "xkO8-clevpUI",
        "outputId": "3db05643-00e9-4719-c8c0-81a386d6d507"
      },
      "outputs": [
        {
          "output_type": "execute_result",
          "data": {
            "text/plain": [
              "((7079, 50), (7079, 1), (1653, 50), (1653, 1))"
            ]
          },
          "metadata": {},
          "execution_count": 3
        }
      ],
      "source": [
        "#split the dataset into train and test\n",
        "X_train = pd.read_csv('https://raw.githubusercontent.com/rijinbaby/Urban-Sound-Classification/main/Datasets/X_train_8020_all.csv')\n",
        "y_train = pd.read_csv('https://raw.githubusercontent.com/rijinbaby/Urban-Sound-Classification/main/Datasets/y_train_8020_all.csv')\n",
        "X_test = pd.read_csv('https://raw.githubusercontent.com/rijinbaby/Urban-Sound-Classification/main/Datasets/X_test_8020_all.csv')\n",
        "y_test = pd.read_csv('https://raw.githubusercontent.com/rijinbaby/Urban-Sound-Classification/main/Datasets/y_test_8020_all.csv')\n",
        "#take a peak at the data\n",
        "X_train.shape, y_train.shape, X_test.shape, y_test.shape\n"
      ]
    },
    {
      "cell_type": "code",
      "execution_count": 4,
      "metadata": {
        "colab": {
          "base_uri": "https://localhost:8080/",
          "height": 270
        },
        "id": "Y5y1XojtvpUK",
        "outputId": "0ec19c98-a21c-4710-dc27-4bf672395402"
      },
      "outputs": [
        {
          "output_type": "execute_result",
          "data": {
            "text/html": [
              "\n",
              "  <div id=\"df-75d74215-a5c7-4519-b4c1-58bd6c286300\">\n",
              "    <div class=\"colab-df-container\">\n",
              "      <div>\n",
              "<style scoped>\n",
              "    .dataframe tbody tr th:only-of-type {\n",
              "        vertical-align: middle;\n",
              "    }\n",
              "\n",
              "    .dataframe tbody tr th {\n",
              "        vertical-align: top;\n",
              "    }\n",
              "\n",
              "    .dataframe thead th {\n",
              "        text-align: right;\n",
              "    }\n",
              "</style>\n",
              "<table border=\"1\" class=\"dataframe\">\n",
              "  <thead>\n",
              "    <tr style=\"text-align: right;\">\n",
              "      <th></th>\n",
              "      <th>chroma_stft</th>\n",
              "      <th>chroma_cens</th>\n",
              "      <th>rmse</th>\n",
              "      <th>zcr</th>\n",
              "      <th>mel</th>\n",
              "      <th>cent</th>\n",
              "      <th>rolloff</th>\n",
              "      <th>spec_bw</th>\n",
              "      <th>contrast</th>\n",
              "      <th>flatness</th>\n",
              "      <th>mfcc0</th>\n",
              "      <th>mfcc1</th>\n",
              "      <th>mfcc2</th>\n",
              "      <th>mfcc3</th>\n",
              "      <th>mfcc4</th>\n",
              "      <th>mfcc5</th>\n",
              "      <th>mfcc6</th>\n",
              "      <th>mfcc7</th>\n",
              "      <th>mfcc8</th>\n",
              "      <th>mfcc9</th>\n",
              "      <th>mfcc10</th>\n",
              "      <th>mfcc11</th>\n",
              "      <th>mfcc12</th>\n",
              "      <th>mfcc13</th>\n",
              "      <th>mfcc14</th>\n",
              "      <th>mfcc15</th>\n",
              "      <th>mfcc16</th>\n",
              "      <th>mfcc17</th>\n",
              "      <th>mfcc18</th>\n",
              "      <th>mfcc19</th>\n",
              "      <th>mfcc20</th>\n",
              "      <th>mfcc21</th>\n",
              "      <th>mfcc22</th>\n",
              "      <th>mfcc23</th>\n",
              "      <th>mfcc24</th>\n",
              "      <th>mfcc25</th>\n",
              "      <th>mfcc26</th>\n",
              "      <th>mfcc27</th>\n",
              "      <th>mfcc28</th>\n",
              "      <th>mfcc29</th>\n",
              "      <th>mfcc30</th>\n",
              "      <th>mfcc31</th>\n",
              "      <th>mfcc32</th>\n",
              "      <th>mfcc33</th>\n",
              "      <th>mfcc34</th>\n",
              "      <th>mfcc35</th>\n",
              "      <th>mfcc36</th>\n",
              "      <th>mfcc37</th>\n",
              "      <th>mfcc38</th>\n",
              "      <th>mfcc39</th>\n",
              "    </tr>\n",
              "  </thead>\n",
              "  <tbody>\n",
              "    <tr>\n",
              "      <th>0</th>\n",
              "      <td>-0.932387</td>\n",
              "      <td>0.410394</td>\n",
              "      <td>0.917044</td>\n",
              "      <td>0.073958</td>\n",
              "      <td>0.544335</td>\n",
              "      <td>0.016860</td>\n",
              "      <td>-0.574700</td>\n",
              "      <td>-0.590569</td>\n",
              "      <td>0.774014</td>\n",
              "      <td>-0.466729</td>\n",
              "      <td>0.107377</td>\n",
              "      <td>-0.921775</td>\n",
              "      <td>-3.159700</td>\n",
              "      <td>-3.463928</td>\n",
              "      <td>-0.532767</td>\n",
              "      <td>-2.659987</td>\n",
              "      <td>-0.243895</td>\n",
              "      <td>0.667267</td>\n",
              "      <td>1.674661</td>\n",
              "      <td>0.652382</td>\n",
              "      <td>-0.543021</td>\n",
              "      <td>-0.735242</td>\n",
              "      <td>-1.442219</td>\n",
              "      <td>0.616402</td>\n",
              "      <td>-0.095125</td>\n",
              "      <td>-0.967175</td>\n",
              "      <td>-2.029987</td>\n",
              "      <td>-0.370074</td>\n",
              "      <td>-0.081009</td>\n",
              "      <td>1.012329</td>\n",
              "      <td>-1.589825</td>\n",
              "      <td>-1.683903</td>\n",
              "      <td>1.671740</td>\n",
              "      <td>-0.960995</td>\n",
              "      <td>-0.846061</td>\n",
              "      <td>-0.235385</td>\n",
              "      <td>-0.309643</td>\n",
              "      <td>0.959342</td>\n",
              "      <td>-1.002397</td>\n",
              "      <td>-1.560182</td>\n",
              "      <td>0.651407</td>\n",
              "      <td>1.808718</td>\n",
              "      <td>0.200979</td>\n",
              "      <td>0.382491</td>\n",
              "      <td>-1.484355</td>\n",
              "      <td>-1.048634</td>\n",
              "      <td>1.354759</td>\n",
              "      <td>-0.286402</td>\n",
              "      <td>0.080649</td>\n",
              "      <td>0.022040</td>\n",
              "    </tr>\n",
              "    <tr>\n",
              "      <th>1</th>\n",
              "      <td>0.185409</td>\n",
              "      <td>0.630728</td>\n",
              "      <td>-1.026105</td>\n",
              "      <td>0.241422</td>\n",
              "      <td>-0.451737</td>\n",
              "      <td>0.067293</td>\n",
              "      <td>0.001952</td>\n",
              "      <td>-0.169217</td>\n",
              "      <td>-0.201102</td>\n",
              "      <td>-0.363545</td>\n",
              "      <td>-1.507856</td>\n",
              "      <td>-0.178637</td>\n",
              "      <td>-0.715724</td>\n",
              "      <td>1.827960</td>\n",
              "      <td>0.963547</td>\n",
              "      <td>0.081115</td>\n",
              "      <td>0.910011</td>\n",
              "      <td>-0.258165</td>\n",
              "      <td>1.005382</td>\n",
              "      <td>0.149769</td>\n",
              "      <td>-0.231644</td>\n",
              "      <td>1.558338</td>\n",
              "      <td>-0.043947</td>\n",
              "      <td>0.825972</td>\n",
              "      <td>1.114954</td>\n",
              "      <td>0.007907</td>\n",
              "      <td>0.601156</td>\n",
              "      <td>1.005710</td>\n",
              "      <td>-0.058602</td>\n",
              "      <td>0.561737</td>\n",
              "      <td>0.489616</td>\n",
              "      <td>1.071099</td>\n",
              "      <td>0.422110</td>\n",
              "      <td>1.316362</td>\n",
              "      <td>0.475074</td>\n",
              "      <td>-0.163874</td>\n",
              "      <td>-0.382853</td>\n",
              "      <td>-0.045517</td>\n",
              "      <td>-0.940584</td>\n",
              "      <td>-0.045141</td>\n",
              "      <td>0.209395</td>\n",
              "      <td>0.379668</td>\n",
              "      <td>0.005961</td>\n",
              "      <td>-0.062241</td>\n",
              "      <td>0.310440</td>\n",
              "      <td>0.002107</td>\n",
              "      <td>-0.283697</td>\n",
              "      <td>0.345773</td>\n",
              "      <td>0.030241</td>\n",
              "      <td>0.172938</td>\n",
              "    </tr>\n",
              "    <tr>\n",
              "      <th>2</th>\n",
              "      <td>0.415934</td>\n",
              "      <td>0.561728</td>\n",
              "      <td>-1.041425</td>\n",
              "      <td>-0.163903</td>\n",
              "      <td>-0.451950</td>\n",
              "      <td>-0.228356</td>\n",
              "      <td>-0.153181</td>\n",
              "      <td>-0.210207</td>\n",
              "      <td>-0.455263</td>\n",
              "      <td>-0.422818</td>\n",
              "      <td>-1.784261</td>\n",
              "      <td>0.086327</td>\n",
              "      <td>-0.551374</td>\n",
              "      <td>1.455059</td>\n",
              "      <td>0.881829</td>\n",
              "      <td>0.621508</td>\n",
              "      <td>1.358606</td>\n",
              "      <td>-0.319418</td>\n",
              "      <td>0.989077</td>\n",
              "      <td>0.109741</td>\n",
              "      <td>-0.439067</td>\n",
              "      <td>0.799805</td>\n",
              "      <td>0.614929</td>\n",
              "      <td>0.728648</td>\n",
              "      <td>0.841632</td>\n",
              "      <td>0.163795</td>\n",
              "      <td>-0.242451</td>\n",
              "      <td>-0.044767</td>\n",
              "      <td>0.406497</td>\n",
              "      <td>1.689113</td>\n",
              "      <td>0.947898</td>\n",
              "      <td>0.908707</td>\n",
              "      <td>0.367275</td>\n",
              "      <td>0.193264</td>\n",
              "      <td>-0.156416</td>\n",
              "      <td>0.263905</td>\n",
              "      <td>-0.023388</td>\n",
              "      <td>-0.180631</td>\n",
              "      <td>-0.239507</td>\n",
              "      <td>0.351044</td>\n",
              "      <td>0.483759</td>\n",
              "      <td>-0.270133</td>\n",
              "      <td>-0.862749</td>\n",
              "      <td>-0.498215</td>\n",
              "      <td>-0.372718</td>\n",
              "      <td>-0.345769</td>\n",
              "      <td>-0.415033</td>\n",
              "      <td>0.860877</td>\n",
              "      <td>0.506007</td>\n",
              "      <td>-0.040799</td>\n",
              "    </tr>\n",
              "    <tr>\n",
              "      <th>3</th>\n",
              "      <td>-0.244350</td>\n",
              "      <td>0.495143</td>\n",
              "      <td>-1.015921</td>\n",
              "      <td>0.153963</td>\n",
              "      <td>-0.451344</td>\n",
              "      <td>0.224741</td>\n",
              "      <td>0.257999</td>\n",
              "      <td>0.329265</td>\n",
              "      <td>-0.135583</td>\n",
              "      <td>-0.186923</td>\n",
              "      <td>-1.426643</td>\n",
              "      <td>-0.342105</td>\n",
              "      <td>-0.167820</td>\n",
              "      <td>1.438587</td>\n",
              "      <td>1.065424</td>\n",
              "      <td>-0.125903</td>\n",
              "      <td>0.997116</td>\n",
              "      <td>-0.587186</td>\n",
              "      <td>0.964449</td>\n",
              "      <td>-0.192373</td>\n",
              "      <td>-0.373125</td>\n",
              "      <td>1.612751</td>\n",
              "      <td>0.400533</td>\n",
              "      <td>0.796309</td>\n",
              "      <td>0.334719</td>\n",
              "      <td>-0.342114</td>\n",
              "      <td>0.840009</td>\n",
              "      <td>0.537329</td>\n",
              "      <td>0.874632</td>\n",
              "      <td>0.567934</td>\n",
              "      <td>-0.293281</td>\n",
              "      <td>0.718855</td>\n",
              "      <td>-0.471809</td>\n",
              "      <td>0.406049</td>\n",
              "      <td>0.003232</td>\n",
              "      <td>-0.167635</td>\n",
              "      <td>-0.387171</td>\n",
              "      <td>-0.167614</td>\n",
              "      <td>-0.583786</td>\n",
              "      <td>-0.596979</td>\n",
              "      <td>-0.610500</td>\n",
              "      <td>0.131012</td>\n",
              "      <td>0.491346</td>\n",
              "      <td>0.135567</td>\n",
              "      <td>-0.359596</td>\n",
              "      <td>0.329291</td>\n",
              "      <td>-0.136842</td>\n",
              "      <td>-0.148015</td>\n",
              "      <td>-0.331287</td>\n",
              "      <td>-0.269912</td>\n",
              "    </tr>\n",
              "    <tr>\n",
              "      <th>4</th>\n",
              "      <td>0.390109</td>\n",
              "      <td>0.438449</td>\n",
              "      <td>-1.038150</td>\n",
              "      <td>0.013798</td>\n",
              "      <td>-0.451918</td>\n",
              "      <td>-0.067846</td>\n",
              "      <td>-0.032828</td>\n",
              "      <td>-0.206404</td>\n",
              "      <td>-0.486879</td>\n",
              "      <td>-0.394522</td>\n",
              "      <td>-1.685152</td>\n",
              "      <td>-0.085470</td>\n",
              "      <td>-0.707531</td>\n",
              "      <td>1.812362</td>\n",
              "      <td>1.108662</td>\n",
              "      <td>0.662272</td>\n",
              "      <td>0.947498</td>\n",
              "      <td>-0.291221</td>\n",
              "      <td>1.436161</td>\n",
              "      <td>-0.057650</td>\n",
              "      <td>-0.711554</td>\n",
              "      <td>1.092158</td>\n",
              "      <td>0.643851</td>\n",
              "      <td>0.440054</td>\n",
              "      <td>1.258503</td>\n",
              "      <td>0.554987</td>\n",
              "      <td>-0.027763</td>\n",
              "      <td>0.158337</td>\n",
              "      <td>-0.501668</td>\n",
              "      <td>1.674276</td>\n",
              "      <td>0.878477</td>\n",
              "      <td>0.701515</td>\n",
              "      <td>0.366218</td>\n",
              "      <td>0.548452</td>\n",
              "      <td>-0.065650</td>\n",
              "      <td>0.201622</td>\n",
              "      <td>0.133030</td>\n",
              "      <td>0.911894</td>\n",
              "      <td>0.179301</td>\n",
              "      <td>-0.234178</td>\n",
              "      <td>-0.167901</td>\n",
              "      <td>-0.433266</td>\n",
              "      <td>0.120210</td>\n",
              "      <td>0.451047</td>\n",
              "      <td>-0.385886</td>\n",
              "      <td>0.072454</td>\n",
              "      <td>-0.011898</td>\n",
              "      <td>0.732839</td>\n",
              "      <td>0.491145</td>\n",
              "      <td>0.092003</td>\n",
              "    </tr>\n",
              "  </tbody>\n",
              "</table>\n",
              "</div>\n",
              "      <button class=\"colab-df-convert\" onclick=\"convertToInteractive('df-75d74215-a5c7-4519-b4c1-58bd6c286300')\"\n",
              "              title=\"Convert this dataframe to an interactive table.\"\n",
              "              style=\"display:none;\">\n",
              "        \n",
              "  <svg xmlns=\"http://www.w3.org/2000/svg\" height=\"24px\"viewBox=\"0 0 24 24\"\n",
              "       width=\"24px\">\n",
              "    <path d=\"M0 0h24v24H0V0z\" fill=\"none\"/>\n",
              "    <path d=\"M18.56 5.44l.94 2.06.94-2.06 2.06-.94-2.06-.94-.94-2.06-.94 2.06-2.06.94zm-11 1L8.5 8.5l.94-2.06 2.06-.94-2.06-.94L8.5 2.5l-.94 2.06-2.06.94zm10 10l.94 2.06.94-2.06 2.06-.94-2.06-.94-.94-2.06-.94 2.06-2.06.94z\"/><path d=\"M17.41 7.96l-1.37-1.37c-.4-.4-.92-.59-1.43-.59-.52 0-1.04.2-1.43.59L10.3 9.45l-7.72 7.72c-.78.78-.78 2.05 0 2.83L4 21.41c.39.39.9.59 1.41.59.51 0 1.02-.2 1.41-.59l7.78-7.78 2.81-2.81c.8-.78.8-2.07 0-2.86zM5.41 20L4 18.59l7.72-7.72 1.47 1.35L5.41 20z\"/>\n",
              "  </svg>\n",
              "      </button>\n",
              "      \n",
              "  <style>\n",
              "    .colab-df-container {\n",
              "      display:flex;\n",
              "      flex-wrap:wrap;\n",
              "      gap: 12px;\n",
              "    }\n",
              "\n",
              "    .colab-df-convert {\n",
              "      background-color: #E8F0FE;\n",
              "      border: none;\n",
              "      border-radius: 50%;\n",
              "      cursor: pointer;\n",
              "      display: none;\n",
              "      fill: #1967D2;\n",
              "      height: 32px;\n",
              "      padding: 0 0 0 0;\n",
              "      width: 32px;\n",
              "    }\n",
              "\n",
              "    .colab-df-convert:hover {\n",
              "      background-color: #E2EBFA;\n",
              "      box-shadow: 0px 1px 2px rgba(60, 64, 67, 0.3), 0px 1px 3px 1px rgba(60, 64, 67, 0.15);\n",
              "      fill: #174EA6;\n",
              "    }\n",
              "\n",
              "    [theme=dark] .colab-df-convert {\n",
              "      background-color: #3B4455;\n",
              "      fill: #D2E3FC;\n",
              "    }\n",
              "\n",
              "    [theme=dark] .colab-df-convert:hover {\n",
              "      background-color: #434B5C;\n",
              "      box-shadow: 0px 1px 3px 1px rgba(0, 0, 0, 0.15);\n",
              "      filter: drop-shadow(0px 1px 2px rgba(0, 0, 0, 0.3));\n",
              "      fill: #FFFFFF;\n",
              "    }\n",
              "  </style>\n",
              "\n",
              "      <script>\n",
              "        const buttonEl =\n",
              "          document.querySelector('#df-75d74215-a5c7-4519-b4c1-58bd6c286300 button.colab-df-convert');\n",
              "        buttonEl.style.display =\n",
              "          google.colab.kernel.accessAllowed ? 'block' : 'none';\n",
              "\n",
              "        async function convertToInteractive(key) {\n",
              "          const element = document.querySelector('#df-75d74215-a5c7-4519-b4c1-58bd6c286300');\n",
              "          const dataTable =\n",
              "            await google.colab.kernel.invokeFunction('convertToInteractive',\n",
              "                                                     [key], {});\n",
              "          if (!dataTable) return;\n",
              "\n",
              "          const docLinkHtml = 'Like what you see? Visit the ' +\n",
              "            '<a target=\"_blank\" href=https://colab.research.google.com/notebooks/data_table.ipynb>data table notebook</a>'\n",
              "            + ' to learn more about interactive tables.';\n",
              "          element.innerHTML = '';\n",
              "          dataTable['output_type'] = 'display_data';\n",
              "          await google.colab.output.renderOutput(dataTable, element);\n",
              "          const docLink = document.createElement('div');\n",
              "          docLink.innerHTML = docLinkHtml;\n",
              "          element.appendChild(docLink);\n",
              "        }\n",
              "      </script>\n",
              "    </div>\n",
              "  </div>\n",
              "  "
            ],
            "text/plain": [
              "   chroma_stft  chroma_cens      rmse  ...    mfcc37    mfcc38    mfcc39\n",
              "0    -0.932387     0.410394  0.917044  ... -0.286402  0.080649  0.022040\n",
              "1     0.185409     0.630728 -1.026105  ...  0.345773  0.030241  0.172938\n",
              "2     0.415934     0.561728 -1.041425  ...  0.860877  0.506007 -0.040799\n",
              "3    -0.244350     0.495143 -1.015921  ... -0.148015 -0.331287 -0.269912\n",
              "4     0.390109     0.438449 -1.038150  ...  0.732839  0.491145  0.092003\n",
              "\n",
              "[5 rows x 50 columns]"
            ]
          },
          "metadata": {},
          "execution_count": 4
        }
      ],
      "source": [
        "#normalization (helps with exploding gradient); good as we are mixing a lot of datasets\n",
        "\n",
        "mean = np.mean(X_train,axis=0)\n",
        "std = np.std(X_train, axis=0)\n",
        "\n",
        "X_train =( X_train - mean)/std\n",
        "X_test = (X_test - mean)/std\n",
        "\n",
        "#data after normalization\n",
        "X_train.head()"
      ]
    },
    {
      "cell_type": "code",
      "execution_count": 5,
      "metadata": {
        "colab": {
          "base_uri": "https://localhost:8080/"
        },
        "id": "mzgzcnnpvpUM",
        "outputId": "91ae8a36-d1bb-4e78-985e-c4450d615725"
      },
      "outputs": [
        {
          "output_type": "stream",
          "name": "stdout",
          "text": [
            "(7079, 50)\n",
            "[0 1 2 3 4 5 6 7 8 9]\n"
          ]
        },
        {
          "output_type": "stream",
          "name": "stderr",
          "text": [
            "/usr/local/lib/python3.7/dist-packages/sklearn/preprocessing/_label.py:115: DataConversionWarning: A column-vector y was passed when a 1d array was expected. Please change the shape of y to (n_samples, ), for example using ravel().\n",
            "  y = column_or_1d(y, warn=True)\n"
          ]
        }
      ],
      "source": [
        "#formating the data for keras\n",
        "X_train = np.array(X_train)\n",
        "X_test = np.array(X_test)\n",
        "y_train = np.array(y_train)\n",
        "y_test = np.array(y_test)\n",
        "\n",
        "\n",
        "#one hot encoding the target\n",
        "le = LabelEncoder()\n",
        "\n",
        "y_train = to_categorical(le.fit_transform(y_train))\n",
        "y_test = to_categorical(le.fit_transform(y_test))\n",
        "\n",
        "print(X_train.shape)\n",
        "print(le.classes_)\n",
        "\n",
        "#pickel the le object for future use\n",
        "filename = 'labels_usc'\n",
        "outfile = open(filename, 'wb')\n",
        "pickle.dump(le, outfile)\n",
        "outfile.close()\n",
        "\n"
      ]
    },
    {
      "cell_type": "markdown",
      "metadata": {
        "id": "rdDZdCgMvpUO"
      },
      "source": [
        "# Modelling"
      ]
    },
    {
      "cell_type": "code",
      "execution_count": 6,
      "metadata": {
        "colab": {
          "base_uri": "https://localhost:8080/"
        },
        "id": "2Ppr5LOlvpUP",
        "outputId": "a5d3b787-06be-44d8-f8dd-7a52b9b53044"
      },
      "outputs": [
        {
          "output_type": "stream",
          "name": "stdout",
          "text": [
            "Model: \"sequential_1\"\n",
            "_________________________________________________________________\n",
            " Layer (type)                Output Shape              Param #   \n",
            "=================================================================\n",
            " dense (Dense)               (None, 1024)              52224     \n",
            "                                                                 \n",
            " dense_1 (Dense)             (None, 512)               524800    \n",
            "                                                                 \n",
            " dense_2 (Dense)             (None, 256)               131328    \n",
            "                                                                 \n",
            " dense_3 (Dense)             (None, 128)               32896     \n",
            "                                                                 \n",
            " dense_4 (Dense)             (None, 64)                8256      \n",
            "                                                                 \n",
            " dense_5 (Dense)             (None, 32)                2080      \n",
            "                                                                 \n",
            " dense_6 (Dense)             (None, 10)                330       \n",
            "                                                                 \n",
            "=================================================================\n",
            "Total params: 751,914\n",
            "Trainable params: 751,914\n",
            "Non-trainable params: 0\n",
            "_________________________________________________________________\n"
          ]
        }
      ],
      "source": [
        "#builing our ANN model\n",
        "\n",
        "model = Sequential()\n",
        "\n",
        "model = Sequential()\n",
        "model.add(layers.Dense(1024, activation='relu', input_shape=(X_train.shape[1],)))\n",
        "model.add(layers.Dense(512, activation='relu'))\n",
        "model.add(layers.Dense(256, activation='relu'))\n",
        "model.add(layers.Dense(128, activation='relu'))\n",
        "model.add(layers.Dense(64, activation='relu'))\n",
        "model.add(layers.Dense(32, activation='relu'))\n",
        "model.add(layers.Dense(10, activation='softmax'))\n",
        "\n",
        "opt_sgd = tf.keras.optimizers.SGD(learning_rate=0.0001, momentum=0.0, decay=0.0, nesterov=False)\n",
        "opt_adam = tf.keras.optimizers.Adam(learning_rate=0.0001)\n",
        "opt_rmp = tensorflow.keras.optimizers.RMSprop(learning_rate=0.00001, decay=1e-6)\n",
        "model.summary()"
      ]
    },
    {
      "cell_type": "code",
      "execution_count": 7,
      "metadata": {
        "colab": {
          "base_uri": "https://localhost:8080/"
        },
        "id": "5bmURlJfvpUS",
        "outputId": "0c7b0eb0-b41d-4597-d378-94e2f3310427"
      },
      "outputs": [
        {
          "output_type": "stream",
          "name": "stdout",
          "text": [
            "Epoch 1/20\n",
            "\n",
            "Epoch 00001: val_accuracy improved from -inf to 0.51059, saving model to up/usc_8020_DNN_all.h5\n",
            "222/222 - 4s - loss: 1.6420 - accuracy: 0.4546 - val_loss: 1.4316 - val_accuracy: 0.5106 - 4s/epoch - 18ms/step\n",
            "Epoch 2/20\n",
            "\n",
            "Epoch 00002: val_accuracy improved from 0.51059 to 0.59226, saving model to up/usc_8020_DNN_all.h5\n",
            "222/222 - 3s - loss: 0.8562 - accuracy: 0.7445 - val_loss: 1.3204 - val_accuracy: 0.5923 - 3s/epoch - 13ms/step\n",
            "Epoch 3/20\n",
            "\n",
            "Epoch 00003: val_accuracy did not improve from 0.59226\n",
            "222/222 - 3s - loss: 0.5585 - accuracy: 0.8395 - val_loss: 1.4507 - val_accuracy: 0.5747 - 3s/epoch - 13ms/step\n",
            "Epoch 4/20\n",
            "\n",
            "Epoch 00004: val_accuracy improved from 0.59226 to 0.59952, saving model to up/usc_8020_DNN_all.h5\n",
            "222/222 - 3s - loss: 0.3954 - accuracy: 0.8843 - val_loss: 1.4774 - val_accuracy: 0.5995 - 3s/epoch - 13ms/step\n",
            "Epoch 5/20\n",
            "\n",
            "Epoch 00005: val_accuracy improved from 0.59952 to 0.61404, saving model to up/usc_8020_DNN_all.h5\n",
            "222/222 - 3s - loss: 0.2913 - accuracy: 0.9151 - val_loss: 1.5411 - val_accuracy: 0.6140 - 3s/epoch - 12ms/step\n",
            "Epoch 6/20\n",
            "\n",
            "Epoch 00006: val_accuracy did not improve from 0.61404\n",
            "222/222 - 3s - loss: 0.2196 - accuracy: 0.9381 - val_loss: 1.7338 - val_accuracy: 0.6104 - 3s/epoch - 13ms/step\n",
            "Epoch 7/20\n",
            "\n",
            "Epoch 00007: val_accuracy did not improve from 0.61404\n",
            "222/222 - 3s - loss: 0.1703 - accuracy: 0.9524 - val_loss: 1.9025 - val_accuracy: 0.5844 - 3s/epoch - 13ms/step\n",
            "Epoch 8/20\n",
            "\n",
            "Epoch 00008: val_accuracy did not improve from 0.61404\n",
            "222/222 - 3s - loss: 0.1346 - accuracy: 0.9652 - val_loss: 1.9266 - val_accuracy: 0.5953 - 3s/epoch - 13ms/step\n",
            "Epoch 9/20\n",
            "\n",
            "Epoch 00009: val_accuracy did not improve from 0.61404\n",
            "222/222 - 3s - loss: 0.1099 - accuracy: 0.9733 - val_loss: 2.0246 - val_accuracy: 0.6044 - 3s/epoch - 13ms/step\n",
            "Epoch 10/20\n",
            "\n",
            "Epoch 00010: val_accuracy improved from 0.61404 to 0.61827, saving model to up/usc_8020_DNN_all.h5\n",
            "222/222 - 3s - loss: 0.0855 - accuracy: 0.9792 - val_loss: 1.8287 - val_accuracy: 0.6183 - 3s/epoch - 13ms/step\n",
            "Epoch 11/20\n",
            "\n",
            "Epoch 00011: val_accuracy did not improve from 0.61827\n",
            "222/222 - 3s - loss: 0.0675 - accuracy: 0.9833 - val_loss: 2.1564 - val_accuracy: 0.6001 - 3s/epoch - 13ms/step\n",
            "Epoch 12/20\n",
            "\n",
            "Epoch 00012: val_accuracy did not improve from 0.61827\n",
            "222/222 - 3s - loss: 0.0536 - accuracy: 0.9886 - val_loss: 2.2784 - val_accuracy: 0.5935 - 3s/epoch - 13ms/step\n",
            "Epoch 13/20\n",
            "\n",
            "Epoch 00013: val_accuracy did not improve from 0.61827\n",
            "222/222 - 3s - loss: 0.0454 - accuracy: 0.9908 - val_loss: 2.3259 - val_accuracy: 0.5941 - 3s/epoch - 13ms/step\n",
            "Epoch 14/20\n",
            "\n",
            "Epoch 00014: val_accuracy did not improve from 0.61827\n",
            "222/222 - 3s - loss: 0.0362 - accuracy: 0.9925 - val_loss: 2.5296 - val_accuracy: 0.5917 - 3s/epoch - 13ms/step\n",
            "Epoch 15/20\n",
            "\n",
            "Epoch 00015: val_accuracy did not improve from 0.61827\n",
            "222/222 - 3s - loss: 0.0288 - accuracy: 0.9949 - val_loss: 2.5180 - val_accuracy: 0.5826 - 3s/epoch - 12ms/step\n",
            "Epoch 16/20\n",
            "\n",
            "Epoch 00016: val_accuracy did not improve from 0.61827\n",
            "222/222 - 3s - loss: 0.0294 - accuracy: 0.9939 - val_loss: 2.6801 - val_accuracy: 0.5886 - 3s/epoch - 13ms/step\n",
            "Epoch 17/20\n",
            "\n",
            "Epoch 00017: val_accuracy did not improve from 0.61827\n",
            "222/222 - 3s - loss: 0.0217 - accuracy: 0.9958 - val_loss: 2.5105 - val_accuracy: 0.6086 - 3s/epoch - 14ms/step\n",
            "Epoch 18/20\n",
            "\n",
            "Epoch 00018: val_accuracy did not improve from 0.61827\n",
            "222/222 - 3s - loss: 0.0237 - accuracy: 0.9949 - val_loss: 2.8810 - val_accuracy: 0.5741 - 3s/epoch - 13ms/step\n",
            "Epoch 19/20\n",
            "\n",
            "Epoch 00019: val_accuracy did not improve from 0.61827\n",
            "222/222 - 3s - loss: 0.0399 - accuracy: 0.9893 - val_loss: 2.5144 - val_accuracy: 0.5971 - 3s/epoch - 13ms/step\n",
            "Epoch 20/20\n",
            "\n",
            "Epoch 00020: val_accuracy did not improve from 0.61827\n",
            "222/222 - 3s - loss: 0.0172 - accuracy: 0.9965 - val_loss: 2.8000 - val_accuracy: 0.5977 - 3s/epoch - 13ms/step\n"
          ]
        }
      ],
      "source": [
        "model.compile(loss='categorical_crossentropy', optimizer=opt_adam, metrics=['accuracy'])\n",
        "\n",
        "checkpoint = ModelCheckpoint('up/usc_8020_DNN_all.h5', verbose=1, monitor='val_accuracy',save_best_only=True, mode='auto')  \n",
        "\n",
        "model_history = model.fit(X_train, y_train,validation_data=(X_test, y_test), epochs=20, batch_size=32, verbose=2, callbacks=[checkpoint])"
      ]
    },
    {
      "cell_type": "code",
      "execution_count": 8,
      "metadata": {
        "colab": {
          "base_uri": "https://localhost:8080/",
          "height": 312
        },
        "id": "jRvkhzfOvpUT",
        "outputId": "dedc5bf4-eac9-4c51-c915-8512b51203c4"
      },
      "outputs": [
        {
          "output_type": "execute_result",
          "data": {
            "text/plain": [
              "<function matplotlib.pyplot.show>"
            ]
          },
          "metadata": {},
          "execution_count": 8
        },
        {
          "output_type": "display_data",
          "data": {
            "image/png": "[encoded data removed]",
            "text/plain": [
              "<Figure size 432x288 with 1 Axes>"
            ]
          },
          "metadata": {
            "needs_background": "light"
          }
        }
      ],
      "source": [
        "#plotting the loss\n",
        "plt.plot(model_history.history['accuracy'])\n",
        "plt.plot(model_history.history['val_accuracy'])\n",
        "plt.title('model loss')\n",
        "plt.ylabel('loss')\n",
        "plt.xlabel('epoch')\n",
        "plt.legend(['train','test'], loc='upper right')\n",
        "plt.show"
      ]
    },
    {
      "cell_type": "markdown",
      "metadata": {
        "id": "KnYI7V-5vpUV"
      },
      "source": [
        "# Model Serialisation (saving the model)"
      ]
    },
    {
      "cell_type": "code",
      "execution_count": 9,
      "metadata": {
        "id": "gqCyYnu9vpUW"
      },
      "outputs": [],
      "source": [
        "#save model to disk \n",
        "model_json = model.to_json()\n",
        "with open('up/usc_8020_DNN_all.json','w') as json_file:\n",
        "    json_file.write(model_json)"
      ]
    },
    {
      "cell_type": "markdown",
      "metadata": {
        "id": "94kasnEQvpUW"
      },
      "source": [
        "# Model Validation\n"
      ]
    },
    {
      "cell_type": "code",
      "execution_count": 10,
      "metadata": {
        "colab": {
          "base_uri": "https://localhost:8080/"
        },
        "id": "qyYtMhA_vpUX",
        "outputId": "b4dd9c07-cbd0-4828-bfd0-e383da824979"
      },
      "outputs": [
        {
          "output_type": "stream",
          "name": "stdout",
          "text": [
            "Loaded model from disk\n",
            "52/52 [==============================] - 0s 4ms/step - loss: 1.8287 - accuracy: 0.6183\n",
            "accuracy: 61.83%\n"
          ]
        }
      ],
      "source": [
        "#loading the json file and model architecture\n",
        "json_file = open('up/usc_8020_DNN_all.json', 'r')\n",
        "loaded_model_json = json_file.read()\n",
        "json_file.close()\n",
        "loaded_model = model_from_json(loaded_model_json)\n",
        "\n",
        "#load weights into the new mode\n",
        "loaded_model.load_weights('up/usc_8020_DNN_all.h5')\n",
        "print('Loaded model from disk')\n",
        "\n",
        "loaded_model.compile(loss='categorical_crossentropy', optimizer=opt_adam, metrics =['accuracy'])\n",
        "\n",
        "score = loaded_model.evaluate(X_test, y_test)\n",
        "print(\"%s: %.2f%%\" %(loaded_model.metrics_names[1], score[1]*100))"
      ]
    },
    {
      "cell_type": "code",
      "execution_count": 11,
      "metadata": {
        "colab": {
          "base_uri": "https://localhost:8080/"
        },
        "id": "R0WOvAwhvpUY",
        "outputId": "865fea84-013b-42dc-af59-0873cb0bfeb7"
      },
      "outputs": [
        {
          "output_type": "stream",
          "name": "stdout",
          "text": [
            "1653/1653 [==============================] - 3s 2ms/step\n"
          ]
        },
        {
          "output_type": "execute_result",
          "data": {
            "text/plain": [
              "array([9, 9, 9, ..., 2, 2, 2])"
            ]
          },
          "metadata": {},
          "execution_count": 11
        }
      ],
      "source": [
        "preds = loaded_model.predict(X_test, batch_size=1, verbose=1)\n",
        "preds = preds.argmax(axis=1)\n",
        "preds"
      ]
    },
    {
      "cell_type": "code",
      "execution_count": 12,
      "metadata": {
        "colab": {
          "base_uri": "https://localhost:8080/",
          "height": 206
        },
        "id": "O3qDzZakvpUZ",
        "outputId": "5ae120ef-4715-476e-84eb-68add9d42735"
      },
      "outputs": [
        {
          "output_type": "execute_result",
          "data": {
            "text/html": [
              "\n",
              "  <div id=\"df-909ff8d6-0300-4664-acae-ebd2927f59ed\">\n",
              "    <div class=\"colab-df-container\">\n",
              "      <div>\n",
              "<style scoped>\n",
              "    .dataframe tbody tr th:only-of-type {\n",
              "        vertical-align: middle;\n",
              "    }\n",
              "\n",
              "    .dataframe tbody tr th {\n",
              "        vertical-align: top;\n",
              "    }\n",
              "\n",
              "    .dataframe thead th {\n",
              "        text-align: right;\n",
              "    }\n",
              "</style>\n",
              "<table border=\"1\" class=\"dataframe\">\n",
              "  <thead>\n",
              "    <tr style=\"text-align: right;\">\n",
              "      <th></th>\n",
              "      <th>actual_values</th>\n",
              "      <th>predicted_values</th>\n",
              "    </tr>\n",
              "  </thead>\n",
              "  <tbody>\n",
              "    <tr>\n",
              "      <th>0</th>\n",
              "      <td>1</td>\n",
              "      <td>9</td>\n",
              "    </tr>\n",
              "    <tr>\n",
              "      <th>1</th>\n",
              "      <td>1</td>\n",
              "      <td>9</td>\n",
              "    </tr>\n",
              "    <tr>\n",
              "      <th>2</th>\n",
              "      <td>1</td>\n",
              "      <td>9</td>\n",
              "    </tr>\n",
              "    <tr>\n",
              "      <th>3</th>\n",
              "      <td>1</td>\n",
              "      <td>3</td>\n",
              "    </tr>\n",
              "    <tr>\n",
              "      <th>4</th>\n",
              "      <td>1</td>\n",
              "      <td>9</td>\n",
              "    </tr>\n",
              "  </tbody>\n",
              "</table>\n",
              "</div>\n",
              "      <button class=\"colab-df-convert\" onclick=\"convertToInteractive('df-909ff8d6-0300-4664-acae-ebd2927f59ed')\"\n",
              "              title=\"Convert this dataframe to an interactive table.\"\n",
              "              style=\"display:none;\">\n",
              "        \n",
              "  <svg xmlns=\"http://www.w3.org/2000/svg\" height=\"24px\"viewBox=\"0 0 24 24\"\n",
              "       width=\"24px\">\n",
              "    <path d=\"M0 0h24v24H0V0z\" fill=\"none\"/>\n",
              "    <path d=\"M18.56 5.44l.94 2.06.94-2.06 2.06-.94-2.06-.94-.94-2.06-.94 2.06-2.06.94zm-11 1L8.5 8.5l.94-2.06 2.06-.94-2.06-.94L8.5 2.5l-.94 2.06-2.06.94zm10 10l.94 2.06.94-2.06 2.06-.94-2.06-.94-.94-2.06-.94 2.06-2.06.94z\"/><path d=\"M17.41 7.96l-1.37-1.37c-.4-.4-.92-.59-1.43-.59-.52 0-1.04.2-1.43.59L10.3 9.45l-7.72 7.72c-.78.78-.78 2.05 0 2.83L4 21.41c.39.39.9.59 1.41.59.51 0 1.02-.2 1.41-.59l7.78-7.78 2.81-2.81c.8-.78.8-2.07 0-2.86zM5.41 20L4 18.59l7.72-7.72 1.47 1.35L5.41 20z\"/>\n",
              "  </svg>\n",
              "      </button>\n",
              "      \n",
              "  <style>\n",
              "    .colab-df-container {\n",
              "      display:flex;\n",
              "      flex-wrap:wrap;\n",
              "      gap: 12px;\n",
              "    }\n",
              "\n",
              "    .colab-df-convert {\n",
              "      background-color: #E8F0FE;\n",
              "      border: none;\n",
              "      border-radius: 50%;\n",
              "      cursor: pointer;\n",
              "      display: none;\n",
              "      fill: #1967D2;\n",
              "      height: 32px;\n",
              "      padding: 0 0 0 0;\n",
              "      width: 32px;\n",
              "    }\n",
              "\n",
              "    .colab-df-convert:hover {\n",
              "      background-color: #E2EBFA;\n",
              "      box-shadow: 0px 1px 2px rgba(60, 64, 67, 0.3), 0px 1px 3px 1px rgba(60, 64, 67, 0.15);\n",
              "      fill: #174EA6;\n",
              "    }\n",
              "\n",
              "    [theme=dark] .colab-df-convert {\n",
              "      background-color: #3B4455;\n",
              "      fill: #D2E3FC;\n",
              "    }\n",
              "\n",
              "    [theme=dark] .colab-df-convert:hover {\n",
              "      background-color: #434B5C;\n",
              "      box-shadow: 0px 1px 3px 1px rgba(0, 0, 0, 0.15);\n",
              "      filter: drop-shadow(0px 1px 2px rgba(0, 0, 0, 0.3));\n",
              "      fill: #FFFFFF;\n",
              "    }\n",
              "  </style>\n",
              "\n",
              "      <script>\n",
              "        const buttonEl =\n",
              "          document.querySelector('#df-909ff8d6-0300-4664-acae-ebd2927f59ed button.colab-df-convert');\n",
              "        buttonEl.style.display =\n",
              "          google.colab.kernel.accessAllowed ? 'block' : 'none';\n",
              "\n",
              "        async function convertToInteractive(key) {\n",
              "          const element = document.querySelector('#df-909ff8d6-0300-4664-acae-ebd2927f59ed');\n",
              "          const dataTable =\n",
              "            await google.colab.kernel.invokeFunction('convertToInteractive',\n",
              "                                                     [key], {});\n",
              "          if (!dataTable) return;\n",
              "\n",
              "          const docLinkHtml = 'Like what you see? Visit the ' +\n",
              "            '<a target=\"_blank\" href=https://colab.research.google.com/notebooks/data_table.ipynb>data table notebook</a>'\n",
              "            + ' to learn more about interactive tables.';\n",
              "          element.innerHTML = '';\n",
              "          dataTable['output_type'] = 'display_data';\n",
              "          await google.colab.output.renderOutput(dataTable, element);\n",
              "          const docLink = document.createElement('div');\n",
              "          docLink.innerHTML = docLinkHtml;\n",
              "          element.appendChild(docLink);\n",
              "        }\n",
              "      </script>\n",
              "    </div>\n",
              "  </div>\n",
              "  "
            ],
            "text/plain": [
              "   actual_values  predicted_values\n",
              "0              1                 9\n",
              "1              1                 9\n",
              "2              1                 9\n",
              "3              1                 3\n",
              "4              1                 9"
            ]
          },
          "metadata": {},
          "execution_count": 12
        }
      ],
      "source": [
        "#The prediction is in the form of numbers, we'll need to append the labels to it before we run the accuracy measure\n",
        "\n",
        "#predictions\n",
        "#preds = preds.astype(int).flatten()\n",
        "preds = le.inverse_transform(preds)\n",
        "preds= pd.DataFrame({'predicted_values': preds})\n",
        "\n",
        "#Actual labels\n",
        "\n",
        "actual = y_test.argmax(axis=1)\n",
        "#actual = actual.astype(int).flatten()\n",
        "actual = le.inverse_transform(actual)\n",
        "actual = pd.DataFrame({'actual_values': actual})\n",
        "\n",
        "#combine both in one dataframe\n",
        "final_df = actual.join(preds)\n",
        "final_df.head()"
      ]
    },
    {
      "cell_type": "code",
      "execution_count": 13,
      "metadata": {
        "colab": {
          "base_uri": "https://localhost:8080/",
          "height": 352
        },
        "id": "jbjX2D29vpUa",
        "outputId": "ec45ab7c-9f2c-4c59-fc74-e3d77f01d5f0"
      },
      "outputs": [
        {
          "output_type": "execute_result",
          "data": {
            "text/plain": [
              "[]"
            ]
          },
          "metadata": {},
          "execution_count": 13
        },
        {
          "output_type": "display_data",
          "data": {
            "image/png": "[encoded data removed]",
            "text/plain": [
              "<Figure size 1440x360 with 1 Axes>"
            ]
          },
          "metadata": {
            "needs_background": "light"
          }
        }
      ],
      "source": [
        "#write out predictions to disk\n",
        "#final_df.to_csv('usc_8020_DNN_pred.csv', index=False)\n",
        "ddf = final_df.groupby('predicted_values')['actual_values'].value_counts()\n",
        "#final_df.groupby('actual_values').count()\n",
        "\n",
        "ax = ddf.unstack().plot(kind='bar',figsize=(20,5), rot = 0)\n",
        "ax.legend(bbox_to_anchor=(1.0, 1.0))\n",
        "ax.plot()"
      ]
    },
    {
      "cell_type": "code",
      "execution_count": 14,
      "metadata": {
        "colab": {
          "base_uri": "https://localhost:8080/"
        },
        "id": "-l-n2GzkvpUb",
        "outputId": "78a15990-b01d-4560-9da8-0cebe82daeae"
      },
      "outputs": [
        {
          "output_type": "stream",
          "name": "stdout",
          "text": [
            "              precision    recall  f1-score   support\n",
            "\n",
            "           0       0.56      0.23      0.33       200\n",
            "           1       0.84      0.82      0.83        65\n",
            "           2       0.58      0.69      0.63       200\n",
            "           3       0.64      0.68      0.66       200\n",
            "           4       0.53      0.55      0.54       200\n",
            "           5       0.72      0.47      0.57       182\n",
            "           6       0.57      0.78      0.66        63\n",
            "           7       0.75      0.71      0.73       178\n",
            "           8       0.74      0.76      0.75       165\n",
            "           9       0.50      0.76      0.60       200\n",
            "\n",
            "    accuracy                           0.62      1653\n",
            "   macro avg       0.64      0.64      0.63      1653\n",
            "weighted avg       0.63      0.62      0.61      1653\n",
            "\n"
          ]
        }
      ],
      "source": [
        "#Classification report\n",
        "classes = final_df.actual_values.unique()\n",
        "classes.sort()\n",
        "print(classification_report(final_df.actual_values, final_df.predicted_values))"
      ]
    },
    {
      "cell_type": "code",
      "execution_count": 15,
      "metadata": {
        "id": "jp2pAbL0vpUb"
      },
      "outputs": [],
      "source": [
        "\n",
        "k_df = final_df.copy()\n",
        "k_df = k_df.astype(str)\n",
        "k_df['actual_values'] = k_df.actual_values.replace({          \n",
        "                                        '0.0' :   'air_conditioner',\n",
        "                                        '1.0' :  'car_horn',\n",
        "                                        '2.0' :  'children_playing',\n",
        "                                        '3.0' :  'dog_bark' ,      \n",
        "                                        '4.0' :  'drilling',       \n",
        "                                        '5.0' :  'engine_idling',  \n",
        "                                        '6.0' :  'gun_shot',\n",
        "                                        '7.0' :  'jackhammer',     \n",
        "                                        '8.0' :  'siren', \n",
        "                                        '9.0' :  'street_music'\n",
        "                                                         })\n",
        "k_df['predicted_values'] = k_df.predicted_values.replace({\n",
        "                                        '0.0' :   'air_conditioner',\n",
        "                                        '1.0' :  'car_horn',\n",
        "                                        '2.0' :  'children_playing',\n",
        "                                        '3.0' :  'dog_bark' ,      \n",
        "                                        '4.0' :  'drilling',       \n",
        "                                        '5.0' :  'engine_idling',  \n",
        "                                        '6.0' :  'gun_shot',\n",
        "                                        '7.0' :  'jackhammer',     \n",
        "                                        '8.0' :  'siren', \n",
        "                                        '9.0' :  'street_music'\n",
        "                                                         })\n",
        "\n",
        "\n",
        "classes = k_df.actual_values.unique()\n",
        "classes.sort()"
      ]
    },
    {
      "cell_type": "code",
      "execution_count": 16,
      "metadata": {
        "colab": {
          "base_uri": "https://localhost:8080/"
        },
        "id": "y0qp2rSzvpUc",
        "outputId": "e96b7b88-cf7e-4db3-d4d8-149d2bc8fb26"
      },
      "outputs": [
        {
          "output_type": "execute_result",
          "data": {
            "text/plain": [
              "2    200\n",
              "9    200\n",
              "0    200\n",
              "3    200\n",
              "4    200\n",
              "5    182\n",
              "7    178\n",
              "8    165\n",
              "1     65\n",
              "6     63\n",
              "Name: actual_values, dtype: int64"
            ]
          },
          "metadata": {},
          "execution_count": 16
        }
      ],
      "source": [
        "#k_df = k_df.astype(str)\n",
        "\n",
        "k_df.actual_values.value_counts()\n"
      ]
    },
    {
      "cell_type": "code",
      "execution_count": 17,
      "metadata": {
        "scrolled": false,
        "colab": {
          "base_uri": "https://localhost:8080/",
          "height": 697
        },
        "id": "NNpx87YEvpUd",
        "outputId": "e2a639c0-8fa9-499b-c5b2-c081d580d8c9"
      },
      "outputs": [
        {
          "output_type": "stream",
          "name": "stderr",
          "text": [
            "findfont: Font family ['NanumGothic'] not found. Falling back to DejaVu Sans.\n"
          ]
        },
        {
          "output_type": "stream",
          "name": "stdout",
          "text": [
            "0.6182698124621899\n"
          ]
        },
        {
          "output_type": "stream",
          "name": "stderr",
          "text": [
            "findfont: Font family ['NanumGothic'] not found. Falling back to DejaVu Sans.\n"
          ]
        },
        {
          "output_type": "display_data",
          "data": {
            "image/png": "[encoded data removed]",
            "text/plain": [
              "<Figure size 1080x720 with 2 Axes>"
            ]
          },
          "metadata": {
            "needs_background": "light"
          }
        }
      ],
      "source": [
        "#final_df = pd.read_csv(\"kr_13_p.csv\")\n",
        "classes = k_df.actual_values.unique()\n",
        "classes.sort()\n",
        "\n",
        "#confusion matrix\n",
        "c = confusion_matrix(k_df.actual_values, k_df.predicted_values)\n",
        "print(accuracy_score(k_df.actual_values, k_df.predicted_values))\n",
        "make_confusion_matrix(c, group_names=['True Values','Predicted Value'], categories=classes, figsize =(15,10), title='Urban Sound Classification_8020_DNN')"
      ]
    },
    {
      "cell_type": "code",
      "execution_count": 17,
      "metadata": {
        "id": "Km3_08yuvpUe"
      },
      "outputs": [],
      "source": [
        ""
      ]
    }
  ],
  "metadata": {
    "interpreter": {
      "hash": "f7683a7f777909b12b9dba625a5b210f0c2b8f5f0928a0c53def8c253f8296f8"
    },
    "kernelspec": {
      "display_name": "sg_tensorflowTTS_new",
      "language": "python",
      "name": "python3"
    },
    "language_info": {
      "codemirror_mode": {
        "name": "ipython",
        "version": 3
      },
      "file_extension": ".py",
      "mimetype": "text/x-python",
      "name": "python",
      "nbconvert_exporter": "python",
      "pygments_lexer": "ipython3",
      "version": "3.7.10"
    },
    "colab": {
      "name": "usc_8020_DNN_all.ipynb",
      "provenance": [],
      "include_colab_link": true
    }
  },
  "nbformat": 4,
  "nbformat_minor": 0
}