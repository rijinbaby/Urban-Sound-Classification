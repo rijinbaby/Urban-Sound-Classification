{
  "nbformat": 4,
  "nbformat_minor": 0,
  "metadata": {
    "colab": {
      "name": "usc_5050_DNN_all_aug.ipynb",
      "provenance": [],
      "authorship_tag": "ABX9TyMba2hMyaBSMXHrF9yu4+xX",
      "include_colab_link": true
    },
    "kernelspec": {
      "name": "python3",
      "display_name": "Python 3"
    },
    "language_info": {
      "name": "python"
    }
  },
  "cells": [
    {
      "cell_type": "markdown",
      "metadata": {
        "id": "view-in-github",
        "colab_type": "text"
      },
      "source": [
        "<a href=\"https://colab.research.google.com/github/rijinbaby/Urban-Sound-Classification/blob/main/usc_5050_DNN_all_aug.ipynb\" target=\"_parent\"><img src=\"https://colab.research.google.com/assets/colab-badge.svg\" alt=\"Open In Colab\"/></a>"
      ]
    },
    {
      "cell_type": "code",
      "execution_count": null,
      "metadata": {
        "id": "CsINib1rreze"
      },
      "outputs": [],
      "source": [
        "#importing required libraries\n",
        "#Keras\n",
        "import tensorflow.keras\n",
        "from tensorflow.keras import regularizers, layers\n",
        "from tensorflow.keras.preprocessing import sequence\n",
        "from tensorflow.keras.preprocessing.text import Tokenizer\n",
        "from tensorflow.keras.preprocessing.sequence import pad_sequences\n",
        "from tensorflow.keras.models import Sequential, Model, model_from_json\n",
        "from tensorflow.keras.layers import Dense, Embedding, LSTM\n",
        "from tensorflow.keras.layers import Input, Flatten, Dropout, Activation, BatchNormalization\n",
        "from tensorflow.keras.layers import Conv1D, MaxPooling1D, AveragePooling1D\n",
        "from tensorflow.keras.utils import to_categorical\n",
        "from tensorflow.keras.callbacks import ModelCheckpoint\n",
        "\n",
        "#sklearn\n",
        "from sklearn.metrics import confusion_matrix, accuracy_score, classification_report\n",
        "from sklearn.model_selection import train_test_split\n",
        "from sklearn.preprocessing import LabelEncoder\n",
        "\n",
        "#Others\n",
        "import librosa\n",
        "import librosa.display\n",
        "import json\n",
        "import numpy as np\n",
        "import matplotlib.pyplot as plt\n",
        "from matplotlib.pyplot import specgram\n",
        "import tensorflow as tf\n",
        "import pandas as pd\n",
        "import seaborn as sns\n",
        "import glob\n",
        "import os\n",
        "import pickle\n",
        "import IPython.display as ipd\n",
        "import csv\n",
        "from tqdm import tqdm\n",
        "import os\n",
        "os.environ[\"CUDA_VISIBLE_DEVICES\"]=\"0\"\n",
        "tf_device='/gpu:0'"
      ]
    },
    {
      "cell_type": "markdown",
      "source": [
        "# **Confusion matrix**"
      ],
      "metadata": {
        "id": "JUl3teTYr_lZ"
      }
    },
    {
      "cell_type": "code",
      "source": [
        "def make_confusion_matrix(cf,\n",
        "                          group_names=None,\n",
        "                          categories='auto',\n",
        "                          count=True,\n",
        "                          percent=True,\n",
        "                          cbar=True,\n",
        "                          xyticks=True,\n",
        "                          xyplotlabels=True,\n",
        "                          sum_stats=True,\n",
        "                          figsize=None,\n",
        "                          cmap='Blues',\n",
        "                          title=None):\n",
        "    '''\n",
        "    This function will make a pretty plot of an sklearn Confusion Matrix cm using a Seaborn heatmap visualization.\n",
        "    Arguments\n",
        "    ---------\n",
        "    cf:            confusion matrix to be passed in\n",
        "    group_names:   List of strings that represent the labels row by row to be shown in each square.\n",
        "    categories:    List of strings containing the categories to be displayed on the x,y axis. Default is 'auto'\n",
        "    count:         If True, show the raw number in the confusion matrix. Default is True.\n",
        "    normalize:     If True, show the proportions for each category. Default is True.\n",
        "    cbar:          If True, show the color bar. The cbar values are based off the values in the confusion matrix.\n",
        "                   Default is True.\n",
        "    xyticks:       If True, show x and y ticks. Default is True.\n",
        "    xyplotlabels:  If True, show 'True Label' and 'Predicted Label' on the figure. Default is True.\n",
        "    sum_stats:     If True, display summary statistics below the figure. Default is True.\n",
        "    figsize:       Tuple representing the figure size. Default will be the matplotlib rcParams value.\n",
        "    cmap:          Colormap of the values displayed from matplotlib.pyplot.cm. Default is 'Blues'\n",
        "                   See http://matplotlib.org/examples/color/colormaps_reference.html\n",
        "                   \n",
        "    title:         Title for the heatmap. Default is None.\n",
        "    '''\n",
        "\n",
        "\n",
        "    # CODE TO GENERATE TEXT INSIDE EACH SQUARE\n",
        "    blanks = ['' for i in range(cf.size)]\n",
        "\n",
        "    if group_names and len(group_names)==cf.size:\n",
        "        group_labels = [\"{}\\n\".format(value) for value in group_names]\n",
        "    else:\n",
        "        group_labels = blanks\n",
        "\n",
        "    if count:\n",
        "        group_counts = [\"{0:0.0f}\\n\".format(value) for value in cf.flatten()]\n",
        "    else:\n",
        "        group_counts = blanks\n",
        "\n",
        "    if percent:\n",
        "        group_percentages = [\"{0:.2%}\".format(value) for value in cf.flatten()/np.sum(cf)]\n",
        "    else:\n",
        "        group_percentages = blanks\n",
        "\n",
        "    box_labels = [f\"{v1}{v2}{v3}\".strip() for v1, v2, v3 in zip(group_labels,group_counts,group_percentages)]\n",
        "    box_labels = np.asarray(box_labels).reshape(cf.shape[0],cf.shape[1])\n",
        "\n",
        "\n",
        "    # CODE TO GENERATE SUMMARY STATISTICS & TEXT FOR SUMMARY STATS\n",
        "    if sum_stats:\n",
        "        #Accuracy is sum of diagonal divided by total observations\n",
        "        accuracy  = np.trace(cf) / float(np.sum(cf))\n",
        "\n",
        "        #if it is a binary confusion matrix, show some more stats\n",
        "        if len(cf)==2:\n",
        "            #Metrics for Binary Confusion Matrices\n",
        "            precision = cf[1,1] / sum(cf[:,1])\n",
        "            recall    = cf[1,1] / sum(cf[1,:])\n",
        "            f1_score  = 2*precision*recall / (precision + recall)\n",
        "            stats_text = \"\\n\\nAccuracy={:0.3f}\\nPrecision={:0.3f}\\nRecall={:0.3f}\\nF1 Score={:0.3f}\".format(\n",
        "                accuracy,precision,recall,f1_score)\n",
        "        else:\n",
        "            stats_text = \"\\n\\nAccuracy={:0.3f}\".format(accuracy)\n",
        "    else:\n",
        "        stats_text = \"\"\n",
        "\n",
        "\n",
        "    # SET FIGURE PARAMETERS ACCORDING TO OTHER ARGUMENTS\n",
        "    if figsize==None:\n",
        "        #Get default figure size if not set\n",
        "        figsize = plt.rcParams.get('figure.figsize')\n",
        "\n",
        "    if xyticks==False:\n",
        "        #Do not show categories if xyticks is False\n",
        "        categories=False\n",
        "\n",
        "\n",
        "    # MAKE THE HEATMAP VISUALIZATION\n",
        "    plt.rcParams[\"font.family\"] = 'NanumGothic'\n",
        "    plt.figure(figsize=figsize)\n",
        "    sns.heatmap(cf,annot=box_labels,fmt=\"\",cmap=cmap,cbar=cbar,xticklabels=categories,yticklabels=categories)\n",
        "\n",
        "    if xyplotlabels:\n",
        "        plt.ylabel('True label')\n",
        "        plt.xlabel('Predicted label' + stats_text)\n",
        "    else:\n",
        "        plt.xlabel(stats_text)\n",
        "    \n",
        "    if title:\n",
        "        plt.title(title)\n",
        "        plt.savefig(title +'.jpg')"
      ],
      "metadata": {
        "id": "esHW7UK3r6oJ"
      },
      "execution_count": null,
      "outputs": []
    },
    {
      "cell_type": "markdown",
      "source": [
        "# Data Processing"
      ],
      "metadata": {
        "id": "ccSf0M53sFAD"
      }
    },
    {
      "cell_type": "code",
      "source": [
        "#split the dataset into train and test\n",
        "\n",
        "# X_train = pd.read_csv('X_train_5050_all_aug.csv')\n",
        "X_train = pd.read_csv('https://raw.githubusercontent.com/rijinbaby/Urban-Sound-Classification/main/Datasets/X_train_5050_all_aug.csv')\n",
        "y_train = pd.read_csv('https://raw.githubusercontent.com/rijinbaby/Urban-Sound-Classification/main/Datasets/y_train_5050_all_aug.csv')\n",
        "X_test = pd.read_csv('https://raw.githubusercontent.com/rijinbaby/Urban-Sound-Classification/main/Datasets/X_test_5050_all_aug.csv')\n",
        "y_test = pd.read_csv('https://raw.githubusercontent.com/rijinbaby/Urban-Sound-Classification/main/Datasets/y_test_5050_all_aug.csv')\n",
        "#take a peak at the data\n",
        "X_train.shape, y_train.shape, X_test.shape, y_test.shape"
      ],
      "metadata": {
        "colab": {
          "base_uri": "https://localhost:8080/"
        },
        "id": "sCBPn_nTr7tP",
        "outputId": "bb7622f4-8600-43c5-e5cd-da151c2b8073"
      },
      "execution_count": null,
      "outputs": [
        {
          "output_type": "execute_result",
          "data": {
            "text/plain": [
              "((22495, 50), (22495, 1), (4233, 51), (4233, 2))"
            ]
          },
          "metadata": {},
          "execution_count": 3
        }
      ]
    },
    {
      "cell_type": "code",
      "source": [
        "X_val =  X_test[X_test['fold_no'] == 5].iloc[:,1:51]\n",
        "y_val = y_test[y_test['fold_no']==5].iloc[:,0:1]\n",
        "\n",
        "X_test7 =  X_test[X_test['fold_no'] == 7].iloc[:,1:51]\n",
        "y_test7 = y_test[y_test['fold_no']==7].iloc[:,0:1]\n",
        "\n",
        "X_test8 =  X_test[X_test['fold_no'] == 8].iloc[:,1:51]\n",
        "y_test8 = y_test[y_test['fold_no']==8].iloc[:,0:1]\n",
        "\n",
        "X_test9 =  X_test[X_test['fold_no'] == 9].iloc[:,1:51]\n",
        "y_test9 = y_test[y_test['fold_no']==9].iloc[:,0:1]\n",
        "\n",
        "X_test10 =  X_test[X_test['fold_no'] == 10].iloc[:,1:51]\n",
        "y_test10 = y_test[y_test['fold_no']==10].iloc[:,0:1]\n",
        "\n",
        "X_test = X_test.iloc[:,1:51]"
      ],
      "metadata": {
        "id": "5dBN8g6U9gpX"
      },
      "execution_count": null,
      "outputs": []
    },
    {
      "cell_type": "code",
      "source": [
        "def model_prediction_on_folds(model):\n",
        "  fold5 = model.evaluate(X_val, y_val)\n",
        "  fold7 = model.evaluate(X_test7, y_test7)\n",
        "  fold8 = model.evaluate(X_test8, y_test8)\n",
        "  fold9 = model.evaluate(X_test9, y_test9)\n",
        "  fold10 = model.evaluate(X_test10, y_test10)\n",
        "  fold_accuracy = [fold5[1],fold7[1],fold8[1],fold9[1],fold10[1]]\n",
        "  return fold_accuracy"
      ],
      "metadata": {
        "id": "Mq2eZYXa2zlv"
      },
      "execution_count": null,
      "outputs": []
    },
    {
      "cell_type": "code",
      "source": [
        "#normalization (helps with exploding gradient); good as we are mixing a lot of datasets\n",
        "def standardization(data):\n",
        "  mean = np.mean(data,axis=0)\n",
        "  std = np.std(data, axis=0)\n",
        "  data =( data - mean)/std\n",
        "  data = np.array(data)\n",
        "  return data"
      ],
      "metadata": {
        "id": "cCQ-cMmLGkYx"
      },
      "execution_count": null,
      "outputs": []
    },
    {
      "cell_type": "code",
      "source": [
        "X_train = standardization(X_train)\n",
        "X_test = standardization(X_test)\n",
        "X_val = standardization(X_val)\n",
        "X_test7 = standardization(X_test7)\n",
        "X_test8 = standardization(X_test8)\n",
        "X_test9 = standardization(X_test9)\n",
        "X_test10 = standardization(X_test10)"
      ],
      "metadata": {
        "id": "GGEGNbUwG8J8"
      },
      "execution_count": null,
      "outputs": []
    },
    {
      "cell_type": "code",
      "source": [
        "#one hot encoding the target\n",
        "le = LabelEncoder()\n",
        "\n",
        "def encoding_y(data):\n",
        "  data = np.array(data['label'])\n",
        "  data = to_categorical(le.fit_transform(data))\n",
        "  return data"
      ],
      "metadata": {
        "id": "orX4OO7HH9ZK"
      },
      "execution_count": null,
      "outputs": []
    },
    {
      "cell_type": "code",
      "source": [
        "y_train = encoding_y(y_train)\n",
        "y_test = encoding_y(y_test) \n",
        "y_val = encoding_y(y_val)\n",
        "y_test7 = encoding_y(y_test7)\n",
        "y_test8 = encoding_y(y_test8)\n",
        "y_test9 = encoding_y(y_test9)\n",
        "y_test10 = encoding_y(y_test10)"
      ],
      "metadata": {
        "id": "bQYaBNNXIh2r"
      },
      "execution_count": null,
      "outputs": []
    },
    {
      "cell_type": "code",
      "source": [
        "#pickel the le object for future use\n",
        "filename = 'labels_usc'\n",
        "outfile = open(filename, 'wb')\n",
        "pickle.dump(le, outfile)\n",
        "outfile.close()"
      ],
      "metadata": {
        "id": "RgSfxWFJtIiC"
      },
      "execution_count": null,
      "outputs": []
    },
    {
      "cell_type": "code",
      "source": [
        "from sklearn.decomposition import PCA\n",
        "pca_item = PCA(n_components=40)\n",
        "principalComponents_usc = pca_item.fit_transform(X_train)"
      ],
      "metadata": {
        "id": "Y5OXPCn6SPR9"
      },
      "execution_count": null,
      "outputs": []
    },
    {
      "cell_type": "code",
      "source": [
        "principalComponents_usc"
      ],
      "metadata": {
        "colab": {
          "base_uri": "https://localhost:8080/"
        },
        "id": "EpPqOGzvSd-i",
        "outputId": "c3087af5-4450-4c74-afdf-f7014c64f488"
      },
      "execution_count": null,
      "outputs": [
        {
          "output_type": "execute_result",
          "data": {
            "text/plain": [
              "array([[-1.72823166, -0.53752949,  0.06650682, ..., -0.35730068,\n",
              "         0.13942238,  0.19397067],\n",
              "       [-0.48480878, -0.5787484 , -0.43880975, ..., -0.4185949 ,\n",
              "        -0.42395524,  0.43822421],\n",
              "       [-0.5074117 , -0.55164417, -0.25369822, ..., -0.22320867,\n",
              "        -0.24779659,  0.55666641],\n",
              "       ...,\n",
              "       [ 2.18146041, -1.02551514,  0.18002634, ...,  0.07407931,\n",
              "         0.57762343, -0.38252871],\n",
              "       [ 1.26246854, -1.22487918,  0.32789384, ..., -0.1034769 ,\n",
              "         0.46417168, -0.14709716],\n",
              "       [ 1.89033605, -0.79055919,  0.32128861, ...,  0.10206371,\n",
              "         0.4163105 , -0.71544744]])"
            ]
          },
          "metadata": {},
          "execution_count": 46
        }
      ]
    },
    {
      "cell_type": "code",
      "source": [
        "principal_breast_Df = pd.DataFrame(data = principalComponents_usc)"
      ],
      "metadata": {
        "id": "Ebf1DWsqSoTl"
      },
      "execution_count": null,
      "outputs": []
    },
    {
      "cell_type": "code",
      "source": [
        "principal_breast_Df.tail()"
      ],
      "metadata": {
        "colab": {
          "base_uri": "https://localhost:8080/",
          "height": 270
        },
        "id": "ygdntb4qSwM_",
        "outputId": "06392232-7cf2-4efa-a2fe-a9b55fde290d"
      },
      "execution_count": null,
      "outputs": [
        {
          "output_type": "execute_result",
          "data": {
            "text/html": [
              "\n",
              "  <div id=\"df-02686fd8-f5bf-4049-a9d5-898423d4196b\">\n",
              "    <div class=\"colab-df-container\">\n",
              "      <div>\n",
              "<style scoped>\n",
              "    .dataframe tbody tr th:only-of-type {\n",
              "        vertical-align: middle;\n",
              "    }\n",
              "\n",
              "    .dataframe tbody tr th {\n",
              "        vertical-align: top;\n",
              "    }\n",
              "\n",
              "    .dataframe thead th {\n",
              "        text-align: right;\n",
              "    }\n",
              "</style>\n",
              "<table border=\"1\" class=\"dataframe\">\n",
              "  <thead>\n",
              "    <tr style=\"text-align: right;\">\n",
              "      <th></th>\n",
              "      <th>0</th>\n",
              "      <th>1</th>\n",
              "      <th>2</th>\n",
              "      <th>3</th>\n",
              "      <th>4</th>\n",
              "      <th>5</th>\n",
              "      <th>6</th>\n",
              "      <th>7</th>\n",
              "      <th>8</th>\n",
              "      <th>9</th>\n",
              "      <th>10</th>\n",
              "      <th>11</th>\n",
              "      <th>12</th>\n",
              "      <th>13</th>\n",
              "      <th>14</th>\n",
              "      <th>15</th>\n",
              "      <th>16</th>\n",
              "      <th>17</th>\n",
              "      <th>18</th>\n",
              "      <th>19</th>\n",
              "      <th>20</th>\n",
              "      <th>21</th>\n",
              "      <th>22</th>\n",
              "      <th>23</th>\n",
              "      <th>24</th>\n",
              "      <th>25</th>\n",
              "      <th>26</th>\n",
              "      <th>27</th>\n",
              "      <th>28</th>\n",
              "      <th>29</th>\n",
              "      <th>30</th>\n",
              "      <th>31</th>\n",
              "      <th>32</th>\n",
              "      <th>33</th>\n",
              "      <th>34</th>\n",
              "      <th>35</th>\n",
              "      <th>36</th>\n",
              "      <th>37</th>\n",
              "      <th>38</th>\n",
              "      <th>39</th>\n",
              "    </tr>\n",
              "  </thead>\n",
              "  <tbody>\n",
              "    <tr>\n",
              "      <th>22490</th>\n",
              "      <td>0.344371</td>\n",
              "      <td>-3.168469</td>\n",
              "      <td>6.926214</td>\n",
              "      <td>1.028560</td>\n",
              "      <td>-1.402858</td>\n",
              "      <td>1.927066</td>\n",
              "      <td>2.692931</td>\n",
              "      <td>-1.010651</td>\n",
              "      <td>4.856947</td>\n",
              "      <td>3.689941</td>\n",
              "      <td>-0.657930</td>\n",
              "      <td>3.085427</td>\n",
              "      <td>1.959821</td>\n",
              "      <td>1.714938</td>\n",
              "      <td>1.261622</td>\n",
              "      <td>0.384944</td>\n",
              "      <td>-1.101390</td>\n",
              "      <td>-0.531040</td>\n",
              "      <td>0.418147</td>\n",
              "      <td>1.744688</td>\n",
              "      <td>0.592449</td>\n",
              "      <td>0.692891</td>\n",
              "      <td>-0.816672</td>\n",
              "      <td>0.366110</td>\n",
              "      <td>0.107790</td>\n",
              "      <td>0.642506</td>\n",
              "      <td>0.285455</td>\n",
              "      <td>-0.092844</td>\n",
              "      <td>-0.325202</td>\n",
              "      <td>0.567901</td>\n",
              "      <td>-0.263039</td>\n",
              "      <td>-0.029608</td>\n",
              "      <td>-0.292246</td>\n",
              "      <td>-0.313063</td>\n",
              "      <td>0.669911</td>\n",
              "      <td>0.183388</td>\n",
              "      <td>0.110774</td>\n",
              "      <td>0.182288</td>\n",
              "      <td>0.192108</td>\n",
              "      <td>-0.032862</td>\n",
              "    </tr>\n",
              "    <tr>\n",
              "      <th>22491</th>\n",
              "      <td>-2.706833</td>\n",
              "      <td>-1.861259</td>\n",
              "      <td>0.515131</td>\n",
              "      <td>-2.832868</td>\n",
              "      <td>-0.873583</td>\n",
              "      <td>0.997244</td>\n",
              "      <td>4.882682</td>\n",
              "      <td>-2.142961</td>\n",
              "      <td>2.887111</td>\n",
              "      <td>-0.172458</td>\n",
              "      <td>2.161154</td>\n",
              "      <td>2.645670</td>\n",
              "      <td>0.932967</td>\n",
              "      <td>3.852027</td>\n",
              "      <td>-0.553419</td>\n",
              "      <td>0.471948</td>\n",
              "      <td>-0.820363</td>\n",
              "      <td>-0.478532</td>\n",
              "      <td>0.323930</td>\n",
              "      <td>1.407069</td>\n",
              "      <td>-0.476357</td>\n",
              "      <td>-0.258541</td>\n",
              "      <td>0.412975</td>\n",
              "      <td>0.983328</td>\n",
              "      <td>-0.110965</td>\n",
              "      <td>0.709856</td>\n",
              "      <td>0.571259</td>\n",
              "      <td>-0.753504</td>\n",
              "      <td>-0.027004</td>\n",
              "      <td>-0.144000</td>\n",
              "      <td>-1.154041</td>\n",
              "      <td>-0.029935</td>\n",
              "      <td>-0.119630</td>\n",
              "      <td>0.856987</td>\n",
              "      <td>0.466802</td>\n",
              "      <td>-0.660013</td>\n",
              "      <td>0.038827</td>\n",
              "      <td>-0.116831</td>\n",
              "      <td>-0.065102</td>\n",
              "      <td>-0.546170</td>\n",
              "    </tr>\n",
              "    <tr>\n",
              "      <th>22492</th>\n",
              "      <td>2.181460</td>\n",
              "      <td>-1.025515</td>\n",
              "      <td>0.180026</td>\n",
              "      <td>-2.513550</td>\n",
              "      <td>-0.138155</td>\n",
              "      <td>1.359959</td>\n",
              "      <td>0.598172</td>\n",
              "      <td>-0.167120</td>\n",
              "      <td>-0.224684</td>\n",
              "      <td>0.289799</td>\n",
              "      <td>0.575218</td>\n",
              "      <td>0.168093</td>\n",
              "      <td>1.267377</td>\n",
              "      <td>1.131469</td>\n",
              "      <td>0.386155</td>\n",
              "      <td>-0.530113</td>\n",
              "      <td>0.075687</td>\n",
              "      <td>-0.075881</td>\n",
              "      <td>0.014905</td>\n",
              "      <td>1.631899</td>\n",
              "      <td>-0.200639</td>\n",
              "      <td>-0.638383</td>\n",
              "      <td>0.559954</td>\n",
              "      <td>0.146395</td>\n",
              "      <td>0.261876</td>\n",
              "      <td>1.011560</td>\n",
              "      <td>0.912359</td>\n",
              "      <td>-0.737726</td>\n",
              "      <td>-0.431533</td>\n",
              "      <td>0.553609</td>\n",
              "      <td>-0.507510</td>\n",
              "      <td>0.385356</td>\n",
              "      <td>-0.050527</td>\n",
              "      <td>-0.478682</td>\n",
              "      <td>0.369728</td>\n",
              "      <td>-0.591093</td>\n",
              "      <td>-0.828034</td>\n",
              "      <td>0.074079</td>\n",
              "      <td>0.577623</td>\n",
              "      <td>-0.382529</td>\n",
              "    </tr>\n",
              "    <tr>\n",
              "      <th>22493</th>\n",
              "      <td>1.262469</td>\n",
              "      <td>-1.224879</td>\n",
              "      <td>0.327894</td>\n",
              "      <td>-2.031334</td>\n",
              "      <td>0.247640</td>\n",
              "      <td>1.492483</td>\n",
              "      <td>1.206896</td>\n",
              "      <td>-0.599515</td>\n",
              "      <td>0.132828</td>\n",
              "      <td>0.117113</td>\n",
              "      <td>1.225594</td>\n",
              "      <td>0.566726</td>\n",
              "      <td>0.626118</td>\n",
              "      <td>-0.008229</td>\n",
              "      <td>1.599372</td>\n",
              "      <td>1.435997</td>\n",
              "      <td>0.215186</td>\n",
              "      <td>-0.446886</td>\n",
              "      <td>0.555180</td>\n",
              "      <td>0.993535</td>\n",
              "      <td>0.019445</td>\n",
              "      <td>-0.672530</td>\n",
              "      <td>0.619019</td>\n",
              "      <td>-0.740900</td>\n",
              "      <td>-0.454746</td>\n",
              "      <td>1.794901</td>\n",
              "      <td>-0.094131</td>\n",
              "      <td>-0.708066</td>\n",
              "      <td>-0.723672</td>\n",
              "      <td>0.299119</td>\n",
              "      <td>-0.021858</td>\n",
              "      <td>-0.219214</td>\n",
              "      <td>1.010779</td>\n",
              "      <td>-0.231285</td>\n",
              "      <td>0.132436</td>\n",
              "      <td>-1.014566</td>\n",
              "      <td>-1.118612</td>\n",
              "      <td>-0.103477</td>\n",
              "      <td>0.464172</td>\n",
              "      <td>-0.147097</td>\n",
              "    </tr>\n",
              "    <tr>\n",
              "      <th>22494</th>\n",
              "      <td>1.890336</td>\n",
              "      <td>-0.790559</td>\n",
              "      <td>0.321289</td>\n",
              "      <td>-2.291657</td>\n",
              "      <td>0.280498</td>\n",
              "      <td>1.445995</td>\n",
              "      <td>1.018895</td>\n",
              "      <td>0.054660</td>\n",
              "      <td>-0.432375</td>\n",
              "      <td>0.525220</td>\n",
              "      <td>0.402429</td>\n",
              "      <td>0.474927</td>\n",
              "      <td>0.562311</td>\n",
              "      <td>1.249266</td>\n",
              "      <td>-0.112466</td>\n",
              "      <td>-1.141430</td>\n",
              "      <td>0.013244</td>\n",
              "      <td>0.063091</td>\n",
              "      <td>0.039705</td>\n",
              "      <td>2.536475</td>\n",
              "      <td>-0.330091</td>\n",
              "      <td>-0.337759</td>\n",
              "      <td>0.510340</td>\n",
              "      <td>0.063163</td>\n",
              "      <td>1.200622</td>\n",
              "      <td>0.575173</td>\n",
              "      <td>0.712070</td>\n",
              "      <td>-0.684818</td>\n",
              "      <td>-0.326111</td>\n",
              "      <td>0.859737</td>\n",
              "      <td>-0.130237</td>\n",
              "      <td>0.703638</td>\n",
              "      <td>0.253105</td>\n",
              "      <td>-0.611983</td>\n",
              "      <td>-0.342296</td>\n",
              "      <td>-0.404553</td>\n",
              "      <td>-1.148403</td>\n",
              "      <td>0.102064</td>\n",
              "      <td>0.416310</td>\n",
              "      <td>-0.715447</td>\n",
              "    </tr>\n",
              "  </tbody>\n",
              "</table>\n",
              "</div>\n",
              "      <button class=\"colab-df-convert\" onclick=\"convertToInteractive('df-02686fd8-f5bf-4049-a9d5-898423d4196b')\"\n",
              "              title=\"Convert this dataframe to an interactive table.\"\n",
              "              style=\"display:none;\">\n",
              "        \n",
              "  <svg xmlns=\"http://www.w3.org/2000/svg\" height=\"24px\"viewBox=\"0 0 24 24\"\n",
              "       width=\"24px\">\n",
              "    <path d=\"M0 0h24v24H0V0z\" fill=\"none\"/>\n",
              "    <path d=\"M18.56 5.44l.94 2.06.94-2.06 2.06-.94-2.06-.94-.94-2.06-.94 2.06-2.06.94zm-11 1L8.5 8.5l.94-2.06 2.06-.94-2.06-.94L8.5 2.5l-.94 2.06-2.06.94zm10 10l.94 2.06.94-2.06 2.06-.94-2.06-.94-.94-2.06-.94 2.06-2.06.94z\"/><path d=\"M17.41 7.96l-1.37-1.37c-.4-.4-.92-.59-1.43-.59-.52 0-1.04.2-1.43.59L10.3 9.45l-7.72 7.72c-.78.78-.78 2.05 0 2.83L4 21.41c.39.39.9.59 1.41.59.51 0 1.02-.2 1.41-.59l7.78-7.78 2.81-2.81c.8-.78.8-2.07 0-2.86zM5.41 20L4 18.59l7.72-7.72 1.47 1.35L5.41 20z\"/>\n",
              "  </svg>\n",
              "      </button>\n",
              "      \n",
              "  <style>\n",
              "    .colab-df-container {\n",
              "      display:flex;\n",
              "      flex-wrap:wrap;\n",
              "      gap: 12px;\n",
              "    }\n",
              "\n",
              "    .colab-df-convert {\n",
              "      background-color: #E8F0FE;\n",
              "      border: none;\n",
              "      border-radius: 50%;\n",
              "      cursor: pointer;\n",
              "      display: none;\n",
              "      fill: #1967D2;\n",
              "      height: 32px;\n",
              "      padding: 0 0 0 0;\n",
              "      width: 32px;\n",
              "    }\n",
              "\n",
              "    .colab-df-convert:hover {\n",
              "      background-color: #E2EBFA;\n",
              "      box-shadow: 0px 1px 2px rgba(60, 64, 67, 0.3), 0px 1px 3px 1px rgba(60, 64, 67, 0.15);\n",
              "      fill: #174EA6;\n",
              "    }\n",
              "\n",
              "    [theme=dark] .colab-df-convert {\n",
              "      background-color: #3B4455;\n",
              "      fill: #D2E3FC;\n",
              "    }\n",
              "\n",
              "    [theme=dark] .colab-df-convert:hover {\n",
              "      background-color: #434B5C;\n",
              "      box-shadow: 0px 1px 3px 1px rgba(0, 0, 0, 0.15);\n",
              "      filter: drop-shadow(0px 1px 2px rgba(0, 0, 0, 0.3));\n",
              "      fill: #FFFFFF;\n",
              "    }\n",
              "  </style>\n",
              "\n",
              "      <script>\n",
              "        const buttonEl =\n",
              "          document.querySelector('#df-02686fd8-f5bf-4049-a9d5-898423d4196b button.colab-df-convert');\n",
              "        buttonEl.style.display =\n",
              "          google.colab.kernel.accessAllowed ? 'block' : 'none';\n",
              "\n",
              "        async function convertToInteractive(key) {\n",
              "          const element = document.querySelector('#df-02686fd8-f5bf-4049-a9d5-898423d4196b');\n",
              "          const dataTable =\n",
              "            await google.colab.kernel.invokeFunction('convertToInteractive',\n",
              "                                                     [key], {});\n",
              "          if (!dataTable) return;\n",
              "\n",
              "          const docLinkHtml = 'Like what you see? Visit the ' +\n",
              "            '<a target=\"_blank\" href=https://colab.research.google.com/notebooks/data_table.ipynb>data table notebook</a>'\n",
              "            + ' to learn more about interactive tables.';\n",
              "          element.innerHTML = '';\n",
              "          dataTable['output_type'] = 'display_data';\n",
              "          await google.colab.output.renderOutput(dataTable, element);\n",
              "          const docLink = document.createElement('div');\n",
              "          docLink.innerHTML = docLinkHtml;\n",
              "          element.appendChild(docLink);\n",
              "        }\n",
              "      </script>\n",
              "    </div>\n",
              "  </div>\n",
              "  "
            ],
            "text/plain": [
              "             0         1         2   ...        37        38        39\n",
              "22490  0.344371 -3.168469  6.926214  ...  0.182288  0.192108 -0.032862\n",
              "22491 -2.706833 -1.861259  0.515131  ... -0.116831 -0.065102 -0.546170\n",
              "22492  2.181460 -1.025515  0.180026  ...  0.074079  0.577623 -0.382529\n",
              "22493  1.262469 -1.224879  0.327894  ... -0.103477  0.464172 -0.147097\n",
              "22494  1.890336 -0.790559  0.321289  ...  0.102064  0.416310 -0.715447\n",
              "\n",
              "[5 rows x 40 columns]"
            ]
          },
          "metadata": {},
          "execution_count": 48
        }
      ]
    },
    {
      "cell_type": "code",
      "source": [
        "pca_item.explained_variance_ratio_"
      ],
      "metadata": {
        "colab": {
          "base_uri": "https://localhost:8080/"
        },
        "id": "8_dqtFFMTEra",
        "outputId": "56155663-7696-4f6c-c265-cfd2eff1d2b1"
      },
      "execution_count": null,
      "outputs": [
        {
          "output_type": "execute_result",
          "data": {
            "text/plain": [
              "array([0.14832205, 0.11290679, 0.07967743, 0.06606565, 0.04688   ,\n",
              "       0.04282405, 0.03408594, 0.03159611, 0.02891881, 0.02740285,\n",
              "       0.02453088, 0.02285884, 0.02065749, 0.01831331, 0.01760135,\n",
              "       0.0169378 , 0.01561838, 0.01511608, 0.01289794, 0.01272372,\n",
              "       0.01217236, 0.01168635, 0.0109863 , 0.01072025, 0.01029712,\n",
              "       0.00984805, 0.00976702, 0.0093377 , 0.00905505, 0.00880731,\n",
              "       0.00875754, 0.00820066, 0.00787401, 0.00769807, 0.00726231,\n",
              "       0.00690829, 0.00654766, 0.0062994 , 0.00610835, 0.00592608])"
            ]
          },
          "metadata": {},
          "execution_count": 49
        }
      ]
    },
    {
      "cell_type": "code",
      "source": [
        "print(pca_item.explained_variance_.sum())"
      ],
      "metadata": {
        "colab": {
          "base_uri": "https://localhost:8080/"
        },
        "id": "6fIVgcYqTfho",
        "outputId": "196c75f0-92c9-49db-e6c5-cc37875cf24f"
      },
      "execution_count": null,
      "outputs": [
        {
          "output_type": "stream",
          "name": "stdout",
          "text": [
            "48.51192466392652\n"
          ]
        }
      ]
    },
    {
      "cell_type": "markdown",
      "source": [
        "# **Modelling**"
      ],
      "metadata": {
        "id": "gxXv6b6vtWLk"
      }
    },
    {
      "cell_type": "code",
      "source": [
        "import os\n",
        "os.environ[\"CUDA_VISIBLE_DEVICES\"]=\"0\"\n",
        "tf_device='/gpu:0'\n",
        "\n",
        "#builing our ANN model\n",
        "\n",
        "model = Sequential()\n",
        "model.add(layers.Dense(1024, activation='relu', input_shape=(X_train.shape[1],)))\n",
        "# model.add(layers.Dense(1024, activation='relu', input_shape=(principalComponents_usc.shape[1],)))\n",
        "model.add(layers.Dense(512, activation='relu'))\n",
        "model.add(layers.Dense(256, activation='relu'))\n",
        "model.add(layers.Dense(128, activation='relu'))\n",
        "model.add(layers.Dense(64, activation='relu'))\n",
        "model.add(layers.Dense(32, activation='relu'))\n",
        "model.add(layers.Dense(10, activation='softmax'))\n",
        "#model.compile(optimizer='adam', loss='sparse_categorical_crossentropy', metrics=['accuracy'])\n",
        "\n",
        "opt_sgd = tf.keras.optimizers.SGD(learning_rate=0.0001, momentum=0.0, decay=0.0, nesterov=False)\n",
        "opt_adam = tf.keras.optimizers.Adam(learning_rate=0.0001)\n",
        "opt_rmp = tensorflow.keras.optimizers.RMSprop(learning_rate=0.00001, decay=1e-6)\n",
        "model.summary()"
      ],
      "metadata": {
        "colab": {
          "base_uri": "https://localhost:8080/"
        },
        "id": "8v7B3xrwtKh3",
        "outputId": "01b29c18-2107-4745-eb65-c0c9f8f4b7cb"
      },
      "execution_count": 65,
      "outputs": [
        {
          "output_type": "stream",
          "name": "stdout",
          "text": [
            "Model: \"sequential_3\"\n",
            "_________________________________________________________________\n",
            " Layer (type)                Output Shape              Param #   \n",
            "=================================================================\n",
            " dense_21 (Dense)            (None, 1024)              52224     \n",
            "                                                                 \n",
            " dense_22 (Dense)            (None, 512)               524800    \n",
            "                                                                 \n",
            " dense_23 (Dense)            (None, 256)               131328    \n",
            "                                                                 \n",
            " dense_24 (Dense)            (None, 128)               32896     \n",
            "                                                                 \n",
            " dense_25 (Dense)            (None, 64)                8256      \n",
            "                                                                 \n",
            " dense_26 (Dense)            (None, 32)                2080      \n",
            "                                                                 \n",
            " dense_27 (Dense)            (None, 10)                330       \n",
            "                                                                 \n",
            "=================================================================\n",
            "Total params: 751,914\n",
            "Trainable params: 751,914\n",
            "Non-trainable params: 0\n",
            "_________________________________________________________________\n"
          ]
        }
      ]
    },
    {
      "cell_type": "code",
      "source": [
        "model.compile(loss='categorical_crossentropy', optimizer=opt_adam, metrics=['accuracy'])\n",
        "\n",
        "checkpoint = ModelCheckpoint('up/usc_5050_DNN_all_aug.h5', verbose=1, monitor='val_accuracy',save_best_only=True, mode='auto')  \n",
        "\n",
        "model_history = model.fit(X_train, y_train,validation_data=(X_val, y_val), epochs=15, batch_size=32, verbose=2, callbacks=[checkpoint])\n",
        "# model_history = model.fit(principalComponents_usc, y_train, epochs=5, batch_size=32, verbose=2, callbacks=[checkpoint])"
      ],
      "metadata": {
        "colab": {
          "base_uri": "https://localhost:8080/"
        },
        "id": "Zq9lmaoatdPZ",
        "outputId": "f0718cfd-ba42-48c4-9da4-c52a4b99b2b1"
      },
      "execution_count": 66,
      "outputs": [
        {
          "output_type": "stream",
          "name": "stdout",
          "text": [
            "Epoch 1/15\n",
            "\n",
            "Epoch 00001: val_accuracy improved from -inf to 0.58761, saving model to up/usc_5050_DNN_all_aug.h5\n",
            "703/703 - 7s - loss: 1.0609 - accuracy: 0.6689 - val_loss: 1.3035 - val_accuracy: 0.5876 - 7s/epoch - 10ms/step\n",
            "Epoch 2/15\n",
            "\n",
            "Epoch 00002: val_accuracy improved from 0.58761 to 0.59936, saving model to up/usc_5050_DNN_all_aug.h5\n",
            "703/703 - 6s - loss: 0.4214 - accuracy: 0.8709 - val_loss: 1.3954 - val_accuracy: 0.5994 - 6s/epoch - 9ms/step\n",
            "Epoch 3/15\n",
            "\n",
            "Epoch 00003: val_accuracy did not improve from 0.59936\n",
            "703/703 - 6s - loss: 0.2561 - accuracy: 0.9240 - val_loss: 1.7087 - val_accuracy: 0.5331 - 6s/epoch - 9ms/step\n",
            "Epoch 4/15\n",
            "\n",
            "Epoch 00004: val_accuracy did not improve from 0.59936\n",
            "703/703 - 6s - loss: 0.1668 - accuracy: 0.9524 - val_loss: 1.7683 - val_accuracy: 0.5459 - 6s/epoch - 9ms/step\n",
            "Epoch 5/15\n",
            "\n",
            "Epoch 00005: val_accuracy did not improve from 0.59936\n",
            "703/703 - 6s - loss: 0.1181 - accuracy: 0.9660 - val_loss: 2.0589 - val_accuracy: 0.5331 - 6s/epoch - 9ms/step\n",
            "Epoch 6/15\n",
            "\n",
            "Epoch 00006: val_accuracy did not improve from 0.59936\n",
            "703/703 - 6s - loss: 0.0871 - accuracy: 0.9754 - val_loss: 2.3098 - val_accuracy: 0.5331 - 6s/epoch - 9ms/step\n",
            "Epoch 7/15\n",
            "\n",
            "Epoch 00007: val_accuracy did not improve from 0.59936\n",
            "703/703 - 6s - loss: 0.0652 - accuracy: 0.9814 - val_loss: 2.5252 - val_accuracy: 0.5256 - 6s/epoch - 9ms/step\n",
            "Epoch 8/15\n",
            "\n",
            "Epoch 00008: val_accuracy did not improve from 0.59936\n",
            "703/703 - 6s - loss: 0.0455 - accuracy: 0.9883 - val_loss: 2.8374 - val_accuracy: 0.5053 - 6s/epoch - 9ms/step\n",
            "Epoch 9/15\n",
            "\n",
            "Epoch 00009: val_accuracy did not improve from 0.59936\n",
            "703/703 - 6s - loss: 0.0418 - accuracy: 0.9887 - val_loss: 2.6632 - val_accuracy: 0.5716 - 6s/epoch - 9ms/step\n",
            "Epoch 10/15\n",
            "\n",
            "Epoch 00010: val_accuracy did not improve from 0.59936\n",
            "703/703 - 6s - loss: 0.0388 - accuracy: 0.9890 - val_loss: 2.7618 - val_accuracy: 0.5630 - 6s/epoch - 9ms/step\n",
            "Epoch 11/15\n",
            "\n",
            "Epoch 00011: val_accuracy did not improve from 0.59936\n",
            "703/703 - 6s - loss: 0.0269 - accuracy: 0.9922 - val_loss: 2.9310 - val_accuracy: 0.5395 - 6s/epoch - 9ms/step\n",
            "Epoch 12/15\n",
            "\n",
            "Epoch 00012: val_accuracy did not improve from 0.59936\n",
            "703/703 - 6s - loss: 0.0222 - accuracy: 0.9940 - val_loss: 3.0478 - val_accuracy: 0.5363 - 6s/epoch - 9ms/step\n",
            "Epoch 13/15\n",
            "\n",
            "Epoch 00013: val_accuracy did not improve from 0.59936\n",
            "703/703 - 6s - loss: 0.0301 - accuracy: 0.9908 - val_loss: 3.1331 - val_accuracy: 0.5224 - 6s/epoch - 9ms/step\n",
            "Epoch 14/15\n",
            "\n",
            "Epoch 00014: val_accuracy did not improve from 0.59936\n",
            "703/703 - 6s - loss: 0.0184 - accuracy: 0.9948 - val_loss: 3.2958 - val_accuracy: 0.5545 - 6s/epoch - 9ms/step\n",
            "Epoch 15/15\n",
            "\n",
            "Epoch 00015: val_accuracy did not improve from 0.59936\n",
            "703/703 - 6s - loss: 0.0161 - accuracy: 0.9958 - val_loss: 3.3934 - val_accuracy: 0.5235 - 6s/epoch - 9ms/step\n"
          ]
        }
      ]
    },
    {
      "cell_type": "code",
      "source": [
        "#plotting the loss\n",
        "plt.plot(model_history.history['accuracy'])\n",
        "plt.plot(model_history.history['val_accuracy'])\n",
        "plt.title('model loss')\n",
        "plt.ylabel('loss')\n",
        "plt.xlabel('epoch')\n",
        "plt.legend(['train','test'], loc='upper right')\n",
        "plt.show"
      ],
      "metadata": {
        "colab": {
          "base_uri": "https://localhost:8080/",
          "height": 312
        },
        "id": "1ay-AKlMtv5U",
        "outputId": "a2930ea5-ed41-45ff-c992-6fe487b8638a"
      },
      "execution_count": 67,
      "outputs": [
        {
          "output_type": "execute_result",
          "data": {
            "text/plain": [
              "<function matplotlib.pyplot.show>"
            ]
          },
          "metadata": {},
          "execution_count": 67
        },
        {
          "output_type": "display_data",
          "data": {
            "image/png": "[encoded data removed]",
            "text/plain": [
              "<Figure size 432x288 with 1 Axes>"
            ]
          },
          "metadata": {
            "needs_background": "light"
          }
        }
      ]
    },
    {
      "cell_type": "markdown",
      "source": [
        "# Model Serialisation (saving the model)"
      ],
      "metadata": {
        "id": "YkIVNkLrt_G3"
      }
    },
    {
      "cell_type": "code",
      "source": [
        "#save model to disk \n",
        "model_json = model.to_json()\n",
        "with open('up/usc_5050_DNN_all_aug.json','w') as json_file:\n",
        "    json_file.write(model_json)"
      ],
      "metadata": {
        "id": "2mKrAzicuAgM"
      },
      "execution_count": 68,
      "outputs": []
    },
    {
      "cell_type": "markdown",
      "source": [
        "# **Model Validation**"
      ],
      "metadata": {
        "id": "98BJAtm8uDa8"
      }
    },
    {
      "cell_type": "code",
      "source": [
        "#loading the json file and model architecture\n",
        "json_file = open('up/usc_5050_DNN_all_aug.json', 'r')\n",
        "loaded_model_json = json_file.read()\n",
        "json_file.close()\n",
        "loaded_model = model_from_json(loaded_model_json)\n",
        "\n",
        "#load weights into the new mode\n",
        "loaded_model.load_weights('up/usc_5050_DNN_all_aug.h5')\n",
        "print('Loaded model from disk')\n",
        "\n",
        "loaded_model.compile(loss='categorical_crossentropy', optimizer=opt_adam, metrics =['accuracy'])\n",
        "\n",
        "score = loaded_model.evaluate(X_test, y_test)\n",
        "print(\"%s: %.2f%%\" %(loaded_model.metrics_names[1], score[1]*100))"
      ],
      "metadata": {
        "colab": {
          "base_uri": "https://localhost:8080/"
        },
        "id": "csCXnQc4uEhV",
        "outputId": "aa28aee7-4fb4-46a7-8825-e6d3ab8f7c07"
      },
      "execution_count": 69,
      "outputs": [
        {
          "output_type": "stream",
          "name": "stdout",
          "text": [
            "Loaded model from disk\n",
            "133/133 [==============================] - 1s 3ms/step - loss: 1.4178 - accuracy: 0.5941\n",
            "accuracy: 59.41%\n"
          ]
        }
      ]
    },
    {
      "cell_type": "code",
      "source": [
        "score_avg = model_prediction_on_folds(loaded_model)"
      ],
      "metadata": {
        "colab": {
          "base_uri": "https://localhost:8080/"
        },
        "id": "sWyJXpqK8tdZ",
        "outputId": "d127d145-d883-4027-9f8b-50822aa8ba60"
      },
      "execution_count": 70,
      "outputs": [
        {
          "output_type": "stream",
          "name": "stdout",
          "text": [
            "30/30 [==============================] - 0s 3ms/step - loss: 1.3954 - accuracy: 0.5994\n",
            "27/27 [==============================] - 0s 3ms/step - loss: 0.9884 - accuracy: 0.6742\n",
            "26/26 [==============================] - 0s 3ms/step - loss: 1.4733 - accuracy: 0.5868\n",
            "26/26 [==============================] - 0s 3ms/step - loss: 1.9321 - accuracy: 0.5343\n",
            "27/27 [==============================] - 0s 3ms/step - loss: 1.2435 - accuracy: 0.6129\n"
          ]
        }
      ]
    },
    {
      "cell_type": "code",
      "source": [
        "print((np.mean(score_avg), np.std(score_avg)))"
      ],
      "metadata": {
        "id": "qEr4-owk9QvB",
        "outputId": "158e1641-0b14-46d1-872c-f26e2337f90c",
        "colab": {
          "base_uri": "https://localhost:8080/"
        }
      },
      "execution_count": 71,
      "outputs": [
        {
          "output_type": "stream",
          "name": "stdout",
          "text": [
            "(0.6015297770500183, 0.045060174116835154)\n"
          ]
        }
      ]
    },
    {
      "cell_type": "code",
      "source": [
        "preds = loaded_model.predict(X_test, batch_size=1, verbose=1)\n",
        "preds = preds.argmax(axis=1)\n",
        "preds"
      ],
      "metadata": {
        "colab": {
          "base_uri": "https://localhost:8080/"
        },
        "id": "ieoFuDVtuHAY",
        "outputId": "f3fd7560-e6aa-48b5-b83d-3a8a505aa9bb"
      },
      "execution_count": 72,
      "outputs": [
        {
          "output_type": "stream",
          "name": "stdout",
          "text": [
            "4233/4233 [==============================] - 5s 1ms/step\n"
          ]
        },
        {
          "output_type": "execute_result",
          "data": {
            "text/plain": [
              "array([3, 2, 2, ..., 1, 1, 1])"
            ]
          },
          "metadata": {},
          "execution_count": 72
        }
      ]
    },
    {
      "cell_type": "code",
      "source": [
        "#The prediction is in the form of numbers, we'll need to append the labels to it before we run the accuracy measure\n",
        "\n",
        "#predictions\n",
        "#preds = preds.astype(int).flatten()\n",
        "preds = le.inverse_transform(preds)\n",
        "preds= pd.DataFrame({'predicted_values': preds})\n",
        "\n",
        "#Actual labels\n",
        "\n",
        "actual = y_test.argmax(axis=1)\n",
        "#actual = actual.astype(int).flatten()\n",
        "actual = le.inverse_transform(actual)\n",
        "actual = pd.DataFrame({'actual_values': actual})\n",
        "\n",
        "#combine both in one dataframe\n",
        "final_df = actual.join(preds)\n",
        "final_df.head()"
      ],
      "metadata": {
        "colab": {
          "base_uri": "https://localhost:8080/",
          "height": 206
        },
        "id": "5lf6EWBpuIko",
        "outputId": "d7145b71-bcd1-4cd3-a7b2-57650add150a"
      },
      "execution_count": 73,
      "outputs": [
        {
          "output_type": "execute_result",
          "data": {
            "text/html": [
              "\n",
              "  <div id=\"df-a81e482c-1d68-412e-a59c-f32104b9298a\">\n",
              "    <div class=\"colab-df-container\">\n",
              "      <div>\n",
              "<style scoped>\n",
              "    .dataframe tbody tr th:only-of-type {\n",
              "        vertical-align: middle;\n",
              "    }\n",
              "\n",
              "    .dataframe tbody tr th {\n",
              "        vertical-align: top;\n",
              "    }\n",
              "\n",
              "    .dataframe thead th {\n",
              "        text-align: right;\n",
              "    }\n",
              "</style>\n",
              "<table border=\"1\" class=\"dataframe\">\n",
              "  <thead>\n",
              "    <tr style=\"text-align: right;\">\n",
              "      <th></th>\n",
              "      <th>actual_values</th>\n",
              "      <th>predicted_values</th>\n",
              "    </tr>\n",
              "  </thead>\n",
              "  <tbody>\n",
              "    <tr>\n",
              "      <th>0</th>\n",
              "      <td>3</td>\n",
              "      <td>3</td>\n",
              "    </tr>\n",
              "    <tr>\n",
              "      <th>1</th>\n",
              "      <td>2</td>\n",
              "      <td>2</td>\n",
              "    </tr>\n",
              "    <tr>\n",
              "      <th>2</th>\n",
              "      <td>2</td>\n",
              "      <td>2</td>\n",
              "    </tr>\n",
              "    <tr>\n",
              "      <th>3</th>\n",
              "      <td>2</td>\n",
              "      <td>2</td>\n",
              "    </tr>\n",
              "    <tr>\n",
              "      <th>4</th>\n",
              "      <td>2</td>\n",
              "      <td>2</td>\n",
              "    </tr>\n",
              "  </tbody>\n",
              "</table>\n",
              "</div>\n",
              "      <button class=\"colab-df-convert\" onclick=\"convertToInteractive('df-a81e482c-1d68-412e-a59c-f32104b9298a')\"\n",
              "              title=\"Convert this dataframe to an interactive table.\"\n",
              "              style=\"display:none;\">\n",
              "        \n",
              "  <svg xmlns=\"http://www.w3.org/2000/svg\" height=\"24px\"viewBox=\"0 0 24 24\"\n",
              "       width=\"24px\">\n",
              "    <path d=\"M0 0h24v24H0V0z\" fill=\"none\"/>\n",
              "    <path d=\"M18.56 5.44l.94 2.06.94-2.06 2.06-.94-2.06-.94-.94-2.06-.94 2.06-2.06.94zm-11 1L8.5 8.5l.94-2.06 2.06-.94-2.06-.94L8.5 2.5l-.94 2.06-2.06.94zm10 10l.94 2.06.94-2.06 2.06-.94-2.06-.94-.94-2.06-.94 2.06-2.06.94z\"/><path d=\"M17.41 7.96l-1.37-1.37c-.4-.4-.92-.59-1.43-.59-.52 0-1.04.2-1.43.59L10.3 9.45l-7.72 7.72c-.78.78-.78 2.05 0 2.83L4 21.41c.39.39.9.59 1.41.59.51 0 1.02-.2 1.41-.59l7.78-7.78 2.81-2.81c.8-.78.8-2.07 0-2.86zM5.41 20L4 18.59l7.72-7.72 1.47 1.35L5.41 20z\"/>\n",
              "  </svg>\n",
              "      </button>\n",
              "      \n",
              "  <style>\n",
              "    .colab-df-container {\n",
              "      display:flex;\n",
              "      flex-wrap:wrap;\n",
              "      gap: 12px;\n",
              "    }\n",
              "\n",
              "    .colab-df-convert {\n",
              "      background-color: #E8F0FE;\n",
              "      border: none;\n",
              "      border-radius: 50%;\n",
              "      cursor: pointer;\n",
              "      display: none;\n",
              "      fill: #1967D2;\n",
              "      height: 32px;\n",
              "      padding: 0 0 0 0;\n",
              "      width: 32px;\n",
              "    }\n",
              "\n",
              "    .colab-df-convert:hover {\n",
              "      background-color: #E2EBFA;\n",
              "      box-shadow: 0px 1px 2px rgba(60, 64, 67, 0.3), 0px 1px 3px 1px rgba(60, 64, 67, 0.15);\n",
              "      fill: #174EA6;\n",
              "    }\n",
              "\n",
              "    [theme=dark] .colab-df-convert {\n",
              "      background-color: #3B4455;\n",
              "      fill: #D2E3FC;\n",
              "    }\n",
              "\n",
              "    [theme=dark] .colab-df-convert:hover {\n",
              "      background-color: #434B5C;\n",
              "      box-shadow: 0px 1px 3px 1px rgba(0, 0, 0, 0.15);\n",
              "      filter: drop-shadow(0px 1px 2px rgba(0, 0, 0, 0.3));\n",
              "      fill: #FFFFFF;\n",
              "    }\n",
              "  </style>\n",
              "\n",
              "      <script>\n",
              "        const buttonEl =\n",
              "          document.querySelector('#df-a81e482c-1d68-412e-a59c-f32104b9298a button.colab-df-convert');\n",
              "        buttonEl.style.display =\n",
              "          google.colab.kernel.accessAllowed ? 'block' : 'none';\n",
              "\n",
              "        async function convertToInteractive(key) {\n",
              "          const element = document.querySelector('#df-a81e482c-1d68-412e-a59c-f32104b9298a');\n",
              "          const dataTable =\n",
              "            await google.colab.kernel.invokeFunction('convertToInteractive',\n",
              "                                                     [key], {});\n",
              "          if (!dataTable) return;\n",
              "\n",
              "          const docLinkHtml = 'Like what you see? Visit the ' +\n",
              "            '<a target=\"_blank\" href=https://colab.research.google.com/notebooks/data_table.ipynb>data table notebook</a>'\n",
              "            + ' to learn more about interactive tables.';\n",
              "          element.innerHTML = '';\n",
              "          dataTable['output_type'] = 'display_data';\n",
              "          await google.colab.output.renderOutput(dataTable, element);\n",
              "          const docLink = document.createElement('div');\n",
              "          docLink.innerHTML = docLinkHtml;\n",
              "          element.appendChild(docLink);\n",
              "        }\n",
              "      </script>\n",
              "    </div>\n",
              "  </div>\n",
              "  "
            ],
            "text/plain": [
              "   actual_values  predicted_values\n",
              "0              3                 3\n",
              "1              2                 2\n",
              "2              2                 2\n",
              "3              2                 2\n",
              "4              2                 2"
            ]
          },
          "metadata": {},
          "execution_count": 73
        }
      ]
    },
    {
      "cell_type": "code",
      "source": [
        "#write out predictions to disk\n",
        "#final_df.to_csv('usc_pred.csv', index=False)\n",
        "ddf = final_df.groupby('predicted_values')['actual_values'].value_counts()\n",
        "#final_df.groupby('actual_values').count()\n",
        "\n",
        "ax = ddf.unstack().plot(kind='bar',figsize=(20,5), rot = 0)\n",
        "ax.legend(bbox_to_anchor=(1.0, 1.0))\n",
        "ax.plot()"
      ],
      "metadata": {
        "colab": {
          "base_uri": "https://localhost:8080/",
          "height": 352
        },
        "id": "05MEEBE1uKqY",
        "outputId": "a6694bb3-a24b-4bc6-ea0e-defdf7eb3448"
      },
      "execution_count": 74,
      "outputs": [
        {
          "output_type": "execute_result",
          "data": {
            "text/plain": [
              "[]"
            ]
          },
          "metadata": {},
          "execution_count": 74
        },
        {
          "output_type": "display_data",
          "data": {
            "image/png": "[encoded data removed]",
            "text/plain": [
              "<Figure size 1440x360 with 1 Axes>"
            ]
          },
          "metadata": {
            "needs_background": "light"
          }
        }
      ]
    },
    {
      "cell_type": "code",
      "source": [
        "#Classification report\n",
        "classes = final_df.actual_values.unique()\n",
        "classes.sort()\n",
        "print(classification_report(final_df.actual_values, final_df.predicted_values))"
      ],
      "metadata": {
        "colab": {
          "base_uri": "https://localhost:8080/"
        },
        "id": "bX5HNX2JuMQs",
        "outputId": "faf3b624-bc5f-4eac-fcd8-95a2e58e43b5"
      },
      "execution_count": 75,
      "outputs": [
        {
          "output_type": "stream",
          "name": "stdout",
          "text": [
            "              precision    recall  f1-score   support\n",
            "\n",
            "           0       0.46      0.29      0.35       500\n",
            "           1       0.82      0.80      0.81       221\n",
            "           2       0.64      0.62      0.63       500\n",
            "           3       0.69      0.66      0.68       500\n",
            "           4       0.40      0.46      0.43       500\n",
            "           5       0.69      0.63      0.66       483\n",
            "           6       0.91      0.79      0.85       184\n",
            "           7       0.50      0.50      0.50       452\n",
            "           8       0.59      0.75      0.66       393\n",
            "           9       0.57      0.71      0.63       500\n",
            "\n",
            "    accuracy                           0.59      4233\n",
            "   macro avg       0.63      0.62      0.62      4233\n",
            "weighted avg       0.60      0.59      0.59      4233\n",
            "\n"
          ]
        }
      ]
    },
    {
      "cell_type": "code",
      "source": [
        "k_df = final_df.copy()\n",
        "k_df = k_df.astype(str)\n",
        "k_df['actual_values'] = k_df.actual_values.replace({          \n",
        "                                        '0.0' :   'air_conditioner',\n",
        "                                        '1.0' :  'car_horn',\n",
        "                                        '2.0' :  'children_playing',\n",
        "                                        '3.0' :  'dog_bark' ,      \n",
        "                                        '4.0' :  'drilling',       \n",
        "                                        '5.0' :  'engine_idling',  \n",
        "                                        '6.0' :  'gun_shot',\n",
        "                                        '7.0' :  'jackhammer',     \n",
        "                                        '8.0' :  'siren', \n",
        "                                        '9.0' :  'street_music'\n",
        "                                                         })\n",
        "k_df['predicted_values'] = k_df.predicted_values.replace({\n",
        "                                        '0.0' :   'air_conditioner',\n",
        "                                        '1.0' :  'car_horn',\n",
        "                                        '2.0' :  'children_playing',\n",
        "                                        '3.0' :  'dog_bark' ,      \n",
        "                                        '4.0' :  'drilling',       \n",
        "                                        '5.0' :  'engine_idling',  \n",
        "                                        '6.0' :  'gun_shot',\n",
        "                                        '7.0' :  'jackhammer',     \n",
        "                                        '8.0' :  'siren', \n",
        "                                        '9.0' :  'street_music'\n",
        "                                                         })\n",
        "\n",
        "\n",
        "classes = k_df.actual_values.unique()\n",
        "classes.sort()"
      ],
      "metadata": {
        "id": "FT2qEEo3uNyv"
      },
      "execution_count": 76,
      "outputs": []
    },
    {
      "cell_type": "code",
      "source": [
        "#k_df = k_df.astype(str)\n",
        "k_df.actual_values.value_counts()"
      ],
      "metadata": {
        "colab": {
          "base_uri": "https://localhost:8080/"
        },
        "id": "Ph1Vyy70uR5k",
        "outputId": "37ea6ae0-4ad8-4f59-bb8b-065acd89a162"
      },
      "execution_count": 77,
      "outputs": [
        {
          "output_type": "execute_result",
          "data": {
            "text/plain": [
              "4    500\n",
              "9    500\n",
              "0    500\n",
              "2    500\n",
              "3    500\n",
              "5    483\n",
              "7    452\n",
              "8    393\n",
              "1    221\n",
              "6    184\n",
              "Name: actual_values, dtype: int64"
            ]
          },
          "metadata": {},
          "execution_count": 77
        }
      ]
    },
    {
      "cell_type": "code",
      "source": [
        "#final_df = pd.read_csv(\"kr_13_p.csv\")\n",
        "classes = k_df.actual_values.unique()\n",
        "classes.sort()\n",
        "\n",
        "#confusion matrix\n",
        "c = confusion_matrix(k_df.actual_values, k_df.predicted_values)\n",
        "print(accuracy_score(k_df.actual_values, k_df.predicted_values))\n",
        "make_confusion_matrix(c, group_names=['True Values','Predicted Value'], categories=classes, figsize =(15,10), title='Urban Sound Classification')"
      ],
      "metadata": {
        "colab": {
          "base_uri": "https://localhost:8080/",
          "height": 662
        },
        "id": "QohICNbAuTOn",
        "outputId": "eb69d67b-8b68-4a0e-a977-d8307e53044a"
      },
      "execution_count": 78,
      "outputs": [
        {
          "output_type": "stream",
          "name": "stdout",
          "text": [
            "0.5941412709662178\n"
          ]
        },
        {
          "output_type": "display_data",
          "data": {
            "image/png": "[encoded data removed]",
            "text/plain": [
              "<Figure size 1080x720 with 2 Axes>"
            ]
          },
          "metadata": {
            "needs_background": "light"
          }
        }
      ]
    }
  ]
}