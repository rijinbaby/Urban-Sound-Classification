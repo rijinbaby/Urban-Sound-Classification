{
  "cells": [
    {
      "cell_type": "markdown",
      "metadata": {
        "id": "view-in-github",
        "colab_type": "text"
      },
      "source": [
        "<a href=\"https://colab.research.google.com/github/rijinbaby/Urban-Sound-Classification/blob/CNN/usc_5050_CNN_all.ipynb\" target=\"_parent\"><img src=\"https://colab.research.google.com/assets/colab-badge.svg\" alt=\"Open In Colab\"/></a>"
      ]
    },
    {
      "cell_type": "code",
      "execution_count": 1,
      "metadata": {
        "id": "nxBGiT4FjdDl"
      },
      "outputs": [],
      "source": [
        "#importing required libraries\n",
        "#Keras\n",
        "import tensorflow.keras\n",
        "from tensorflow.keras import regularizers, layers\n",
        "from tensorflow.keras.preprocessing import sequence\n",
        "from tensorflow.keras.preprocessing.text import Tokenizer\n",
        "from tensorflow.keras.preprocessing.sequence import pad_sequences\n",
        "from tensorflow.keras.models import Sequential, Model, model_from_json\n",
        "from tensorflow.keras.layers import Dense, Embedding, LSTM\n",
        "from tensorflow.keras.layers import Input, Flatten, Dropout, Activation, BatchNormalization\n",
        "from tensorflow.keras.layers import Conv2D, MaxPooling2D, AveragePooling1D\n",
        "from tensorflow.keras.utils import to_categorical\n",
        "from tensorflow.keras.callbacks import ModelCheckpoint\n",
        "\n",
        "#sklearn\n",
        "from sklearn.metrics import confusion_matrix, accuracy_score, classification_report\n",
        "from sklearn.model_selection import train_test_split\n",
        "from sklearn.preprocessing import LabelEncoder\n",
        "\n",
        "#Others\n",
        "import librosa\n",
        "import librosa.display\n",
        "import json\n",
        "import numpy as np\n",
        "import matplotlib.pyplot as plt\n",
        "from matplotlib.pyplot import specgram\n",
        "import tensorflow as tf\n",
        "import pandas as pd\n",
        "import seaborn as sns\n",
        "import glob\n",
        "import os\n",
        "import pickle\n",
        "import IPython.display as ipd\n",
        "import csv\n",
        "from tqdm import tqdm\n",
        "import os\n",
        "os.environ[\"CUDA_VISIBLE_DEVICES\"]=\"0\"\n",
        "tf_device='/gpu:0'"
      ]
    },
    {
      "cell_type": "markdown",
      "metadata": {
        "id": "2TNewqkxjdDp"
      },
      "source": [
        "# Confusion matrix \n"
      ]
    },
    {
      "cell_type": "code",
      "execution_count": 2,
      "metadata": {
        "id": "3-g5s6eBjdDr"
      },
      "outputs": [],
      "source": [
        "def make_confusion_matrix(cf,\n",
        "                          group_names=None,\n",
        "                          categories='auto',\n",
        "                          count=True,\n",
        "                          percent=True,\n",
        "                          cbar=True,\n",
        "                          xyticks=True,\n",
        "                          xyplotlabels=True,\n",
        "                          sum_stats=True,\n",
        "                          figsize=None,\n",
        "                          cmap='Blues',\n",
        "                          title=None):\n",
        "    '''\n",
        "    This function will make a pretty plot of an sklearn Confusion Matrix cm using a Seaborn heatmap visualization.\n",
        "    Arguments\n",
        "    ---------\n",
        "    cf:            confusion matrix to be passed in\n",
        "    group_names:   List of strings that represent the labels row by row to be shown in each square.\n",
        "    categories:    List of strings containing the categories to be displayed on the x,y axis. Default is 'auto'\n",
        "    count:         If True, show the raw number in the confusion matrix. Default is True.\n",
        "    normalize:     If True, show the proportions for each category. Default is True.\n",
        "    cbar:          If True, show the color bar. The cbar values are based off the values in the confusion matrix.\n",
        "                   Default is True.\n",
        "    xyticks:       If True, show x and y ticks. Default is True.\n",
        "    xyplotlabels:  If True, show 'True Label' and 'Predicted Label' on the figure. Default is True.\n",
        "    sum_stats:     If True, display summary statistics below the figure. Default is True.\n",
        "    figsize:       Tuple representing the figure size. Default will be the matplotlib rcParams value.\n",
        "    cmap:          Colormap of the values displayed from matplotlib.pyplot.cm. Default is 'Blues'\n",
        "                   See http://matplotlib.org/examples/color/colormaps_reference.html\n",
        "                   \n",
        "    title:         Title for the heatmap. Default is None.\n",
        "    '''\n",
        "\n",
        "\n",
        "    # CODE TO GENERATE TEXT INSIDE EACH SQUARE\n",
        "    blanks = ['' for i in range(cf.size)]\n",
        "\n",
        "    if group_names and len(group_names)==cf.size:\n",
        "        group_labels = [\"{}\\n\".format(value) for value in group_names]\n",
        "    else:\n",
        "        group_labels = blanks\n",
        "\n",
        "    if count:\n",
        "        group_counts = [\"{0:0.0f}\\n\".format(value) for value in cf.flatten()]\n",
        "    else:\n",
        "        group_counts = blanks\n",
        "\n",
        "    if percent:\n",
        "        group_percentages = [\"{0:.2%}\".format(value) for value in cf.flatten()/np.sum(cf)]\n",
        "    else:\n",
        "        group_percentages = blanks\n",
        "\n",
        "    box_labels = [f\"{v1}{v2}{v3}\".strip() for v1, v2, v3 in zip(group_labels,group_counts,group_percentages)]\n",
        "    box_labels = np.asarray(box_labels).reshape(cf.shape[0],cf.shape[1])\n",
        "\n",
        "\n",
        "    # CODE TO GENERATE SUMMARY STATISTICS & TEXT FOR SUMMARY STATS\n",
        "    if sum_stats:\n",
        "        #Accuracy is sum of diagonal divided by total observations\n",
        "        accuracy  = np.trace(cf) / float(np.sum(cf))\n",
        "\n",
        "        #if it is a binary confusion matrix, show some more stats\n",
        "        if len(cf)==2:\n",
        "            #Metrics for Binary Confusion Matrices\n",
        "            precision = cf[1,1] / sum(cf[:,1])\n",
        "            recall    = cf[1,1] / sum(cf[1,:])\n",
        "            f1_score  = 2*precision*recall / (precision + recall)\n",
        "            stats_text = \"\\n\\nAccuracy={:0.3f}\\nPrecision={:0.3f}\\nRecall={:0.3f}\\nF1 Score={:0.3f}\".format(\n",
        "                accuracy,precision,recall,f1_score)\n",
        "        else:\n",
        "            stats_text = \"\\n\\nAccuracy={:0.3f}\".format(accuracy)\n",
        "    else:\n",
        "        stats_text = \"\"\n",
        "\n",
        "\n",
        "    # SET FIGURE PARAMETERS ACCORDING TO OTHER ARGUMENTS\n",
        "    if figsize==None:\n",
        "        #Get default figure size if not set\n",
        "        figsize = plt.rcParams.get('figure.figsize')\n",
        "\n",
        "    if xyticks==False:\n",
        "        #Do not show categories if xyticks is False\n",
        "        categories=False\n",
        "\n",
        "\n",
        "    # MAKE THE HEATMAP VISUALIZATION\n",
        "    plt.rcParams[\"font.family\"] = 'NanumGothic'\n",
        "    plt.figure(figsize=figsize)\n",
        "    sns.heatmap(cf,annot=box_labels,fmt=\"\",cmap=cmap,cbar=cbar,xticklabels=categories,yticklabels=categories)\n",
        "\n",
        "    if xyplotlabels:\n",
        "        plt.ylabel('True label')\n",
        "        plt.xlabel('Predicted label' + stats_text)\n",
        "    else:\n",
        "        plt.xlabel(stats_text)\n",
        "    \n",
        "    if title:\n",
        "        plt.title(title)\n",
        "        plt.savefig(title +'.jpg')"
      ]
    },
    {
      "cell_type": "markdown",
      "metadata": {
        "id": "09uDHCDBjdDv"
      },
      "source": [
        "# Data Processing"
      ]
    },
    {
      "cell_type": "code",
      "execution_count": 3,
      "metadata": {
        "colab": {
          "base_uri": "https://localhost:8080/"
        },
        "id": "0c4i9QvMjdDv",
        "outputId": "9c5d4cfd-b302-41c9-d868-426423d7eb64"
      },
      "outputs": [
        {
          "output_type": "execute_result",
          "data": {
            "text/plain": [
              "((4499, 50), (4499, 1), (4233, 51), (4233, 2))"
            ]
          },
          "metadata": {},
          "execution_count": 3
        }
      ],
      "source": [
        "#split the dataset into train and test\n",
        "X_train = pd.read_csv('https://raw.githubusercontent.com/rijinbaby/Urban-Sound-Classification/main/Datasets/X_train_5050_all.csv')\n",
        "y_train = pd.read_csv('https://raw.githubusercontent.com/rijinbaby/Urban-Sound-Classification/main/Datasets/y_train_5050_all.csv')\n",
        "X_test = pd.read_csv('https://raw.githubusercontent.com/rijinbaby/Urban-Sound-Classification/main/Datasets/X_test_5050_all.csv')\n",
        "y_test = pd.read_csv('https://raw.githubusercontent.com/rijinbaby/Urban-Sound-Classification/main/Datasets/y_test_5050_all.csv')\n",
        "#take a peak at the data\n",
        "X_train.shape, y_train.shape, X_test.shape, y_test.shape\n"
      ]
    },
    {
      "cell_type": "code",
      "execution_count": 4,
      "metadata": {
        "id": "5dBN8g6U9gpX"
      },
      "outputs": [],
      "source": [
        "X_val =  X_test[X_test['fold_no'] == 5].iloc[:,1:51]\n",
        "y_val = y_test[y_test['fold_no']==5].iloc[:,0:1]\n",
        "\n",
        "X_test7 =  X_test[X_test['fold_no'] == 7].iloc[:,1:51]\n",
        "y_test7 = y_test[y_test['fold_no']==7].iloc[:,0:1]\n",
        "\n",
        "X_test8 =  X_test[X_test['fold_no'] == 8].iloc[:,1:51]\n",
        "y_test8 = y_test[y_test['fold_no']==8].iloc[:,0:1]\n",
        "\n",
        "X_test9 =  X_test[X_test['fold_no'] == 9].iloc[:,1:51]\n",
        "y_test9 = y_test[y_test['fold_no']==9].iloc[:,0:1]\n",
        "\n",
        "X_test10 =  X_test[X_test['fold_no'] == 10].iloc[:,1:51]\n",
        "y_test10 = y_test[y_test['fold_no']==10].iloc[:,0:1]\n",
        "\n",
        "X_test = X_test.iloc[:,1:51]"
      ]
    },
    {
      "cell_type": "code",
      "execution_count": 5,
      "metadata": {
        "id": "Mq2eZYXa2zlv"
      },
      "outputs": [],
      "source": [
        "def model_prediction_on_folds(model):\n",
        "  fold5 = model.evaluate(X_val, y_val)\n",
        "  fold7 = model.evaluate(X_test7, y_test7)\n",
        "  fold8 = model.evaluate(X_test8, y_test8)\n",
        "  fold9 = model.evaluate(X_test9, y_test9)\n",
        "  fold10 = model.evaluate(X_test10, y_test10)\n",
        "  fold_accuracy = [fold5[1],fold7[1],fold8[1],fold9[1],fold10[1]]\n",
        "  return fold_accuracy\n",
        "\n",
        "#normalization (helps with exploding gradient); good as we are mixing a lot of datasets\n",
        "def standardization(data):\n",
        "  mean = np.mean(data,axis=0)\n",
        "  std = np.std(data, axis=0)\n",
        "  data =( data - mean)/std\n",
        "  data = np.array(data)\n",
        "  data=np.reshape(data,(data.shape[0],1, 50, 1))\n",
        "  return data\n",
        "\n",
        "X_train = standardization(X_train)\n",
        "X_test = standardization(X_test)\n",
        "X_val = standardization(X_val)\n",
        "X_test7 = standardization(X_test7)\n",
        "X_test8 = standardization(X_test8)\n",
        "X_test9 = standardization(X_test9)\n",
        "X_test10 = standardization(X_test10)\n",
        "\n",
        "#reshaping to shape required by CNN\n",
        "# X_train=np.reshape(X_train,(X_train.shape[0],1, 50, 1))\n",
        "# X_test=np.reshape(X_test,(X_test.shape[0],1, 50, 1))\n",
        "\n",
        "#one hot encoding the target\n",
        "le = LabelEncoder()\n",
        "\n",
        "def encoding_y(data):\n",
        "  data = np.array(data['label'])\n",
        "  data = to_categorical(le.fit_transform(data))\n",
        "  return data\n",
        "\n",
        "y_train = encoding_y(y_train)\n",
        "y_test = encoding_y(y_test) \n",
        "y_val = encoding_y(y_val)\n",
        "y_test7 = encoding_y(y_test7)\n",
        "y_test8 = encoding_y(y_test8)\n",
        "y_test9 = encoding_y(y_test9)\n",
        "y_test10 = encoding_y(y_test10)"
      ]
    },
    {
      "cell_type": "code",
      "execution_count": 6,
      "metadata": {
        "id": "RgSfxWFJtIiC"
      },
      "outputs": [],
      "source": [
        "#pickel the le object for future use\n",
        "filename = 'labels_usc'\n",
        "outfile = open(filename, 'wb')\n",
        "pickle.dump(le, outfile)\n",
        "outfile.close()"
      ]
    },
    {
      "cell_type": "markdown",
      "metadata": {
        "id": "v6tKkMFLjdDx"
      },
      "source": [
        "# Modelling"
      ]
    },
    {
      "cell_type": "code",
      "execution_count": 7,
      "metadata": {
        "id": "5cmy_kOzjdDy"
      },
      "outputs": [],
      "source": [
        "from tensorflow.keras.models import Sequential\n",
        "from tensorflow.keras.layers import Conv2D, Flatten, Dense, MaxPool2D, Dropout\n",
        "from tensorflow.keras.utils import to_categorical "
      ]
    },
    {
      "cell_type": "code",
      "execution_count": 8,
      "metadata": {
        "colab": {
          "base_uri": "https://localhost:8080/"
        },
        "id": "-z40yeOrjdDy",
        "outputId": "ff7ed076-ac6b-461e-cf80-102bde1071cf"
      },
      "outputs": [
        {
          "output_type": "stream",
          "name": "stdout",
          "text": [
            "Model: \"sequential\"\n",
            "_________________________________________________________________\n",
            " Layer (type)                Output Shape              Param #   \n",
            "=================================================================\n",
            " conv2d (Conv2D)             (None, 1, 50, 64)         1664      \n",
            "                                                                 \n",
            " max_pooling2d (MaxPooling2D  (None, 1, 25, 64)        0         \n",
            " )                                                               \n",
            "                                                                 \n",
            " conv2d_1 (Conv2D)           (None, 1, 25, 128)        204928    \n",
            "                                                                 \n",
            " max_pooling2d_1 (MaxPooling  (None, 1, 13, 128)       0         \n",
            " 2D)                                                             \n",
            "                                                                 \n",
            " dropout (Dropout)           (None, 1, 13, 128)        0         \n",
            "                                                                 \n",
            " flatten (Flatten)           (None, 1664)              0         \n",
            "                                                                 \n",
            " dense (Dense)               (None, 256)               426240    \n",
            "                                                                 \n",
            " dropout_1 (Dropout)         (None, 256)               0         \n",
            "                                                                 \n",
            " dense_1 (Dense)             (None, 512)               131584    \n",
            "                                                                 \n",
            " dropout_2 (Dropout)         (None, 512)               0         \n",
            "                                                                 \n",
            " dense_2 (Dense)             (None, 10)                5130      \n",
            "                                                                 \n",
            "=================================================================\n",
            "Total params: 769,546\n",
            "Trainable params: 769,546\n",
            "Non-trainable params: 0\n",
            "_________________________________________________________________\n"
          ]
        }
      ],
      "source": [
        "#builing our CNN model\n",
        "#forming model\n",
        "model=Sequential()\n",
        "\n",
        "model.add(Conv2D(64,kernel_size=5,strides=1,padding=\"Same\",activation=\"relu\",input_shape=(1,50,1)))\n",
        "model.add(MaxPooling2D(padding=\"same\"))\n",
        "\n",
        "model.add(Conv2D(128,kernel_size=5,strides=1,padding=\"same\",activation=\"relu\"))\n",
        "model.add(MaxPooling2D(padding=\"same\"))\n",
        "model.add(Dropout(0.3))\n",
        "\n",
        "model.add(Flatten())\n",
        "\n",
        "model.add(Dense(256,activation=\"relu\"))\n",
        "model.add(Dropout(0.3))\n",
        "\n",
        "model.add(Dense(512,activation=\"relu\"))\n",
        "model.add(Dropout(0.3))\n",
        "\n",
        "model.add(Dense(10,activation=\"softmax\"))\n",
        "\n",
        "opt_sgd = tf.keras.optimizers.SGD(learning_rate=0.0001, momentum=0.0, decay=0.0, nesterov=False)\n",
        "opt_adam = tf.keras.optimizers.Adam(learning_rate=0.0001)\n",
        "opt_rmp = tensorflow.keras.optimizers.RMSprop(learning_rate=0.00001, decay=1e-6)\n",
        "model.summary()"
      ]
    },
    {
      "cell_type": "code",
      "execution_count": 9,
      "metadata": {
        "colab": {
          "base_uri": "https://localhost:8080/"
        },
        "id": "MwVemGRajdDz",
        "outputId": "4316ca02-79f4-4310-ba74-b40b24847c48"
      },
      "outputs": [
        {
          "output_type": "execute_result",
          "data": {
            "text/plain": [
              "((4499, 1, 50, 1), (4233, 1, 50, 1), (4499, 10), (4233, 10))"
            ]
          },
          "metadata": {},
          "execution_count": 9
        }
      ],
      "source": [
        "X_train.shape, X_test.shape, y_train.shape, y_test.shape"
      ]
    },
    {
      "cell_type": "code",
      "execution_count": 10,
      "metadata": {
        "colab": {
          "base_uri": "https://localhost:8080/"
        },
        "id": "ZFPwsMSVjdDz",
        "outputId": "a46ecf10-2395-4c14-e512-a3f73374fb24"
      },
      "outputs": [
        {
          "output_type": "stream",
          "name": "stdout",
          "text": [
            "Epoch 1/20\n",
            "\n",
            "Epoch 00001: val_accuracy improved from -inf to 0.34402, saving model to up/usc_5050_CNN_all.h5\n",
            "141/141 - 8s - loss: 2.1858 - accuracy: 0.2212 - val_loss: 1.9233 - val_accuracy: 0.3440 - 8s/epoch - 53ms/step\n",
            "Epoch 2/20\n",
            "\n",
            "Epoch 00002: val_accuracy improved from 0.34402 to 0.37714, saving model to up/usc_5050_CNN_all.h5\n",
            "141/141 - 6s - loss: 1.7022 - accuracy: 0.4028 - val_loss: 1.5739 - val_accuracy: 0.3771 - 6s/epoch - 45ms/step\n",
            "Epoch 3/20\n",
            "\n",
            "Epoch 00003: val_accuracy improved from 0.37714 to 0.41453, saving model to up/usc_5050_CNN_all.h5\n",
            "141/141 - 6s - loss: 1.4582 - accuracy: 0.4859 - val_loss: 1.4979 - val_accuracy: 0.4145 - 6s/epoch - 45ms/step\n",
            "Epoch 4/20\n",
            "Epoch 5/20\n",
            "\n",
            "Epoch 00005: val_accuracy improved from 0.44551 to 0.46474, saving model to up/usc_5050_CNN_all.h5\n",
            "141/141 - 6s - loss: 1.1980 - accuracy: 0.5859 - val_loss: 1.4885 - val_accuracy: 0.4647 - 6s/epoch - 45ms/step\n",
            "Epoch 6/20\n",
            "\n",
            "Epoch 00006: val_accuracy did not improve from 0.46474\n",
            "141/141 - 6s - loss: 1.0814 - accuracy: 0.6206 - val_loss: 1.5090 - val_accuracy: 0.4476 - 6s/epoch - 45ms/step\n",
            "Epoch 7/20\n",
            "\n",
            "Epoch 00007: val_accuracy did not improve from 0.46474\n",
            "141/141 - 6s - loss: 1.0154 - accuracy: 0.6517 - val_loss: 1.5553 - val_accuracy: 0.4573 - 6s/epoch - 45ms/step\n",
            "Epoch 8/20\n",
            "\n",
            "Epoch 00008: val_accuracy improved from 0.46474 to 0.49679, saving model to up/usc_5050_CNN_all.h5\n",
            "141/141 - 6s - loss: 0.9420 - accuracy: 0.6819 - val_loss: 1.5441 - val_accuracy: 0.4968 - 6s/epoch - 45ms/step\n",
            "Epoch 9/20\n",
            "\n",
            "Epoch 00009: val_accuracy improved from 0.49679 to 0.52244, saving model to up/usc_5050_CNN_all.h5\n",
            "141/141 - 6s - loss: 0.8701 - accuracy: 0.7084 - val_loss: 1.5149 - val_accuracy: 0.5224 - 6s/epoch - 45ms/step\n",
            "Epoch 10/20\n",
            "\n",
            "Epoch 00010: val_accuracy did not improve from 0.52244\n",
            "141/141 - 6s - loss: 0.8158 - accuracy: 0.7233 - val_loss: 1.5118 - val_accuracy: 0.5224 - 6s/epoch - 44ms/step\n",
            "Epoch 11/20\n",
            "\n",
            "Epoch 00011: val_accuracy did not improve from 0.52244\n",
            "141/141 - 6s - loss: 0.7532 - accuracy: 0.7464 - val_loss: 1.4970 - val_accuracy: 0.5224 - 6s/epoch - 44ms/step\n",
            "Epoch 12/20\n",
            "\n",
            "Epoch 00012: val_accuracy improved from 0.52244 to 0.54487, saving model to up/usc_5050_CNN_all.h5\n",
            "141/141 - 6s - loss: 0.7234 - accuracy: 0.7564 - val_loss: 1.5004 - val_accuracy: 0.5449 - 6s/epoch - 44ms/step\n",
            "Epoch 13/20\n",
            "\n",
            "Epoch 00013: val_accuracy improved from 0.54487 to 0.55235, saving model to up/usc_5050_CNN_all.h5\n",
            "141/141 - 6s - loss: 0.6596 - accuracy: 0.7804 - val_loss: 1.5022 - val_accuracy: 0.5524 - 6s/epoch - 44ms/step\n",
            "Epoch 14/20\n",
            "\n",
            "Epoch 00014: val_accuracy did not improve from 0.55235\n",
            "141/141 - 6s - loss: 0.6325 - accuracy: 0.7840 - val_loss: 1.4686 - val_accuracy: 0.5470 - 6s/epoch - 44ms/step\n",
            "Epoch 15/20\n",
            "\n",
            "Epoch 00015: val_accuracy improved from 0.55235 to 0.57692, saving model to up/usc_5050_CNN_all.h5\n",
            "141/141 - 6s - loss: 0.5876 - accuracy: 0.8048 - val_loss: 1.5136 - val_accuracy: 0.5769 - 6s/epoch - 44ms/step\n",
            "Epoch 16/20\n",
            "\n",
            "Epoch 00016: val_accuracy improved from 0.57692 to 0.58761, saving model to up/usc_5050_CNN_all.h5\n",
            "141/141 - 6s - loss: 0.5659 - accuracy: 0.8122 - val_loss: 1.4145 - val_accuracy: 0.5876 - 6s/epoch - 44ms/step\n",
            "Epoch 17/20\n",
            "\n",
            "Epoch 00017: val_accuracy did not improve from 0.58761\n",
            "141/141 - 6s - loss: 0.5156 - accuracy: 0.8293 - val_loss: 1.4960 - val_accuracy: 0.5726 - 6s/epoch - 44ms/step\n",
            "Epoch 18/20\n",
            "\n",
            "Epoch 00018: val_accuracy did not improve from 0.58761\n",
            "141/141 - 6s - loss: 0.4949 - accuracy: 0.8373 - val_loss: 1.4795 - val_accuracy: 0.5812 - 6s/epoch - 44ms/step\n",
            "Epoch 19/20\n",
            "\n",
            "Epoch 00019: val_accuracy did not improve from 0.58761\n",
            "141/141 - 6s - loss: 0.4699 - accuracy: 0.8464 - val_loss: 1.5658 - val_accuracy: 0.5641 - 6s/epoch - 44ms/step\n",
            "Epoch 20/20\n",
            "\n",
            "Epoch 00020: val_accuracy did not improve from 0.58761\n",
            "141/141 - 6s - loss: 0.4285 - accuracy: 0.8571 - val_loss: 1.5491 - val_accuracy: 0.5759 - 6s/epoch - 44ms/step\n"
          ]
        }
      ],
      "source": [
        "model.compile(loss='categorical_crossentropy', optimizer=opt_adam, metrics=['accuracy'])\n",
        "\n",
        "checkpoint = ModelCheckpoint('up/usc_5050_CNN_all.h5', verbose=1, monitor='val_accuracy',save_best_only=True, mode='auto')  \n",
        "\n",
        "model_history = model.fit(X_train, y_train,validation_data=(X_val, y_val), epochs=20, batch_size=32, verbose=2, callbacks=[checkpoint])"
      ]
    },
    {
      "cell_type": "code",
      "execution_count": 11,
      "metadata": {
        "colab": {
          "base_uri": "https://localhost:8080/",
          "height": 312
        },
        "id": "N5y1H_Q9jdD0",
        "outputId": "efde861c-4653-4312-fecc-f6e437c1102a"
      },
      "outputs": [
        {
          "output_type": "execute_result",
          "data": {
            "text/plain": [
              "<function matplotlib.pyplot.show>"
            ]
          },
          "metadata": {},
          "execution_count": 11
        },
        {
          "output_type": "display_data",
          "data": {
            "image/png": "[encoded data removed]",
            "text/plain": [
              "<Figure size 432x288 with 1 Axes>"
            ]
          },
          "metadata": {
            "needs_background": "light"
          }
        }
      ],
      "source": [
        "#plotting the loss\n",
        "plt.plot(model_history.history['accuracy'])\n",
        "plt.plot(model_history.history['val_accuracy'])\n",
        "plt.title('model loss')\n",
        "plt.ylabel('loss')\n",
        "plt.xlabel('epoch')\n",
        "plt.legend(['train','test'], loc='upper right')\n",
        "plt.show"
      ]
    },
    {
      "cell_type": "markdown",
      "metadata": {
        "id": "iVCfDBiejdD0"
      },
      "source": [
        "# Model Serialisation (saving the model)"
      ]
    },
    {
      "cell_type": "code",
      "execution_count": 12,
      "metadata": {
        "id": "0Upl7GWvjdD0"
      },
      "outputs": [],
      "source": [
        "#save model to disk \n",
        "model_json = model.to_json()\n",
        "with open('up/usc_5050_CNN_all.json','w') as json_file:\n",
        "    json_file.write(model_json)"
      ]
    },
    {
      "cell_type": "markdown",
      "metadata": {
        "id": "Klr-jvc7jdD1"
      },
      "source": [
        "# Model Validation\n"
      ]
    },
    {
      "cell_type": "code",
      "execution_count": 13,
      "metadata": {
        "colab": {
          "base_uri": "https://localhost:8080/"
        },
        "id": "eefWwEu7jdD1",
        "outputId": "4fecba98-76dc-498b-edf5-ca6e61e0f0f1"
      },
      "outputs": [
        {
          "output_type": "stream",
          "name": "stdout",
          "text": [
            "Loaded model from disk\n",
            "133/133 [==============================] - 2s 10ms/step - loss: 1.4058 - accuracy: 0.6093\n",
            "accuracy: 60.93%\n"
          ]
        }
      ],
      "source": [
        "#loading the json file and model architecture\n",
        "json_file = open('up/usc_5050_CNN_all.json', 'r')\n",
        "loaded_model_json = json_file.read()\n",
        "json_file.close()\n",
        "loaded_model = model_from_json(loaded_model_json)\n",
        "\n",
        "#load weights into the new mode\n",
        "loaded_model.load_weights('up/usc_5050_CNN_all.h5')\n",
        "print('Loaded model from disk')\n",
        "\n",
        "loaded_model.compile(loss='categorical_crossentropy', optimizer=opt_adam, metrics =['accuracy'])\n",
        "\n",
        "score = loaded_model.evaluate(X_test, y_test)\n",
        "print(\"%s: %.2f%%\" %(loaded_model.metrics_names[1], score[1]*100))"
      ]
    },
    {
      "cell_type": "code",
      "execution_count": 14,
      "metadata": {
        "colab": {
          "base_uri": "https://localhost:8080/"
        },
        "id": "sWyJXpqK8tdZ",
        "outputId": "51be72ec-2933-4808-86f8-61aa1129acb4"
      },
      "outputs": [
        {
          "output_type": "stream",
          "name": "stdout",
          "text": [
            "30/30 [==============================] - 0s 10ms/step - loss: 1.4145 - accuracy: 0.5876\n",
            "27/27 [==============================] - 0s 10ms/step - loss: 1.2380 - accuracy: 0.6253\n",
            "26/26 [==============================] - 0s 10ms/step - loss: 1.3391 - accuracy: 0.6315\n",
            "26/26 [==============================] - 0s 9ms/step - loss: 1.6080 - accuracy: 0.5882\n",
            "27/27 [==============================] - 0s 9ms/step - loss: 1.3442 - accuracy: 0.6129\n"
          ]
        }
      ],
      "source": [
        "score_avg = model_prediction_on_folds(loaded_model)"
      ]
    },
    {
      "cell_type": "code",
      "execution_count": 15,
      "metadata": {
        "colab": {
          "base_uri": "https://localhost:8080/"
        },
        "id": "qEr4-owk9QvB",
        "outputId": "97681866-42b8-4a63-ec04-731361310f22"
      },
      "outputs": [
        {
          "output_type": "stream",
          "name": "stdout",
          "text": [
            "(0.6091114759445191, 0.018311264548216417)\n"
          ]
        }
      ],
      "source": [
        "print((np.mean(score_avg), np.std(score_avg)))"
      ]
    },
    {
      "cell_type": "code",
      "execution_count": 16,
      "metadata": {
        "colab": {
          "base_uri": "https://localhost:8080/"
        },
        "id": "w9siLjHQjdD1",
        "outputId": "9ae8b27d-d3ee-48e1-fbce-24294b64f126"
      },
      "outputs": [
        {
          "output_type": "stream",
          "name": "stdout",
          "text": [
            "4233/4233 [==============================] - 7s 2ms/step\n"
          ]
        },
        {
          "output_type": "execute_result",
          "data": {
            "text/plain": [
              "array([8, 2, 2, ..., 1, 1, 1])"
            ]
          },
          "metadata": {},
          "execution_count": 16
        }
      ],
      "source": [
        "preds = loaded_model.predict(X_test, batch_size=1, verbose=1)\n",
        "preds = preds.argmax(axis=1)\n",
        "preds"
      ]
    },
    {
      "cell_type": "code",
      "execution_count": 17,
      "metadata": {
        "colab": {
          "base_uri": "https://localhost:8080/",
          "height": 206
        },
        "id": "jBqm9JLXjdD2",
        "outputId": "a7fd3acd-37ce-4698-b832-93cc45e5c5e8"
      },
      "outputs": [
        {
          "output_type": "execute_result",
          "data": {
            "text/html": [
              "\n",
              "  <div id=\"df-f0059404-e504-4ed5-819f-15b330604b38\">\n",
              "    <div class=\"colab-df-container\">\n",
              "      <div>\n",
              "<style scoped>\n",
              "    .dataframe tbody tr th:only-of-type {\n",
              "        vertical-align: middle;\n",
              "    }\n",
              "\n",
              "    .dataframe tbody tr th {\n",
              "        vertical-align: top;\n",
              "    }\n",
              "\n",
              "    .dataframe thead th {\n",
              "        text-align: right;\n",
              "    }\n",
              "</style>\n",
              "<table border=\"1\" class=\"dataframe\">\n",
              "  <thead>\n",
              "    <tr style=\"text-align: right;\">\n",
              "      <th></th>\n",
              "      <th>actual_values</th>\n",
              "      <th>predicted_values</th>\n",
              "    </tr>\n",
              "  </thead>\n",
              "  <tbody>\n",
              "    <tr>\n",
              "      <th>0</th>\n",
              "      <td>3</td>\n",
              "      <td>8</td>\n",
              "    </tr>\n",
              "    <tr>\n",
              "      <th>1</th>\n",
              "      <td>2</td>\n",
              "      <td>2</td>\n",
              "    </tr>\n",
              "    <tr>\n",
              "      <th>2</th>\n",
              "      <td>2</td>\n",
              "      <td>2</td>\n",
              "    </tr>\n",
              "    <tr>\n",
              "      <th>3</th>\n",
              "      <td>2</td>\n",
              "      <td>2</td>\n",
              "    </tr>\n",
              "    <tr>\n",
              "      <th>4</th>\n",
              "      <td>2</td>\n",
              "      <td>2</td>\n",
              "    </tr>\n",
              "  </tbody>\n",
              "</table>\n",
              "</div>\n",
              "      <button class=\"colab-df-convert\" onclick=\"convertToInteractive('df-f0059404-e504-4ed5-819f-15b330604b38')\"\n",
              "              title=\"Convert this dataframe to an interactive table.\"\n",
              "              style=\"display:none;\">\n",
              "        \n",
              "  <svg xmlns=\"http://www.w3.org/2000/svg\" height=\"24px\"viewBox=\"0 0 24 24\"\n",
              "       width=\"24px\">\n",
              "    <path d=\"M0 0h24v24H0V0z\" fill=\"none\"/>\n",
              "    <path d=\"M18.56 5.44l.94 2.06.94-2.06 2.06-.94-2.06-.94-.94-2.06-.94 2.06-2.06.94zm-11 1L8.5 8.5l.94-2.06 2.06-.94-2.06-.94L8.5 2.5l-.94 2.06-2.06.94zm10 10l.94 2.06.94-2.06 2.06-.94-2.06-.94-.94-2.06-.94 2.06-2.06.94z\"/><path d=\"M17.41 7.96l-1.37-1.37c-.4-.4-.92-.59-1.43-.59-.52 0-1.04.2-1.43.59L10.3 9.45l-7.72 7.72c-.78.78-.78 2.05 0 2.83L4 21.41c.39.39.9.59 1.41.59.51 0 1.02-.2 1.41-.59l7.78-7.78 2.81-2.81c.8-.78.8-2.07 0-2.86zM5.41 20L4 18.59l7.72-7.72 1.47 1.35L5.41 20z\"/>\n",
              "  </svg>\n",
              "      </button>\n",
              "      \n",
              "  <style>\n",
              "    .colab-df-container {\n",
              "      display:flex;\n",
              "      flex-wrap:wrap;\n",
              "      gap: 12px;\n",
              "    }\n",
              "\n",
              "    .colab-df-convert {\n",
              "      background-color: #E8F0FE;\n",
              "      border: none;\n",
              "      border-radius: 50%;\n",
              "      cursor: pointer;\n",
              "      display: none;\n",
              "      fill: #1967D2;\n",
              "      height: 32px;\n",
              "      padding: 0 0 0 0;\n",
              "      width: 32px;\n",
              "    }\n",
              "\n",
              "    .colab-df-convert:hover {\n",
              "      background-color: #E2EBFA;\n",
              "      box-shadow: 0px 1px 2px rgba(60, 64, 67, 0.3), 0px 1px 3px 1px rgba(60, 64, 67, 0.15);\n",
              "      fill: #174EA6;\n",
              "    }\n",
              "\n",
              "    [theme=dark] .colab-df-convert {\n",
              "      background-color: #3B4455;\n",
              "      fill: #D2E3FC;\n",
              "    }\n",
              "\n",
              "    [theme=dark] .colab-df-convert:hover {\n",
              "      background-color: #434B5C;\n",
              "      box-shadow: 0px 1px 3px 1px rgba(0, 0, 0, 0.15);\n",
              "      filter: drop-shadow(0px 1px 2px rgba(0, 0, 0, 0.3));\n",
              "      fill: #FFFFFF;\n",
              "    }\n",
              "  </style>\n",
              "\n",
              "      <script>\n",
              "        const buttonEl =\n",
              "          document.querySelector('#df-f0059404-e504-4ed5-819f-15b330604b38 button.colab-df-convert');\n",
              "        buttonEl.style.display =\n",
              "          google.colab.kernel.accessAllowed ? 'block' : 'none';\n",
              "\n",
              "        async function convertToInteractive(key) {\n",
              "          const element = document.querySelector('#df-f0059404-e504-4ed5-819f-15b330604b38');\n",
              "          const dataTable =\n",
              "            await google.colab.kernel.invokeFunction('convertToInteractive',\n",
              "                                                     [key], {});\n",
              "          if (!dataTable) return;\n",
              "\n",
              "          const docLinkHtml = 'Like what you see? Visit the ' +\n",
              "            '<a target=\"_blank\" href=https://colab.research.google.com/notebooks/data_table.ipynb>data table notebook</a>'\n",
              "            + ' to learn more about interactive tables.';\n",
              "          element.innerHTML = '';\n",
              "          dataTable['output_type'] = 'display_data';\n",
              "          await google.colab.output.renderOutput(dataTable, element);\n",
              "          const docLink = document.createElement('div');\n",
              "          docLink.innerHTML = docLinkHtml;\n",
              "          element.appendChild(docLink);\n",
              "        }\n",
              "      </script>\n",
              "    </div>\n",
              "  </div>\n",
              "  "
            ],
            "text/plain": [
              "   actual_values  predicted_values\n",
              "0              3                 8\n",
              "1              2                 2\n",
              "2              2                 2\n",
              "3              2                 2\n",
              "4              2                 2"
            ]
          },
          "metadata": {},
          "execution_count": 17
        }
      ],
      "source": [
        "#The prediction is in the form of numbers, we'll need to append the labels to it before we run the accuracy measure\n",
        "\n",
        "#predictions\n",
        "#preds = preds.astype(int).flatten()\n",
        "preds = le.inverse_transform(preds)\n",
        "preds= pd.DataFrame({'predicted_values': preds})\n",
        "\n",
        "#Actual labels\n",
        "\n",
        "actual = y_test.argmax(axis=1)\n",
        "#actual = actual.astype(int).flatten()\n",
        "actual = le.inverse_transform(actual)\n",
        "actual = pd.DataFrame({'actual_values': actual})\n",
        "\n",
        "#combine both in one dataframe\n",
        "final_df = actual.join(preds)\n",
        "final_df.head()"
      ]
    },
    {
      "cell_type": "code",
      "execution_count": 18,
      "metadata": {
        "colab": {
          "base_uri": "https://localhost:8080/",
          "height": 292
        },
        "id": "pNrkJghbjdD2",
        "outputId": "0a59d71e-a553-485e-b344-1db1133f7c40"
      },
      "outputs": [
        {
          "output_type": "execute_result",
          "data": {
            "text/plain": [
              "[]"
            ]
          },
          "metadata": {},
          "execution_count": 18
        },
        {
          "output_type": "display_data",
          "data": {
            "image/png": "[encoded data removed]",
            "text/plain": [
              "<Figure size 1440x360 with 1 Axes>"
            ]
          },
          "metadata": {
            "needs_background": "light"
          }
        }
      ],
      "source": [
        "#write out predictions to disk\n",
        "#final_df.to_csv('usc_pred.csv', index=False)\n",
        "ddf = final_df.groupby('predicted_values')['actual_values'].value_counts()\n",
        "#final_df.groupby('actual_values').count()\n",
        "\n",
        "ax = ddf.unstack().plot(kind='bar',figsize=(20,5), rot = 0)\n",
        "ax.legend(bbox_to_anchor=(1.0, 1.0))\n",
        "ax.plot()"
      ]
    },
    {
      "cell_type": "code",
      "execution_count": 19,
      "metadata": {
        "colab": {
          "base_uri": "https://localhost:8080/"
        },
        "id": "5M6HTGynjdD2",
        "outputId": "cbfb2a3f-b0f5-455e-d1c1-d57e42283a27"
      },
      "outputs": [
        {
          "output_type": "stream",
          "name": "stdout",
          "text": [
            "              precision    recall  f1-score   support\n",
            "\n",
            "           0       0.52      0.36      0.43       500\n",
            "           1       0.85      0.84      0.84       221\n",
            "           2       0.53      0.71      0.61       500\n",
            "           3       0.72      0.63      0.67       500\n",
            "           4       0.46      0.37      0.41       500\n",
            "           5       0.72      0.64      0.68       483\n",
            "           6       0.64      0.80      0.71       184\n",
            "           7       0.54      0.58      0.56       452\n",
            "           8       0.65      0.74      0.69       393\n",
            "           9       0.61      0.70      0.65       500\n",
            "\n",
            "    accuracy                           0.61      4233\n",
            "   macro avg       0.62      0.64      0.63      4233\n",
            "weighted avg       0.61      0.61      0.60      4233\n",
            "\n"
          ]
        }
      ],
      "source": [
        "#Classification report\n",
        "classes = final_df.actual_values.unique()\n",
        "classes.sort()\n",
        "print(classification_report(final_df.actual_values, final_df.predicted_values))"
      ]
    },
    {
      "cell_type": "code",
      "execution_count": 20,
      "metadata": {
        "id": "IxPJxeP6jdD2"
      },
      "outputs": [],
      "source": [
        "\n",
        "k_df = final_df.copy()\n",
        "k_df = k_df.astype(str)\n",
        "k_df['actual_values'] = k_df.actual_values.replace({          \n",
        "                                        '0.0' :   'air_conditioner',\n",
        "                                        '1.0' :  'car_horn',\n",
        "                                        '2.0' :  'children_playing',\n",
        "                                        '3.0' :  'dog_bark' ,      \n",
        "                                        '4.0' :  'drilling',       \n",
        "                                        '5.0' :  'engine_idling',  \n",
        "                                        '6.0' :  'gun_shot',\n",
        "                                        '7.0' :  'jackhammer',     \n",
        "                                        '8.0' :  'siren', \n",
        "                                        '9.0' :  'street_music'\n",
        "                                                         })\n",
        "k_df['predicted_values'] = k_df.predicted_values.replace({\n",
        "                                        '0.0' :   'air_conditioner',\n",
        "                                        '1.0' :  'car_horn',\n",
        "                                        '2.0' :  'children_playing',\n",
        "                                        '3.0' :  'dog_bark' ,      \n",
        "                                        '4.0' :  'drilling',       \n",
        "                                        '5.0' :  'engine_idling',  \n",
        "                                        '6.0' :  'gun_shot',\n",
        "                                        '7.0' :  'jackhammer',     \n",
        "                                        '8.0' :  'siren', \n",
        "                                        '9.0' :  'street_music'\n",
        "                                                         })\n",
        "\n",
        "\n",
        "classes = k_df.actual_values.unique()\n",
        "classes.sort()"
      ]
    },
    {
      "cell_type": "code",
      "execution_count": 21,
      "metadata": {
        "colab": {
          "base_uri": "https://localhost:8080/"
        },
        "id": "IjhIOmIZjdD3",
        "outputId": "ec025199-5bc8-4aa4-a8f5-49951b6f6829"
      },
      "outputs": [
        {
          "output_type": "execute_result",
          "data": {
            "text/plain": [
              "2    500\n",
              "9    500\n",
              "4    500\n",
              "0    500\n",
              "3    500\n",
              "5    483\n",
              "7    452\n",
              "8    393\n",
              "1    221\n",
              "6    184\n",
              "Name: actual_values, dtype: int64"
            ]
          },
          "metadata": {},
          "execution_count": 21
        }
      ],
      "source": [
        "#k_df = k_df.astype(str)\n",
        "\n",
        "k_df.actual_values.value_counts()\n"
      ]
    },
    {
      "cell_type": "code",
      "execution_count": 22,
      "metadata": {
        "colab": {
          "base_uri": "https://localhost:8080/",
          "height": 697
        },
        "id": "-QZu7R7xjdD3",
        "outputId": "ed1bbe71-782c-4c4d-ca53-b8375e67f838",
        "scrolled": false
      },
      "outputs": [
        {
          "output_type": "stream",
          "name": "stderr",
          "text": [
            "findfont: Font family ['NanumGothic'] not found. Falling back to DejaVu Sans.\n"
          ]
        },
        {
          "output_type": "stream",
          "name": "stdout",
          "text": [
            "0.609260571698559\n"
          ]
        },
        {
          "output_type": "stream",
          "name": "stderr",
          "text": [
            "findfont: Font family ['NanumGothic'] not found. Falling back to DejaVu Sans.\n"
          ]
        },
        {
          "output_type": "display_data",
          "data": {
            "image/png": "[encoded data removed]",
            "text/plain": [
              "<Figure size 1080x720 with 2 Axes>"
            ]
          },
          "metadata": {
            "needs_background": "light"
          }
        }
      ],
      "source": [
        "#final_df = pd.read_csv(\"kr_13_p.csv\")\n",
        "classes = k_df.actual_values.unique()\n",
        "classes.sort()\n",
        "\n",
        "#confusion matrix\n",
        "c = confusion_matrix(k_df.actual_values, k_df.predicted_values)\n",
        "print(accuracy_score(k_df.actual_values, k_df.predicted_values))\n",
        "make_confusion_matrix(c, group_names=['True Values','Predicted Value'], categories=classes, figsize =(15,10), title='Urban Sound Classification')"
      ]
    }
  ],
  "metadata": {
    "colab": {
      "name": "usc_5050_CNN_all.ipynb",
      "provenance": [],
      "include_colab_link": true
    },
    "interpreter": {
      "hash": "f7683a7f777909b12b9dba625a5b210f0c2b8f5f0928a0c53def8c253f8296f8"
    },
    "kernelspec": {
      "display_name": "sg_tensorflowTTS_new",
      "language": "python",
      "name": "python3"
    },
    "language_info": {
      "codemirror_mode": {
        "name": "ipython",
        "version": 3
      },
      "file_extension": ".py",
      "mimetype": "text/x-python",
      "name": "python",
      "nbconvert_exporter": "python",
      "pygments_lexer": "ipython3",
      "version": "3.7.10"
    }
  },
  "nbformat": 4,
  "nbformat_minor": 0
}