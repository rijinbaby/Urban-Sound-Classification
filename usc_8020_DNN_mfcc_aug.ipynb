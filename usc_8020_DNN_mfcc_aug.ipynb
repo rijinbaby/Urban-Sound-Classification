{
  "cells": [
    {
      "cell_type": "markdown",
      "metadata": {
        "id": "view-in-github",
        "colab_type": "text"
      },
      "source": [
        "<a href=\"https://colab.research.google.com/github/rijinbaby/Urban-Sound-Classification/blob/DNN/usc_8020_DNN_mfcc_aug.ipynb\" target=\"_parent\"><img src=\"https://colab.research.google.com/assets/colab-badge.svg\" alt=\"Open In Colab\"/></a>"
      ]
    },
    {
      "cell_type": "code",
      "execution_count": 1,
      "metadata": {
        "id": "ThZiKbGr0EYN"
      },
      "outputs": [],
      "source": [
        "#importing required libraries\n",
        "#Keras\n",
        "import tensorflow.keras\n",
        "from tensorflow.keras import regularizers, layers\n",
        "from tensorflow.keras.preprocessing import sequence\n",
        "from tensorflow.keras.preprocessing.text import Tokenizer\n",
        "from tensorflow.keras.preprocessing.sequence import pad_sequences\n",
        "from tensorflow.keras.models import Sequential, Model, model_from_json\n",
        "from tensorflow.keras.layers import Dense, Embedding, LSTM\n",
        "from tensorflow.keras.layers import Input, Flatten, Dropout, Activation, BatchNormalization\n",
        "from tensorflow.keras.layers import Conv2D, MaxPooling2D, AveragePooling1D\n",
        "from tensorflow.keras.utils import to_categorical\n",
        "from tensorflow.keras.callbacks import ModelCheckpoint\n",
        "\n",
        "#sklearn\n",
        "from sklearn.metrics import confusion_matrix, accuracy_score, classification_report\n",
        "from sklearn.model_selection import train_test_split\n",
        "from sklearn.preprocessing import LabelEncoder\n",
        "\n",
        "#Others\n",
        "import librosa\n",
        "import librosa.display\n",
        "import json\n",
        "import numpy as np\n",
        "import matplotlib.pyplot as plt\n",
        "from matplotlib.pyplot import specgram\n",
        "import tensorflow as tf\n",
        "import pandas as pd\n",
        "import seaborn as sns\n",
        "import glob\n",
        "import os\n",
        "import pickle\n",
        "import IPython.display as ipd\n",
        "import csv\n",
        "from tqdm import tqdm\n",
        "import os\n",
        "os.environ[\"CUDA_VISIBLE_DEVICES\"]=\"0\"\n",
        "tf_device='/gpu:0'"
      ]
    },
    {
      "cell_type": "markdown",
      "metadata": {
        "id": "R7Dsco-q0EYQ"
      },
      "source": [
        "# Confusion matrix \n"
      ]
    },
    {
      "cell_type": "code",
      "execution_count": 2,
      "metadata": {
        "id": "7AGW1SDI0EYR"
      },
      "outputs": [],
      "source": [
        "def make_confusion_matrix(cf,\n",
        "                          group_names=None,\n",
        "                          categories='auto',\n",
        "                          count=True,\n",
        "                          percent=True,\n",
        "                          cbar=True,\n",
        "                          xyticks=True,\n",
        "                          xyplotlabels=True,\n",
        "                          sum_stats=True,\n",
        "                          figsize=None,\n",
        "                          cmap='Blues',\n",
        "                          title=None):\n",
        "    '''\n",
        "    This function will make a pretty plot of an sklearn Confusion Matrix cm using a Seaborn heatmap visualization.\n",
        "    Arguments\n",
        "    ---------\n",
        "    cf:            confusion matrix to be passed in\n",
        "    group_names:   List of strings that represent the labels row by row to be shown in each square.\n",
        "    categories:    List of strings containing the categories to be displayed on the x,y axis. Default is 'auto'\n",
        "    count:         If True, show the raw number in the confusion matrix. Default is True.\n",
        "    normalize:     If True, show the proportions for each category. Default is True.\n",
        "    cbar:          If True, show the color bar. The cbar values are based off the values in the confusion matrix.\n",
        "                   Default is True.\n",
        "    xyticks:       If True, show x and y ticks. Default is True.\n",
        "    xyplotlabels:  If True, show 'True Label' and 'Predicted Label' on the figure. Default is True.\n",
        "    sum_stats:     If True, display summary statistics below the figure. Default is True.\n",
        "    figsize:       Tuple representing the figure size. Default will be the matplotlib rcParams value.\n",
        "    cmap:          Colormap of the values displayed from matplotlib.pyplot.cm. Default is 'Blues'\n",
        "                   See http://matplotlib.org/examples/color/colormaps_reference.html\n",
        "                   \n",
        "    title:         Title for the heatmap. Default is None.\n",
        "    '''\n",
        "\n",
        "\n",
        "    # CODE TO GENERATE TEXT INSIDE EACH SQUARE\n",
        "    blanks = ['' for i in range(cf.size)]\n",
        "\n",
        "    if group_names and len(group_names)==cf.size:\n",
        "        group_labels = [\"{}\\n\".format(value) for value in group_names]\n",
        "    else:\n",
        "        group_labels = blanks\n",
        "\n",
        "    if count:\n",
        "        group_counts = [\"{0:0.0f}\\n\".format(value) for value in cf.flatten()]\n",
        "    else:\n",
        "        group_counts = blanks\n",
        "\n",
        "    if percent:\n",
        "        group_percentages = [\"{0:.2%}\".format(value) for value in cf.flatten()/np.sum(cf)]\n",
        "    else:\n",
        "        group_percentages = blanks\n",
        "\n",
        "    box_labels = [f\"{v1}{v2}{v3}\".strip() for v1, v2, v3 in zip(group_labels,group_counts,group_percentages)]\n",
        "    box_labels = np.asarray(box_labels).reshape(cf.shape[0],cf.shape[1])\n",
        "\n",
        "\n",
        "    # CODE TO GENERATE SUMMARY STATISTICS & TEXT FOR SUMMARY STATS\n",
        "    if sum_stats:\n",
        "        #Accuracy is sum of diagonal divided by total observations\n",
        "        accuracy  = np.trace(cf) / float(np.sum(cf))\n",
        "\n",
        "        #if it is a binary confusion matrix, show some more stats\n",
        "        if len(cf)==2:\n",
        "            #Metrics for Binary Confusion Matrices\n",
        "            precision = cf[1,1] / sum(cf[:,1])\n",
        "            recall    = cf[1,1] / sum(cf[1,:])\n",
        "            f1_score  = 2*precision*recall / (precision + recall)\n",
        "            stats_text = \"\\n\\nAccuracy={:0.3f}\\nPrecision={:0.3f}\\nRecall={:0.3f}\\nF1 Score={:0.3f}\".format(\n",
        "                accuracy,precision,recall,f1_score)\n",
        "        else:\n",
        "            stats_text = \"\\n\\nAccuracy={:0.3f}\".format(accuracy)\n",
        "    else:\n",
        "        stats_text = \"\"\n",
        "\n",
        "\n",
        "    # SET FIGURE PARAMETERS ACCORDING TO OTHER ARGUMENTS\n",
        "    if figsize==None:\n",
        "        #Get default figure size if not set\n",
        "        figsize = plt.rcParams.get('figure.figsize')\n",
        "\n",
        "    if xyticks==False:\n",
        "        #Do not show categories if xyticks is False\n",
        "        categories=False\n",
        "\n",
        "\n",
        "    # MAKE THE HEATMAP VISUALIZATION\n",
        "    plt.rcParams[\"font.family\"] = 'NanumGothic'\n",
        "    plt.figure(figsize=figsize)\n",
        "    sns.heatmap(cf,annot=box_labels,fmt=\"\",cmap=cmap,cbar=cbar,xticklabels=categories,yticklabels=categories)\n",
        "\n",
        "    if xyplotlabels:\n",
        "        plt.ylabel('True label')\n",
        "        plt.xlabel('Predicted label' + stats_text)\n",
        "    else:\n",
        "        plt.xlabel(stats_text)\n",
        "    \n",
        "    if title:\n",
        "        plt.title(title)\n",
        "        plt.savefig(title +'.jpg')"
      ]
    },
    {
      "cell_type": "markdown",
      "metadata": {
        "id": "ERpKhoL30EYU"
      },
      "source": [
        "# Data Processing"
      ]
    },
    {
      "cell_type": "code",
      "execution_count": 3,
      "metadata": {
        "colab": {
          "base_uri": "https://localhost:8080/"
        },
        "id": "CSRI9ICY0EYU",
        "outputId": "8effa18d-55f2-4578-9193-973678a322b3"
      },
      "outputs": [
        {
          "output_type": "execute_result",
          "data": {
            "text/plain": [
              "((35395, 40), (35395, 1), (1653, 40), (1653, 1))"
            ]
          },
          "metadata": {},
          "execution_count": 3
        }
      ],
      "source": [
        "#split the dataset into train and test\n",
        "X_train = pd.read_csv('https://raw.githubusercontent.com/rijinbaby/Urban-Sound-Classification/main/Datasets/X_train_8020_mfcc_aug.csv')\n",
        "y_train = pd.read_csv('https://raw.githubusercontent.com/rijinbaby/Urban-Sound-Classification/main/Datasets/y_train_8020_mfcc_aug.csv')\n",
        "X_test = pd.read_csv('https://raw.githubusercontent.com/rijinbaby/Urban-Sound-Classification/main/Datasets/X_test_8020_mfcc_aug.csv')\n",
        "y_test = pd.read_csv('https://raw.githubusercontent.com/rijinbaby/Urban-Sound-Classification/main/Datasets/y_test_8020_mfcc_aug.csv')\n",
        "#take a peak at the data\n",
        "X_train.shape, y_train.shape, X_test.shape, y_test.shape\n"
      ]
    },
    {
      "cell_type": "code",
      "execution_count": 4,
      "metadata": {
        "colab": {
          "base_uri": "https://localhost:8080/",
          "height": 270
        },
        "id": "zRNSStJs0EYU",
        "outputId": "80b697e7-1b2e-4729-dd29-aa55e86ad34b"
      },
      "outputs": [
        {
          "output_type": "execute_result",
          "data": {
            "text/html": [
              "\n",
              "  <div id=\"df-31916d84-993d-4972-8af2-5d6d3a2dab74\">\n",
              "    <div class=\"colab-df-container\">\n",
              "      <div>\n",
              "<style scoped>\n",
              "    .dataframe tbody tr th:only-of-type {\n",
              "        vertical-align: middle;\n",
              "    }\n",
              "\n",
              "    .dataframe tbody tr th {\n",
              "        vertical-align: top;\n",
              "    }\n",
              "\n",
              "    .dataframe thead th {\n",
              "        text-align: right;\n",
              "    }\n",
              "</style>\n",
              "<table border=\"1\" class=\"dataframe\">\n",
              "  <thead>\n",
              "    <tr style=\"text-align: right;\">\n",
              "      <th></th>\n",
              "      <th>mfcc0</th>\n",
              "      <th>mfcc1</th>\n",
              "      <th>mfcc2</th>\n",
              "      <th>mfcc3</th>\n",
              "      <th>mfcc4</th>\n",
              "      <th>mfcc5</th>\n",
              "      <th>mfcc6</th>\n",
              "      <th>mfcc7</th>\n",
              "      <th>mfcc8</th>\n",
              "      <th>mfcc9</th>\n",
              "      <th>mfcc10</th>\n",
              "      <th>mfcc11</th>\n",
              "      <th>mfcc12</th>\n",
              "      <th>mfcc13</th>\n",
              "      <th>mfcc14</th>\n",
              "      <th>mfcc15</th>\n",
              "      <th>mfcc16</th>\n",
              "      <th>mfcc17</th>\n",
              "      <th>mfcc18</th>\n",
              "      <th>mfcc19</th>\n",
              "      <th>mfcc20</th>\n",
              "      <th>mfcc21</th>\n",
              "      <th>mfcc22</th>\n",
              "      <th>mfcc23</th>\n",
              "      <th>mfcc24</th>\n",
              "      <th>mfcc25</th>\n",
              "      <th>mfcc26</th>\n",
              "      <th>mfcc27</th>\n",
              "      <th>mfcc28</th>\n",
              "      <th>mfcc29</th>\n",
              "      <th>mfcc30</th>\n",
              "      <th>mfcc31</th>\n",
              "      <th>mfcc32</th>\n",
              "      <th>mfcc33</th>\n",
              "      <th>mfcc34</th>\n",
              "      <th>mfcc35</th>\n",
              "      <th>mfcc36</th>\n",
              "      <th>mfcc37</th>\n",
              "      <th>mfcc38</th>\n",
              "      <th>mfcc39</th>\n",
              "    </tr>\n",
              "  </thead>\n",
              "  <tbody>\n",
              "    <tr>\n",
              "      <th>0</th>\n",
              "      <td>0.128739</td>\n",
              "      <td>-0.718271</td>\n",
              "      <td>-3.277149</td>\n",
              "      <td>-3.430434</td>\n",
              "      <td>-0.635491</td>\n",
              "      <td>-2.692575</td>\n",
              "      <td>-0.299016</td>\n",
              "      <td>0.769622</td>\n",
              "      <td>1.662210</td>\n",
              "      <td>0.729249</td>\n",
              "      <td>-0.612250</td>\n",
              "      <td>-0.685389</td>\n",
              "      <td>-1.531889</td>\n",
              "      <td>0.675864</td>\n",
              "      <td>-0.143537</td>\n",
              "      <td>-0.916253</td>\n",
              "      <td>-2.154323</td>\n",
              "      <td>-0.326041</td>\n",
              "      <td>-0.124808</td>\n",
              "      <td>1.081655</td>\n",
              "      <td>-1.669407</td>\n",
              "      <td>-1.681580</td>\n",
              "      <td>1.639236</td>\n",
              "      <td>-0.898997</td>\n",
              "      <td>-0.946377</td>\n",
              "      <td>-0.170263</td>\n",
              "      <td>-0.404533</td>\n",
              "      <td>1.056692</td>\n",
              "      <td>-1.089425</td>\n",
              "      <td>-1.455832</td>\n",
              "      <td>0.583706</td>\n",
              "      <td>1.829247</td>\n",
              "      <td>0.159873</td>\n",
              "      <td>0.482987</td>\n",
              "      <td>-1.538993</td>\n",
              "      <td>-0.951022</td>\n",
              "      <td>1.256081</td>\n",
              "      <td>-0.257801</td>\n",
              "      <td>0.003827</td>\n",
              "      <td>0.102875</td>\n",
              "    </tr>\n",
              "    <tr>\n",
              "      <th>1</th>\n",
              "      <td>-1.490371</td>\n",
              "      <td>0.021530</td>\n",
              "      <td>-0.825412</td>\n",
              "      <td>1.951915</td>\n",
              "      <td>0.897395</td>\n",
              "      <td>0.126913</td>\n",
              "      <td>0.887478</td>\n",
              "      <td>-0.184147</td>\n",
              "      <td>0.970707</td>\n",
              "      <td>0.218816</td>\n",
              "      <td>-0.296390</td>\n",
              "      <td>1.682059</td>\n",
              "      <td>-0.118779</td>\n",
              "      <td>0.885938</td>\n",
              "      <td>1.077092</td>\n",
              "      <td>0.089996</td>\n",
              "      <td>0.579414</td>\n",
              "      <td>1.122291</td>\n",
              "      <td>-0.102452</td>\n",
              "      <td>0.622097</td>\n",
              "      <td>0.430157</td>\n",
              "      <td>1.152541</td>\n",
              "      <td>0.360628</td>\n",
              "      <td>1.407751</td>\n",
              "      <td>0.383717</td>\n",
              "      <td>-0.096833</td>\n",
              "      <td>-0.478415</td>\n",
              "      <td>0.026297</td>\n",
              "      <td>-1.026192</td>\n",
              "      <td>0.040061</td>\n",
              "      <td>0.131779</td>\n",
              "      <td>0.443077</td>\n",
              "      <td>-0.040556</td>\n",
              "      <td>0.035459</td>\n",
              "      <td>0.231975</td>\n",
              "      <td>0.101104</td>\n",
              "      <td>-0.342785</td>\n",
              "      <td>0.389831</td>\n",
              "      <td>-0.045498</td>\n",
              "      <td>0.260176</td>\n",
              "    </tr>\n",
              "    <tr>\n",
              "      <th>2</th>\n",
              "      <td>-1.767440</td>\n",
              "      <td>0.285304</td>\n",
              "      <td>-0.660540</td>\n",
              "      <td>1.572639</td>\n",
              "      <td>0.813679</td>\n",
              "      <td>0.682759</td>\n",
              "      <td>1.348742</td>\n",
              "      <td>-0.247275</td>\n",
              "      <td>0.953860</td>\n",
              "      <td>0.178166</td>\n",
              "      <td>-0.506799</td>\n",
              "      <td>0.899096</td>\n",
              "      <td>0.547089</td>\n",
              "      <td>0.788380</td>\n",
              "      <td>0.801387</td>\n",
              "      <td>0.250867</td>\n",
              "      <td>-0.297087</td>\n",
              "      <td>0.016420</td>\n",
              "      <td>0.361574</td>\n",
              "      <td>1.771904</td>\n",
              "      <td>0.892873</td>\n",
              "      <td>0.985485</td>\n",
              "      <td>0.304521</td>\n",
              "      <td>0.270159</td>\n",
              "      <td>-0.252055</td>\n",
              "      <td>0.342424</td>\n",
              "      <td>-0.115652</td>\n",
              "      <td>-0.112251</td>\n",
              "      <td>-0.309014</td>\n",
              "      <td>0.431239</td>\n",
              "      <td>0.412297</td>\n",
              "      <td>-0.187225</td>\n",
              "      <td>-0.933371</td>\n",
              "      <td>-0.403256</td>\n",
              "      <td>-0.442114</td>\n",
              "      <td>-0.247230</td>\n",
              "      <td>-0.470946</td>\n",
              "      <td>0.917531</td>\n",
              "      <td>0.420045</td>\n",
              "      <td>0.037370</td>\n",
              "    </tr>\n",
              "    <tr>\n",
              "      <th>3</th>\n",
              "      <td>-1.408964</td>\n",
              "      <td>-0.141204</td>\n",
              "      <td>-0.275769</td>\n",
              "      <td>1.555886</td>\n",
              "      <td>1.001761</td>\n",
              "      <td>-0.086025</td>\n",
              "      <td>0.977043</td>\n",
              "      <td>-0.523243</td>\n",
              "      <td>0.928414</td>\n",
              "      <td>-0.128648</td>\n",
              "      <td>-0.439908</td>\n",
              "      <td>1.738224</td>\n",
              "      <td>0.330419</td>\n",
              "      <td>0.856204</td>\n",
              "      <td>0.290054</td>\n",
              "      <td>-0.271213</td>\n",
              "      <td>0.827582</td>\n",
              "      <td>0.629211</td>\n",
              "      <td>0.828628</td>\n",
              "      <td>0.628418</td>\n",
              "      <td>-0.360317</td>\n",
              "      <td>0.790181</td>\n",
              "      <td>-0.554021</td>\n",
              "      <td>0.485690</td>\n",
              "      <td>-0.091325</td>\n",
              "      <td>-0.100695</td>\n",
              "      <td>-0.482773</td>\n",
              "      <td>-0.098903</td>\n",
              "      <td>-0.661200</td>\n",
              "      <td>-0.504802</td>\n",
              "      <td>-0.706510</td>\n",
              "      <td>0.201883</td>\n",
              "      <td>0.458298</td>\n",
              "      <td>0.234511</td>\n",
              "      <td>-0.429165</td>\n",
              "      <td>0.428719</td>\n",
              "      <td>-0.199478</td>\n",
              "      <td>-0.116030</td>\n",
              "      <td>-0.399259</td>\n",
              "      <td>-0.201465</td>\n",
              "    </tr>\n",
              "    <tr>\n",
              "      <th>4</th>\n",
              "      <td>-1.668093</td>\n",
              "      <td>0.114278</td>\n",
              "      <td>-0.817193</td>\n",
              "      <td>1.936051</td>\n",
              "      <td>1.046055</td>\n",
              "      <td>0.724689</td>\n",
              "      <td>0.926024</td>\n",
              "      <td>-0.218215</td>\n",
              "      <td>1.415790</td>\n",
              "      <td>0.008171</td>\n",
              "      <td>-0.783208</td>\n",
              "      <td>1.200865</td>\n",
              "      <td>0.576318</td>\n",
              "      <td>0.499092</td>\n",
              "      <td>1.221892</td>\n",
              "      <td>0.654563</td>\n",
              "      <td>-0.074027</td>\n",
              "      <td>0.230234</td>\n",
              "      <td>-0.544496</td>\n",
              "      <td>1.756772</td>\n",
              "      <td>0.822780</td>\n",
              "      <td>0.772343</td>\n",
              "      <td>0.303439</td>\n",
              "      <td>0.629931</td>\n",
              "      <td>-0.160674</td>\n",
              "      <td>0.278471</td>\n",
              "      <td>0.042202</td>\n",
              "      <td>1.008037</td>\n",
              "      <td>0.119412</td>\n",
              "      <td>-0.146587</td>\n",
              "      <td>-0.253981</td>\n",
              "      <td>-0.345463</td>\n",
              "      <td>0.076863</td>\n",
              "      <td>0.551974</td>\n",
              "      <td>-0.455106</td>\n",
              "      <td>0.171544</td>\n",
              "      <td>-0.077553</td>\n",
              "      <td>0.786362</td>\n",
              "      <td>0.405502</td>\n",
              "      <td>0.175807</td>\n",
              "    </tr>\n",
              "  </tbody>\n",
              "</table>\n",
              "</div>\n",
              "      <button class=\"colab-df-convert\" onclick=\"convertToInteractive('df-31916d84-993d-4972-8af2-5d6d3a2dab74')\"\n",
              "              title=\"Convert this dataframe to an interactive table.\"\n",
              "              style=\"display:none;\">\n",
              "        \n",
              "  <svg xmlns=\"http://www.w3.org/2000/svg\" height=\"24px\"viewBox=\"0 0 24 24\"\n",
              "       width=\"24px\">\n",
              "    <path d=\"M0 0h24v24H0V0z\" fill=\"none\"/>\n",
              "    <path d=\"M18.56 5.44l.94 2.06.94-2.06 2.06-.94-2.06-.94-.94-2.06-.94 2.06-2.06.94zm-11 1L8.5 8.5l.94-2.06 2.06-.94-2.06-.94L8.5 2.5l-.94 2.06-2.06.94zm10 10l.94 2.06.94-2.06 2.06-.94-2.06-.94-.94-2.06-.94 2.06-2.06.94z\"/><path d=\"M17.41 7.96l-1.37-1.37c-.4-.4-.92-.59-1.43-.59-.52 0-1.04.2-1.43.59L10.3 9.45l-7.72 7.72c-.78.78-.78 2.05 0 2.83L4 21.41c.39.39.9.59 1.41.59.51 0 1.02-.2 1.41-.59l7.78-7.78 2.81-2.81c.8-.78.8-2.07 0-2.86zM5.41 20L4 18.59l7.72-7.72 1.47 1.35L5.41 20z\"/>\n",
              "  </svg>\n",
              "      </button>\n",
              "      \n",
              "  <style>\n",
              "    .colab-df-container {\n",
              "      display:flex;\n",
              "      flex-wrap:wrap;\n",
              "      gap: 12px;\n",
              "    }\n",
              "\n",
              "    .colab-df-convert {\n",
              "      background-color: #E8F0FE;\n",
              "      border: none;\n",
              "      border-radius: 50%;\n",
              "      cursor: pointer;\n",
              "      display: none;\n",
              "      fill: #1967D2;\n",
              "      height: 32px;\n",
              "      padding: 0 0 0 0;\n",
              "      width: 32px;\n",
              "    }\n",
              "\n",
              "    .colab-df-convert:hover {\n",
              "      background-color: #E2EBFA;\n",
              "      box-shadow: 0px 1px 2px rgba(60, 64, 67, 0.3), 0px 1px 3px 1px rgba(60, 64, 67, 0.15);\n",
              "      fill: #174EA6;\n",
              "    }\n",
              "\n",
              "    [theme=dark] .colab-df-convert {\n",
              "      background-color: #3B4455;\n",
              "      fill: #D2E3FC;\n",
              "    }\n",
              "\n",
              "    [theme=dark] .colab-df-convert:hover {\n",
              "      background-color: #434B5C;\n",
              "      box-shadow: 0px 1px 3px 1px rgba(0, 0, 0, 0.15);\n",
              "      filter: drop-shadow(0px 1px 2px rgba(0, 0, 0, 0.3));\n",
              "      fill: #FFFFFF;\n",
              "    }\n",
              "  </style>\n",
              "\n",
              "      <script>\n",
              "        const buttonEl =\n",
              "          document.querySelector('#df-31916d84-993d-4972-8af2-5d6d3a2dab74 button.colab-df-convert');\n",
              "        buttonEl.style.display =\n",
              "          google.colab.kernel.accessAllowed ? 'block' : 'none';\n",
              "\n",
              "        async function convertToInteractive(key) {\n",
              "          const element = document.querySelector('#df-31916d84-993d-4972-8af2-5d6d3a2dab74');\n",
              "          const dataTable =\n",
              "            await google.colab.kernel.invokeFunction('convertToInteractive',\n",
              "                                                     [key], {});\n",
              "          if (!dataTable) return;\n",
              "\n",
              "          const docLinkHtml = 'Like what you see? Visit the ' +\n",
              "            '<a target=\"_blank\" href=https://colab.research.google.com/notebooks/data_table.ipynb>data table notebook</a>'\n",
              "            + ' to learn more about interactive tables.';\n",
              "          element.innerHTML = '';\n",
              "          dataTable['output_type'] = 'display_data';\n",
              "          await google.colab.output.renderOutput(dataTable, element);\n",
              "          const docLink = document.createElement('div');\n",
              "          docLink.innerHTML = docLinkHtml;\n",
              "          element.appendChild(docLink);\n",
              "        }\n",
              "      </script>\n",
              "    </div>\n",
              "  </div>\n",
              "  "
            ],
            "text/plain": [
              "      mfcc0     mfcc1     mfcc2  ...    mfcc37    mfcc38    mfcc39\n",
              "0  0.128739 -0.718271 -3.277149  ... -0.257801  0.003827  0.102875\n",
              "1 -1.490371  0.021530 -0.825412  ...  0.389831 -0.045498  0.260176\n",
              "2 -1.767440  0.285304 -0.660540  ...  0.917531  0.420045  0.037370\n",
              "3 -1.408964 -0.141204 -0.275769  ... -0.116030 -0.399259 -0.201465\n",
              "4 -1.668093  0.114278 -0.817193  ...  0.786362  0.405502  0.175807\n",
              "\n",
              "[5 rows x 40 columns]"
            ]
          },
          "metadata": {},
          "execution_count": 4
        }
      ],
      "source": [
        "#normalization (helps with exploding gradient); good as we are mixing a lot of datasets\n",
        "\n",
        "mean = np.mean(X_train,axis=0)\n",
        "std = np.std(X_train, axis=0)\n",
        "\n",
        "X_train =( X_train - mean)/std\n",
        "X_test = (X_test - mean)/std\n",
        "\n",
        "#data after normalization\n",
        "X_train.head()"
      ]
    },
    {
      "cell_type": "code",
      "execution_count": 5,
      "metadata": {
        "colab": {
          "base_uri": "https://localhost:8080/"
        },
        "id": "f4VNcAVy0EYV",
        "outputId": "b7bce9e5-6f72-4b9b-9a8a-6e769512a461"
      },
      "outputs": [
        {
          "output_type": "stream",
          "name": "stdout",
          "text": [
            "(35395, 40)\n",
            "[0 1 2 3 4 5 6 7 8 9]\n"
          ]
        },
        {
          "output_type": "stream",
          "name": "stderr",
          "text": [
            "/usr/local/lib/python3.7/dist-packages/sklearn/preprocessing/_label.py:115: DataConversionWarning: A column-vector y was passed when a 1d array was expected. Please change the shape of y to (n_samples, ), for example using ravel().\n",
            "  y = column_or_1d(y, warn=True)\n"
          ]
        }
      ],
      "source": [
        "#formating the data for keras\n",
        "X_train = np.array(X_train)\n",
        "X_test = np.array(X_test)\n",
        "y_train = np.array(y_train)\n",
        "y_test = np.array(y_test)\n",
        "\n",
        "\n",
        "#one hot encoding the target\n",
        "le = LabelEncoder()\n",
        "\n",
        "y_train = to_categorical(le.fit_transform(y_train))\n",
        "y_test = to_categorical(le.fit_transform(y_test))\n",
        "\n",
        "print(X_train.shape)\n",
        "print(le.classes_)\n",
        "\n",
        "#pickel the le object for future use\n",
        "filename = 'labels_usc'\n",
        "outfile = open(filename, 'wb')\n",
        "pickle.dump(le, outfile)\n",
        "outfile.close()\n",
        "\n"
      ]
    },
    {
      "cell_type": "markdown",
      "metadata": {
        "id": "B9KeWLgb0EYV"
      },
      "source": [
        "# Modelling"
      ]
    },
    {
      "cell_type": "code",
      "execution_count": 6,
      "metadata": {
        "colab": {
          "base_uri": "https://localhost:8080/"
        },
        "id": "bKAXQCAR0EYV",
        "outputId": "587bbb56-7f35-4275-d718-5fd47dee1619"
      },
      "outputs": [
        {
          "output_type": "stream",
          "name": "stdout",
          "text": [
            "Model: \"sequential_1\"\n",
            "_________________________________________________________________\n",
            " Layer (type)                Output Shape              Param #   \n",
            "=================================================================\n",
            " dense (Dense)               (None, 1024)              41984     \n",
            "                                                                 \n",
            " dense_1 (Dense)             (None, 512)               524800    \n",
            "                                                                 \n",
            " dense_2 (Dense)             (None, 256)               131328    \n",
            "                                                                 \n",
            " dense_3 (Dense)             (None, 128)               32896     \n",
            "                                                                 \n",
            " dense_4 (Dense)             (None, 64)                8256      \n",
            "                                                                 \n",
            " dense_5 (Dense)             (None, 32)                2080      \n",
            "                                                                 \n",
            " dense_6 (Dense)             (None, 10)                330       \n",
            "                                                                 \n",
            "=================================================================\n",
            "Total params: 741,674\n",
            "Trainable params: 741,674\n",
            "Non-trainable params: 0\n",
            "_________________________________________________________________\n"
          ]
        }
      ],
      "source": [
        "#builing our ANN model\n",
        "\n",
        "model = Sequential()\n",
        "\n",
        "model = Sequential()\n",
        "model.add(layers.Dense(1024, activation='relu', input_shape=(X_train.shape[1],)))\n",
        "model.add(layers.Dense(512, activation='relu'))\n",
        "model.add(layers.Dense(256, activation='relu'))\n",
        "model.add(layers.Dense(128, activation='relu'))\n",
        "model.add(layers.Dense(64, activation='relu'))\n",
        "model.add(layers.Dense(32, activation='relu'))\n",
        "model.add(layers.Dense(10, activation='softmax'))\n",
        "\n",
        "opt_sgd = tf.keras.optimizers.SGD(learning_rate=0.0001, momentum=0.0, decay=0.0, nesterov=False)\n",
        "opt_adam = tf.keras.optimizers.Adam(learning_rate=0.0001)\n",
        "opt_rmp = tensorflow.keras.optimizers.RMSprop(learning_rate=0.00001, decay=1e-6)\n",
        "model.summary()"
      ]
    },
    {
      "cell_type": "code",
      "execution_count": 7,
      "metadata": {
        "colab": {
          "base_uri": "https://localhost:8080/"
        },
        "id": "xopGh4Vl0EYV",
        "outputId": "2ab5e4e5-d6db-4b72-b185-bef841ab01d5"
      },
      "outputs": [
        {
          "output_type": "stream",
          "name": "stdout",
          "text": [
            "Epoch 1/20\n",
            "\n",
            "Epoch 00001: val_accuracy improved from -inf to 0.53539, saving model to up/usc_8020_DNN_mfcc_aug.h5\n",
            "1107/1107 - 13s - loss: 1.1383 - accuracy: 0.6325 - val_loss: 1.5678 - val_accuracy: 0.5354 - 13s/epoch - 12ms/step\n",
            "Epoch 2/20\n",
            "\n",
            "Epoch 00002: val_accuracy improved from 0.53539 to 0.57411, saving model to up/usc_8020_DNN_mfcc_aug.h5\n",
            "1107/1107 - 12s - loss: 0.5452 - accuracy: 0.8292 - val_loss: 1.6141 - val_accuracy: 0.5741 - 12s/epoch - 11ms/step\n",
            "Epoch 3/20\n",
            "\n",
            "Epoch 00003: val_accuracy did not improve from 0.57411\n",
            "1107/1107 - 12s - loss: 0.3584 - accuracy: 0.8887 - val_loss: 1.9975 - val_accuracy: 0.5227 - 12s/epoch - 11ms/step\n",
            "Epoch 4/20\n",
            "\n",
            "Epoch 00004: val_accuracy did not improve from 0.57411\n",
            "1107/1107 - 12s - loss: 0.2548 - accuracy: 0.9219 - val_loss: 2.0688 - val_accuracy: 0.5596 - 12s/epoch - 11ms/step\n",
            "Epoch 5/20\n",
            "\n",
            "Epoch 00005: val_accuracy did not improve from 0.57411\n",
            "1107/1107 - 12s - loss: 0.1917 - accuracy: 0.9412 - val_loss: 2.2096 - val_accuracy: 0.5656 - 12s/epoch - 11ms/step\n",
            "Epoch 6/20\n",
            "\n",
            "Epoch 00006: val_accuracy did not improve from 0.57411\n",
            "1107/1107 - 12s - loss: 0.1467 - accuracy: 0.9550 - val_loss: 2.4095 - val_accuracy: 0.5481 - 12s/epoch - 11ms/step\n",
            "Epoch 7/20\n",
            "\n",
            "Epoch 00007: val_accuracy did not improve from 0.57411\n",
            "1107/1107 - 12s - loss: 0.1126 - accuracy: 0.9665 - val_loss: 2.6585 - val_accuracy: 0.5735 - 12s/epoch - 11ms/step\n",
            "Epoch 8/20\n",
            "\n",
            "Epoch 00008: val_accuracy did not improve from 0.57411\n",
            "1107/1107 - 12s - loss: 0.0958 - accuracy: 0.9707 - val_loss: 2.7977 - val_accuracy: 0.5596 - 12s/epoch - 11ms/step\n",
            "Epoch 9/20\n",
            "\n",
            "Epoch 00009: val_accuracy did not improve from 0.57411\n",
            "1107/1107 - 13s - loss: 0.0745 - accuracy: 0.9771 - val_loss: 2.9808 - val_accuracy: 0.5620 - 13s/epoch - 11ms/step\n",
            "Epoch 10/20\n",
            "\n",
            "Epoch 00010: val_accuracy did not improve from 0.57411\n",
            "1107/1107 - 13s - loss: 0.0605 - accuracy: 0.9808 - val_loss: 3.1549 - val_accuracy: 0.5505 - 13s/epoch - 12ms/step\n",
            "Epoch 11/20\n",
            "\n",
            "Epoch 00011: val_accuracy did not improve from 0.57411\n",
            "1107/1107 - 13s - loss: 0.0549 - accuracy: 0.9833 - val_loss: 3.4217 - val_accuracy: 0.5560 - 13s/epoch - 11ms/step\n",
            "Epoch 12/20\n",
            "\n",
            "Epoch 00012: val_accuracy did not improve from 0.57411\n",
            "1107/1107 - 12s - loss: 0.0488 - accuracy: 0.9840 - val_loss: 3.4268 - val_accuracy: 0.5632 - 12s/epoch - 11ms/step\n",
            "Epoch 13/20\n",
            "\n",
            "Epoch 00013: val_accuracy did not improve from 0.57411\n",
            "1107/1107 - 12s - loss: 0.0407 - accuracy: 0.9867 - val_loss: 3.4782 - val_accuracy: 0.5469 - 12s/epoch - 11ms/step\n",
            "Epoch 14/20\n",
            "\n",
            "Epoch 00014: val_accuracy did not improve from 0.57411\n",
            "1107/1107 - 13s - loss: 0.0380 - accuracy: 0.9882 - val_loss: 3.6583 - val_accuracy: 0.5560 - 13s/epoch - 11ms/step\n",
            "Epoch 15/20\n",
            "\n",
            "Epoch 00015: val_accuracy did not improve from 0.57411\n",
            "1107/1107 - 12s - loss: 0.0365 - accuracy: 0.9880 - val_loss: 3.6570 - val_accuracy: 0.5390 - 12s/epoch - 11ms/step\n",
            "Epoch 16/20\n",
            "\n",
            "Epoch 00016: val_accuracy improved from 0.57411 to 0.57834, saving model to up/usc_8020_DNN_mfcc_aug.h5\n",
            "1107/1107 - 13s - loss: 0.0311 - accuracy: 0.9901 - val_loss: 3.8503 - val_accuracy: 0.5783 - 13s/epoch - 11ms/step\n",
            "Epoch 17/20\n",
            "\n",
            "Epoch 00017: val_accuracy did not improve from 0.57834\n",
            "1107/1107 - 13s - loss: 0.0275 - accuracy: 0.9912 - val_loss: 3.9446 - val_accuracy: 0.5602 - 13s/epoch - 11ms/step\n",
            "Epoch 18/20\n",
            "\n",
            "Epoch 00018: val_accuracy did not improve from 0.57834\n",
            "1107/1107 - 12s - loss: 0.0285 - accuracy: 0.9904 - val_loss: 4.0090 - val_accuracy: 0.5529 - 12s/epoch - 11ms/step\n",
            "Epoch 19/20\n",
            "\n",
            "Epoch 00019: val_accuracy did not improve from 0.57834\n",
            "1107/1107 - 12s - loss: 0.0257 - accuracy: 0.9914 - val_loss: 4.0149 - val_accuracy: 0.5681 - 12s/epoch - 11ms/step\n",
            "Epoch 20/20\n",
            "\n",
            "Epoch 00020: val_accuracy did not improve from 0.57834\n",
            "1107/1107 - 12s - loss: 0.0210 - accuracy: 0.9931 - val_loss: 4.0448 - val_accuracy: 0.5783 - 12s/epoch - 11ms/step\n"
          ]
        }
      ],
      "source": [
        "model.compile(loss='categorical_crossentropy', optimizer=opt_adam, metrics=['accuracy'])\n",
        "\n",
        "checkpoint = ModelCheckpoint('up/usc_8020_DNN_mfcc_aug.h5', verbose=1, monitor='val_accuracy',save_best_only=True, mode='auto')  \n",
        "\n",
        "model_history = model.fit(X_train, y_train,validation_data=(X_test, y_test), epochs=20, batch_size=32, verbose=2, callbacks=[checkpoint])"
      ]
    },
    {
      "cell_type": "code",
      "execution_count": 8,
      "metadata": {
        "colab": {
          "base_uri": "https://localhost:8080/",
          "height": 312
        },
        "id": "jTnqEqd40EYW",
        "outputId": "d415d8c8-569f-4a7f-c0db-87956a11ecb7"
      },
      "outputs": [
        {
          "output_type": "execute_result",
          "data": {
            "text/plain": [
              "<function matplotlib.pyplot.show>"
            ]
          },
          "metadata": {},
          "execution_count": 8
        },
        {
          "output_type": "display_data",
          "data": {
            "image/png": "[encoded data removed]",
            "text/plain": [
              "<Figure size 432x288 with 1 Axes>"
            ]
          },
          "metadata": {
            "needs_background": "light"
          }
        }
      ],
      "source": [
        "#plotting the loss\n",
        "plt.plot(model_history.history['accuracy'])\n",
        "plt.plot(model_history.history['val_accuracy'])\n",
        "plt.title('model loss')\n",
        "plt.ylabel('loss')\n",
        "plt.xlabel('epoch')\n",
        "plt.legend(['train','test'], loc='upper right')\n",
        "plt.show"
      ]
    },
    {
      "cell_type": "markdown",
      "metadata": {
        "id": "tKi8NmfO0EYW"
      },
      "source": [
        "# Model Serialisation (saving the model)"
      ]
    },
    {
      "cell_type": "code",
      "execution_count": 9,
      "metadata": {
        "id": "AJG7WYJr0EYW"
      },
      "outputs": [],
      "source": [
        "#save model to disk \n",
        "model_json = model.to_json()\n",
        "with open('up/usc_8020_DNN_mfcc_aug.json','w') as json_file:\n",
        "    json_file.write(model_json)"
      ]
    },
    {
      "cell_type": "markdown",
      "metadata": {
        "id": "5pEZN0kx0EYW"
      },
      "source": [
        "# Model Validation\n"
      ]
    },
    {
      "cell_type": "code",
      "execution_count": 10,
      "metadata": {
        "colab": {
          "base_uri": "https://localhost:8080/"
        },
        "id": "J0Y_S7y50EYX",
        "outputId": "f045a281-929d-404b-bee0-254d53b5b97d"
      },
      "outputs": [
        {
          "output_type": "stream",
          "name": "stdout",
          "text": [
            "Loaded model from disk\n",
            "52/52 [==============================] - 0s 4ms/step - loss: 3.8503 - accuracy: 0.5783\n",
            "accuracy: 57.83%\n"
          ]
        }
      ],
      "source": [
        "#loading the json file and model architecture\n",
        "json_file = open('up/usc_8020_DNN_mfcc_aug.json', 'r')\n",
        "loaded_model_json = json_file.read()\n",
        "json_file.close()\n",
        "loaded_model = model_from_json(loaded_model_json)\n",
        "\n",
        "#load weights into the new mode\n",
        "loaded_model.load_weights('up/usc_8020_DNN_mfcc_aug.h5')\n",
        "print('Loaded model from disk')\n",
        "\n",
        "loaded_model.compile(loss='categorical_crossentropy', optimizer=opt_adam, metrics =['accuracy'])\n",
        "\n",
        "score = loaded_model.evaluate(X_test, y_test)\n",
        "print(\"%s: %.2f%%\" %(loaded_model.metrics_names[1], score[1]*100))"
      ]
    },
    {
      "cell_type": "code",
      "execution_count": 11,
      "metadata": {
        "colab": {
          "base_uri": "https://localhost:8080/"
        },
        "id": "oLzOKQMa0EYX",
        "outputId": "9f9e466b-0cff-4839-e504-aa50bbc0dad7"
      },
      "outputs": [
        {
          "output_type": "stream",
          "name": "stdout",
          "text": [
            "1653/1653 [==============================] - 3s 1ms/step\n"
          ]
        },
        {
          "output_type": "execute_result",
          "data": {
            "text/plain": [
              "array([9, 9, 1, ..., 2, 2, 2])"
            ]
          },
          "metadata": {},
          "execution_count": 11
        }
      ],
      "source": [
        "preds = loaded_model.predict(X_test, batch_size=1, verbose=1)\n",
        "preds = preds.argmax(axis=1)\n",
        "preds"
      ]
    },
    {
      "cell_type": "code",
      "execution_count": 12,
      "metadata": {
        "colab": {
          "base_uri": "https://localhost:8080/",
          "height": 206
        },
        "id": "qnQQ9v0c0EYX",
        "outputId": "16fa53e7-13e4-49ab-90e6-4f40d10c5a46"
      },
      "outputs": [
        {
          "output_type": "execute_result",
          "data": {
            "text/html": [
              "\n",
              "  <div id=\"df-15bcf5fe-038a-4a18-b0c4-1d9e4b04558a\">\n",
              "    <div class=\"colab-df-container\">\n",
              "      <div>\n",
              "<style scoped>\n",
              "    .dataframe tbody tr th:only-of-type {\n",
              "        vertical-align: middle;\n",
              "    }\n",
              "\n",
              "    .dataframe tbody tr th {\n",
              "        vertical-align: top;\n",
              "    }\n",
              "\n",
              "    .dataframe thead th {\n",
              "        text-align: right;\n",
              "    }\n",
              "</style>\n",
              "<table border=\"1\" class=\"dataframe\">\n",
              "  <thead>\n",
              "    <tr style=\"text-align: right;\">\n",
              "      <th></th>\n",
              "      <th>actual_values</th>\n",
              "      <th>predicted_values</th>\n",
              "    </tr>\n",
              "  </thead>\n",
              "  <tbody>\n",
              "    <tr>\n",
              "      <th>0</th>\n",
              "      <td>1</td>\n",
              "      <td>9</td>\n",
              "    </tr>\n",
              "    <tr>\n",
              "      <th>1</th>\n",
              "      <td>1</td>\n",
              "      <td>9</td>\n",
              "    </tr>\n",
              "    <tr>\n",
              "      <th>2</th>\n",
              "      <td>1</td>\n",
              "      <td>1</td>\n",
              "    </tr>\n",
              "    <tr>\n",
              "      <th>3</th>\n",
              "      <td>1</td>\n",
              "      <td>9</td>\n",
              "    </tr>\n",
              "    <tr>\n",
              "      <th>4</th>\n",
              "      <td>1</td>\n",
              "      <td>4</td>\n",
              "    </tr>\n",
              "  </tbody>\n",
              "</table>\n",
              "</div>\n",
              "      <button class=\"colab-df-convert\" onclick=\"convertToInteractive('df-15bcf5fe-038a-4a18-b0c4-1d9e4b04558a')\"\n",
              "              title=\"Convert this dataframe to an interactive table.\"\n",
              "              style=\"display:none;\">\n",
              "        \n",
              "  <svg xmlns=\"http://www.w3.org/2000/svg\" height=\"24px\"viewBox=\"0 0 24 24\"\n",
              "       width=\"24px\">\n",
              "    <path d=\"M0 0h24v24H0V0z\" fill=\"none\"/>\n",
              "    <path d=\"M18.56 5.44l.94 2.06.94-2.06 2.06-.94-2.06-.94-.94-2.06-.94 2.06-2.06.94zm-11 1L8.5 8.5l.94-2.06 2.06-.94-2.06-.94L8.5 2.5l-.94 2.06-2.06.94zm10 10l.94 2.06.94-2.06 2.06-.94-2.06-.94-.94-2.06-.94 2.06-2.06.94z\"/><path d=\"M17.41 7.96l-1.37-1.37c-.4-.4-.92-.59-1.43-.59-.52 0-1.04.2-1.43.59L10.3 9.45l-7.72 7.72c-.78.78-.78 2.05 0 2.83L4 21.41c.39.39.9.59 1.41.59.51 0 1.02-.2 1.41-.59l7.78-7.78 2.81-2.81c.8-.78.8-2.07 0-2.86zM5.41 20L4 18.59l7.72-7.72 1.47 1.35L5.41 20z\"/>\n",
              "  </svg>\n",
              "      </button>\n",
              "      \n",
              "  <style>\n",
              "    .colab-df-container {\n",
              "      display:flex;\n",
              "      flex-wrap:wrap;\n",
              "      gap: 12px;\n",
              "    }\n",
              "\n",
              "    .colab-df-convert {\n",
              "      background-color: #E8F0FE;\n",
              "      border: none;\n",
              "      border-radius: 50%;\n",
              "      cursor: pointer;\n",
              "      display: none;\n",
              "      fill: #1967D2;\n",
              "      height: 32px;\n",
              "      padding: 0 0 0 0;\n",
              "      width: 32px;\n",
              "    }\n",
              "\n",
              "    .colab-df-convert:hover {\n",
              "      background-color: #E2EBFA;\n",
              "      box-shadow: 0px 1px 2px rgba(60, 64, 67, 0.3), 0px 1px 3px 1px rgba(60, 64, 67, 0.15);\n",
              "      fill: #174EA6;\n",
              "    }\n",
              "\n",
              "    [theme=dark] .colab-df-convert {\n",
              "      background-color: #3B4455;\n",
              "      fill: #D2E3FC;\n",
              "    }\n",
              "\n",
              "    [theme=dark] .colab-df-convert:hover {\n",
              "      background-color: #434B5C;\n",
              "      box-shadow: 0px 1px 3px 1px rgba(0, 0, 0, 0.15);\n",
              "      filter: drop-shadow(0px 1px 2px rgba(0, 0, 0, 0.3));\n",
              "      fill: #FFFFFF;\n",
              "    }\n",
              "  </style>\n",
              "\n",
              "      <script>\n",
              "        const buttonEl =\n",
              "          document.querySelector('#df-15bcf5fe-038a-4a18-b0c4-1d9e4b04558a button.colab-df-convert');\n",
              "        buttonEl.style.display =\n",
              "          google.colab.kernel.accessAllowed ? 'block' : 'none';\n",
              "\n",
              "        async function convertToInteractive(key) {\n",
              "          const element = document.querySelector('#df-15bcf5fe-038a-4a18-b0c4-1d9e4b04558a');\n",
              "          const dataTable =\n",
              "            await google.colab.kernel.invokeFunction('convertToInteractive',\n",
              "                                                     [key], {});\n",
              "          if (!dataTable) return;\n",
              "\n",
              "          const docLinkHtml = 'Like what you see? Visit the ' +\n",
              "            '<a target=\"_blank\" href=https://colab.research.google.com/notebooks/data_table.ipynb>data table notebook</a>'\n",
              "            + ' to learn more about interactive tables.';\n",
              "          element.innerHTML = '';\n",
              "          dataTable['output_type'] = 'display_data';\n",
              "          await google.colab.output.renderOutput(dataTable, element);\n",
              "          const docLink = document.createElement('div');\n",
              "          docLink.innerHTML = docLinkHtml;\n",
              "          element.appendChild(docLink);\n",
              "        }\n",
              "      </script>\n",
              "    </div>\n",
              "  </div>\n",
              "  "
            ],
            "text/plain": [
              "   actual_values  predicted_values\n",
              "0              1                 9\n",
              "1              1                 9\n",
              "2              1                 1\n",
              "3              1                 9\n",
              "4              1                 4"
            ]
          },
          "metadata": {},
          "execution_count": 12
        }
      ],
      "source": [
        "#The prediction is in the form of numbers, we'll need to append the labels to it before we run the accuracy measure\n",
        "\n",
        "#predictions\n",
        "#preds = preds.astype(int).flatten()\n",
        "preds = le.inverse_transform(preds)\n",
        "preds= pd.DataFrame({'predicted_values': preds})\n",
        "\n",
        "#Actual labels\n",
        "\n",
        "actual = y_test.argmax(axis=1)\n",
        "#actual = actual.astype(int).flatten()\n",
        "actual = le.inverse_transform(actual)\n",
        "actual = pd.DataFrame({'actual_values': actual})\n",
        "\n",
        "#combine both in one dataframe\n",
        "final_df = actual.join(preds)\n",
        "final_df.head()"
      ]
    },
    {
      "cell_type": "code",
      "execution_count": 13,
      "metadata": {
        "colab": {
          "base_uri": "https://localhost:8080/",
          "height": 292
        },
        "id": "vN4MF19h0EYY",
        "outputId": "4da79163-77d2-4343-ad29-eb085a4c3d7e"
      },
      "outputs": [
        {
          "output_type": "execute_result",
          "data": {
            "text/plain": [
              "[]"
            ]
          },
          "metadata": {},
          "execution_count": 13
        },
        {
          "output_type": "display_data",
          "data": {
            "image/png": "[encoded data removed]",
            "text/plain": [
              "<Figure size 1440x360 with 1 Axes>"
            ]
          },
          "metadata": {
            "needs_background": "light"
          }
        }
      ],
      "source": [
        "#write out predictions to disk\n",
        "#final_df.to_csv('usc_8020_DNN_pred.csv', index=False)\n",
        "ddf = final_df.groupby('predicted_values')['actual_values'].value_counts()\n",
        "#final_df.groupby('actual_values').count()\n",
        "\n",
        "ax = ddf.unstack().plot(kind='bar',figsize=(20,5), rot = 0)\n",
        "ax.legend(bbox_to_anchor=(1.0, 1.0))\n",
        "ax.plot()"
      ]
    },
    {
      "cell_type": "code",
      "execution_count": 14,
      "metadata": {
        "colab": {
          "base_uri": "https://localhost:8080/"
        },
        "id": "0P6MuqWF0EYY",
        "outputId": "12a5b1bb-dcd6-45dd-e5c1-618ed7307e57"
      },
      "outputs": [
        {
          "output_type": "stream",
          "name": "stdout",
          "text": [
            "              precision    recall  f1-score   support\n",
            "\n",
            "           0       0.51      0.20      0.29       200\n",
            "           1       0.81      0.85      0.83        65\n",
            "           2       0.59      0.58      0.59       200\n",
            "           3       0.58      0.55      0.56       200\n",
            "           4       0.39      0.49      0.44       200\n",
            "           5       0.87      0.66      0.75       182\n",
            "           6       0.51      0.48      0.49        63\n",
            "           7       0.54      0.71      0.62       178\n",
            "           8       0.70      0.72      0.71       165\n",
            "           9       0.52      0.70      0.60       200\n",
            "\n",
            "    accuracy                           0.58      1653\n",
            "   macro avg       0.60      0.59      0.59      1653\n",
            "weighted avg       0.59      0.58      0.57      1653\n",
            "\n"
          ]
        }
      ],
      "source": [
        "#Classification report\n",
        "classes = final_df.actual_values.unique()\n",
        "classes.sort()\n",
        "print(classification_report(final_df.actual_values, final_df.predicted_values))"
      ]
    },
    {
      "cell_type": "code",
      "execution_count": 15,
      "metadata": {
        "id": "owmIW7Ts0EYY"
      },
      "outputs": [],
      "source": [
        "\n",
        "k_df = final_df.copy()\n",
        "k_df = k_df.astype(str)\n",
        "k_df['actual_values'] = k_df.actual_values.replace({          \n",
        "                                        '0.0' :   'air_conditioner',\n",
        "                                        '1.0' :  'car_horn',\n",
        "                                        '2.0' :  'children_playing',\n",
        "                                        '3.0' :  'dog_bark' ,      \n",
        "                                        '4.0' :  'drilling',       \n",
        "                                        '5.0' :  'engine_idling',  \n",
        "                                        '6.0' :  'gun_shot',\n",
        "                                        '7.0' :  'jackhammer',     \n",
        "                                        '8.0' :  'siren', \n",
        "                                        '9.0' :  'street_music'\n",
        "                                                         })\n",
        "k_df['predicted_values'] = k_df.predicted_values.replace({\n",
        "                                        '0.0' :   'air_conditioner',\n",
        "                                        '1.0' :  'car_horn',\n",
        "                                        '2.0' :  'children_playing',\n",
        "                                        '3.0' :  'dog_bark' ,      \n",
        "                                        '4.0' :  'drilling',       \n",
        "                                        '5.0' :  'engine_idling',  \n",
        "                                        '6.0' :  'gun_shot',\n",
        "                                        '7.0' :  'jackhammer',     \n",
        "                                        '8.0' :  'siren', \n",
        "                                        '9.0' :  'street_music'\n",
        "                                                         })\n",
        "\n",
        "\n",
        "classes = k_df.actual_values.unique()\n",
        "classes.sort()"
      ]
    },
    {
      "cell_type": "code",
      "execution_count": 16,
      "metadata": {
        "colab": {
          "base_uri": "https://localhost:8080/"
        },
        "id": "D_90JdIQ0EYY",
        "outputId": "e887bcda-310e-404f-dc24-e5eddc7d3cd5"
      },
      "outputs": [
        {
          "output_type": "execute_result",
          "data": {
            "text/plain": [
              "2    200\n",
              "9    200\n",
              "0    200\n",
              "4    200\n",
              "3    200\n",
              "5    182\n",
              "7    178\n",
              "8    165\n",
              "1     65\n",
              "6     63\n",
              "Name: actual_values, dtype: int64"
            ]
          },
          "metadata": {},
          "execution_count": 16
        }
      ],
      "source": [
        "#k_df = k_df.astype(str)\n",
        "\n",
        "k_df.actual_values.value_counts()\n"
      ]
    },
    {
      "cell_type": "code",
      "execution_count": 17,
      "metadata": {
        "scrolled": false,
        "colab": {
          "base_uri": "https://localhost:8080/",
          "height": 697
        },
        "id": "cIKLBoQd0EYZ",
        "outputId": "9915ea7e-06f1-4ac8-c72d-51184448803a"
      },
      "outputs": [
        {
          "output_type": "stream",
          "name": "stderr",
          "text": [
            "findfont: Font family ['NanumGothic'] not found. Falling back to DejaVu Sans.\n"
          ]
        },
        {
          "output_type": "stream",
          "name": "stdout",
          "text": [
            "0.5783424077434967\n"
          ]
        },
        {
          "output_type": "stream",
          "name": "stderr",
          "text": [
            "findfont: Font family ['NanumGothic'] not found. Falling back to DejaVu Sans.\n"
          ]
        },
        {
          "output_type": "display_data",
          "data": {
            "image/png": "[encoded data removed]",
            "text/plain": [
              "<Figure size 1080x720 with 2 Axes>"
            ]
          },
          "metadata": {
            "needs_background": "light"
          }
        }
      ],
      "source": [
        "#final_df = pd.read_csv(\"kr_13_p.csv\")\n",
        "classes = k_df.actual_values.unique()\n",
        "classes.sort()\n",
        "\n",
        "#confusion matrix\n",
        "c = confusion_matrix(k_df.actual_values, k_df.predicted_values)\n",
        "print(accuracy_score(k_df.actual_values, k_df.predicted_values))\n",
        "make_confusion_matrix(c, group_names=['True Values','Predicted Value'], categories=classes, figsize =(15,10), title='Urban Sound Classification_8020_DNN')"
      ]
    },
    {
      "cell_type": "code",
      "execution_count": null,
      "metadata": {
        "id": "WZPG1gSc0EYZ"
      },
      "outputs": [],
      "source": [
        ""
      ]
    }
  ],
  "metadata": {
    "interpreter": {
      "hash": "f7683a7f777909b12b9dba625a5b210f0c2b8f5f0928a0c53def8c253f8296f8"
    },
    "kernelspec": {
      "display_name": "sg_tensorflowTTS_new",
      "language": "python",
      "name": "python3"
    },
    "language_info": {
      "codemirror_mode": {
        "name": "ipython",
        "version": 3
      },
      "file_extension": ".py",
      "mimetype": "text/x-python",
      "name": "python",
      "nbconvert_exporter": "python",
      "pygments_lexer": "ipython3",
      "version": "3.7.10"
    },
    "colab": {
      "name": "usc_8020_DNN_mfcc_aug.ipynb",
      "provenance": [],
      "include_colab_link": true
    }
  },
  "nbformat": 4,
  "nbformat_minor": 0
}