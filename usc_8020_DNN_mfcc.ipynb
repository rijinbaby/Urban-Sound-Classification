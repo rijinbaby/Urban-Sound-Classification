{
  "cells": [
    {
      "cell_type": "markdown",
      "metadata": {
        "id": "view-in-github",
        "colab_type": "text"
      },
      "source": [
        "<a href=\"https://colab.research.google.com/github/rijinbaby/Urban-Sound-Classification/blob/DNN/usc_8020_DNN_mfcc.ipynb\" target=\"_parent\"><img src=\"https://colab.research.google.com/assets/colab-badge.svg\" alt=\"Open In Colab\"/></a>"
      ]
    },
    {
      "cell_type": "code",
      "execution_count": 1,
      "metadata": {
        "id": "fz_FoY95zsRX"
      },
      "outputs": [],
      "source": [
        "#importing required libraries\n",
        "#Keras\n",
        "import tensorflow.keras\n",
        "from tensorflow.keras import regularizers, layers\n",
        "from tensorflow.keras.preprocessing import sequence\n",
        "from tensorflow.keras.preprocessing.text import Tokenizer\n",
        "from tensorflow.keras.preprocessing.sequence import pad_sequences\n",
        "from tensorflow.keras.models import Sequential, Model, model_from_json\n",
        "from tensorflow.keras.layers import Dense, Embedding, LSTM\n",
        "from tensorflow.keras.layers import Input, Flatten, Dropout, Activation, BatchNormalization\n",
        "from tensorflow.keras.layers import Conv2D, MaxPooling2D, AveragePooling1D\n",
        "from tensorflow.keras.utils import to_categorical\n",
        "from tensorflow.keras.callbacks import ModelCheckpoint\n",
        "\n",
        "#sklearn\n",
        "from sklearn.metrics import confusion_matrix, accuracy_score, classification_report\n",
        "from sklearn.model_selection import train_test_split\n",
        "from sklearn.preprocessing import LabelEncoder\n",
        "\n",
        "#Others\n",
        "import librosa\n",
        "import librosa.display\n",
        "import json\n",
        "import numpy as np\n",
        "import matplotlib.pyplot as plt\n",
        "from matplotlib.pyplot import specgram\n",
        "import tensorflow as tf\n",
        "import pandas as pd\n",
        "import seaborn as sns\n",
        "import glob\n",
        "import os\n",
        "import pickle\n",
        "import IPython.display as ipd\n",
        "import csv\n",
        "from tqdm import tqdm\n",
        "import os\n",
        "os.environ[\"CUDA_VISIBLE_DEVICES\"]=\"0\"\n",
        "tf_device='/gpu:0'"
      ]
    },
    {
      "cell_type": "markdown",
      "metadata": {
        "id": "EplSs0mvzsRZ"
      },
      "source": [
        "# Confusion matrix \n"
      ]
    },
    {
      "cell_type": "code",
      "execution_count": 2,
      "metadata": {
        "id": "yZ-ZdpmZzsRa"
      },
      "outputs": [],
      "source": [
        "def make_confusion_matrix(cf,\n",
        "                          group_names=None,\n",
        "                          categories='auto',\n",
        "                          count=True,\n",
        "                          percent=True,\n",
        "                          cbar=True,\n",
        "                          xyticks=True,\n",
        "                          xyplotlabels=True,\n",
        "                          sum_stats=True,\n",
        "                          figsize=None,\n",
        "                          cmap='Blues',\n",
        "                          title=None):\n",
        "    '''\n",
        "    This function will make a pretty plot of an sklearn Confusion Matrix cm using a Seaborn heatmap visualization.\n",
        "    Arguments\n",
        "    ---------\n",
        "    cf:            confusion matrix to be passed in\n",
        "    group_names:   List of strings that represent the labels row by row to be shown in each square.\n",
        "    categories:    List of strings containing the categories to be displayed on the x,y axis. Default is 'auto'\n",
        "    count:         If True, show the raw number in the confusion matrix. Default is True.\n",
        "    normalize:     If True, show the proportions for each category. Default is True.\n",
        "    cbar:          If True, show the color bar. The cbar values are based off the values in the confusion matrix.\n",
        "                   Default is True.\n",
        "    xyticks:       If True, show x and y ticks. Default is True.\n",
        "    xyplotlabels:  If True, show 'True Label' and 'Predicted Label' on the figure. Default is True.\n",
        "    sum_stats:     If True, display summary statistics below the figure. Default is True.\n",
        "    figsize:       Tuple representing the figure size. Default will be the matplotlib rcParams value.\n",
        "    cmap:          Colormap of the values displayed from matplotlib.pyplot.cm. Default is 'Blues'\n",
        "                   See http://matplotlib.org/examples/color/colormaps_reference.html\n",
        "                   \n",
        "    title:         Title for the heatmap. Default is None.\n",
        "    '''\n",
        "\n",
        "\n",
        "    # CODE TO GENERATE TEXT INSIDE EACH SQUARE\n",
        "    blanks = ['' for i in range(cf.size)]\n",
        "\n",
        "    if group_names and len(group_names)==cf.size:\n",
        "        group_labels = [\"{}\\n\".format(value) for value in group_names]\n",
        "    else:\n",
        "        group_labels = blanks\n",
        "\n",
        "    if count:\n",
        "        group_counts = [\"{0:0.0f}\\n\".format(value) for value in cf.flatten()]\n",
        "    else:\n",
        "        group_counts = blanks\n",
        "\n",
        "    if percent:\n",
        "        group_percentages = [\"{0:.2%}\".format(value) for value in cf.flatten()/np.sum(cf)]\n",
        "    else:\n",
        "        group_percentages = blanks\n",
        "\n",
        "    box_labels = [f\"{v1}{v2}{v3}\".strip() for v1, v2, v3 in zip(group_labels,group_counts,group_percentages)]\n",
        "    box_labels = np.asarray(box_labels).reshape(cf.shape[0],cf.shape[1])\n",
        "\n",
        "\n",
        "    # CODE TO GENERATE SUMMARY STATISTICS & TEXT FOR SUMMARY STATS\n",
        "    if sum_stats:\n",
        "        #Accuracy is sum of diagonal divided by total observations\n",
        "        accuracy  = np.trace(cf) / float(np.sum(cf))\n",
        "\n",
        "        #if it is a binary confusion matrix, show some more stats\n",
        "        if len(cf)==2:\n",
        "            #Metrics for Binary Confusion Matrices\n",
        "            precision = cf[1,1] / sum(cf[:,1])\n",
        "            recall    = cf[1,1] / sum(cf[1,:])\n",
        "            f1_score  = 2*precision*recall / (precision + recall)\n",
        "            stats_text = \"\\n\\nAccuracy={:0.3f}\\nPrecision={:0.3f}\\nRecall={:0.3f}\\nF1 Score={:0.3f}\".format(\n",
        "                accuracy,precision,recall,f1_score)\n",
        "        else:\n",
        "            stats_text = \"\\n\\nAccuracy={:0.3f}\".format(accuracy)\n",
        "    else:\n",
        "        stats_text = \"\"\n",
        "\n",
        "\n",
        "    # SET FIGURE PARAMETERS ACCORDING TO OTHER ARGUMENTS\n",
        "    if figsize==None:\n",
        "        #Get default figure size if not set\n",
        "        figsize = plt.rcParams.get('figure.figsize')\n",
        "\n",
        "    if xyticks==False:\n",
        "        #Do not show categories if xyticks is False\n",
        "        categories=False\n",
        "\n",
        "\n",
        "    # MAKE THE HEATMAP VISUALIZATION\n",
        "    plt.rcParams[\"font.family\"] = 'NanumGothic'\n",
        "    plt.figure(figsize=figsize)\n",
        "    sns.heatmap(cf,annot=box_labels,fmt=\"\",cmap=cmap,cbar=cbar,xticklabels=categories,yticklabels=categories)\n",
        "\n",
        "    if xyplotlabels:\n",
        "        plt.ylabel('True label')\n",
        "        plt.xlabel('Predicted label' + stats_text)\n",
        "    else:\n",
        "        plt.xlabel(stats_text)\n",
        "    \n",
        "    if title:\n",
        "        plt.title(title)\n",
        "        plt.savefig(title +'.jpg')"
      ]
    },
    {
      "cell_type": "markdown",
      "metadata": {
        "id": "fYDQwakBzsRe"
      },
      "source": [
        "# Data Processing"
      ]
    },
    {
      "cell_type": "code",
      "execution_count": 3,
      "metadata": {
        "colab": {
          "base_uri": "https://localhost:8080/"
        },
        "id": "qx3eKZXYzsRf",
        "outputId": "47e21a1a-5acc-40b5-9850-98ee8edf4be4"
      },
      "outputs": [
        {
          "output_type": "execute_result",
          "data": {
            "text/plain": [
              "((7079, 40), (7079, 1), (1653, 40), (1653, 1))"
            ]
          },
          "metadata": {},
          "execution_count": 3
        }
      ],
      "source": [
        "#split the dataset into train and test\n",
        "X_train = pd.read_csv('https://raw.githubusercontent.com/rijinbaby/Urban-Sound-Classification/main/Datasets/X_train_8020_mfcc.csv')\n",
        "y_train = pd.read_csv('https://raw.githubusercontent.com/rijinbaby/Urban-Sound-Classification/main/Datasets/y_train_8020_mfcc.csv')\n",
        "X_test = pd.read_csv('https://raw.githubusercontent.com/rijinbaby/Urban-Sound-Classification/main/Datasets/X_test_8020_mfcc.csv')\n",
        "y_test = pd.read_csv('https://raw.githubusercontent.com/rijinbaby/Urban-Sound-Classification/main/Datasets/y_test_8020_mfcc.csv')\n",
        "#take a peak at the data\n",
        "X_train.shape, y_train.shape, X_test.shape, y_test.shape\n"
      ]
    },
    {
      "cell_type": "code",
      "execution_count": 4,
      "metadata": {
        "colab": {
          "base_uri": "https://localhost:8080/",
          "height": 270
        },
        "id": "6luERixvzsRf",
        "outputId": "22cdea9a-599c-4299-877b-f9f148aeaf0a"
      },
      "outputs": [
        {
          "output_type": "execute_result",
          "data": {
            "text/html": [
              "\n",
              "  <div id=\"df-c185b283-cb21-4428-9f5f-b3a8e49fcbc8\">\n",
              "    <div class=\"colab-df-container\">\n",
              "      <div>\n",
              "<style scoped>\n",
              "    .dataframe tbody tr th:only-of-type {\n",
              "        vertical-align: middle;\n",
              "    }\n",
              "\n",
              "    .dataframe tbody tr th {\n",
              "        vertical-align: top;\n",
              "    }\n",
              "\n",
              "    .dataframe thead th {\n",
              "        text-align: right;\n",
              "    }\n",
              "</style>\n",
              "<table border=\"1\" class=\"dataframe\">\n",
              "  <thead>\n",
              "    <tr style=\"text-align: right;\">\n",
              "      <th></th>\n",
              "      <th>mfcc0</th>\n",
              "      <th>mfcc1</th>\n",
              "      <th>mfcc2</th>\n",
              "      <th>mfcc3</th>\n",
              "      <th>mfcc4</th>\n",
              "      <th>mfcc5</th>\n",
              "      <th>mfcc6</th>\n",
              "      <th>mfcc7</th>\n",
              "      <th>mfcc8</th>\n",
              "      <th>mfcc9</th>\n",
              "      <th>mfcc10</th>\n",
              "      <th>mfcc11</th>\n",
              "      <th>mfcc12</th>\n",
              "      <th>mfcc13</th>\n",
              "      <th>mfcc14</th>\n",
              "      <th>mfcc15</th>\n",
              "      <th>mfcc16</th>\n",
              "      <th>mfcc17</th>\n",
              "      <th>mfcc18</th>\n",
              "      <th>mfcc19</th>\n",
              "      <th>mfcc20</th>\n",
              "      <th>mfcc21</th>\n",
              "      <th>mfcc22</th>\n",
              "      <th>mfcc23</th>\n",
              "      <th>mfcc24</th>\n",
              "      <th>mfcc25</th>\n",
              "      <th>mfcc26</th>\n",
              "      <th>mfcc27</th>\n",
              "      <th>mfcc28</th>\n",
              "      <th>mfcc29</th>\n",
              "      <th>mfcc30</th>\n",
              "      <th>mfcc31</th>\n",
              "      <th>mfcc32</th>\n",
              "      <th>mfcc33</th>\n",
              "      <th>mfcc34</th>\n",
              "      <th>mfcc35</th>\n",
              "      <th>mfcc36</th>\n",
              "      <th>mfcc37</th>\n",
              "      <th>mfcc38</th>\n",
              "      <th>mfcc39</th>\n",
              "    </tr>\n",
              "  </thead>\n",
              "  <tbody>\n",
              "    <tr>\n",
              "      <th>0</th>\n",
              "      <td>0.107377</td>\n",
              "      <td>-0.921775</td>\n",
              "      <td>-3.159700</td>\n",
              "      <td>-3.463928</td>\n",
              "      <td>-0.532767</td>\n",
              "      <td>-2.659987</td>\n",
              "      <td>-0.243895</td>\n",
              "      <td>0.667267</td>\n",
              "      <td>1.674661</td>\n",
              "      <td>0.652382</td>\n",
              "      <td>-0.543021</td>\n",
              "      <td>-0.735242</td>\n",
              "      <td>-1.442219</td>\n",
              "      <td>0.616402</td>\n",
              "      <td>-0.095125</td>\n",
              "      <td>-0.967175</td>\n",
              "      <td>-2.029987</td>\n",
              "      <td>-0.370074</td>\n",
              "      <td>-0.081009</td>\n",
              "      <td>1.012329</td>\n",
              "      <td>-1.589825</td>\n",
              "      <td>-1.683903</td>\n",
              "      <td>1.671740</td>\n",
              "      <td>-0.960995</td>\n",
              "      <td>-0.846061</td>\n",
              "      <td>-0.235385</td>\n",
              "      <td>-0.309643</td>\n",
              "      <td>0.959342</td>\n",
              "      <td>-1.002397</td>\n",
              "      <td>-1.560182</td>\n",
              "      <td>0.651407</td>\n",
              "      <td>1.808718</td>\n",
              "      <td>0.200979</td>\n",
              "      <td>0.382491</td>\n",
              "      <td>-1.484355</td>\n",
              "      <td>-1.048634</td>\n",
              "      <td>1.354759</td>\n",
              "      <td>-0.286402</td>\n",
              "      <td>0.080649</td>\n",
              "      <td>0.022040</td>\n",
              "    </tr>\n",
              "    <tr>\n",
              "      <th>1</th>\n",
              "      <td>-1.507856</td>\n",
              "      <td>-0.178637</td>\n",
              "      <td>-0.715724</td>\n",
              "      <td>1.827960</td>\n",
              "      <td>0.963547</td>\n",
              "      <td>0.081115</td>\n",
              "      <td>0.910011</td>\n",
              "      <td>-0.258165</td>\n",
              "      <td>1.005382</td>\n",
              "      <td>0.149769</td>\n",
              "      <td>-0.231644</td>\n",
              "      <td>1.558338</td>\n",
              "      <td>-0.043947</td>\n",
              "      <td>0.825972</td>\n",
              "      <td>1.114954</td>\n",
              "      <td>0.007907</td>\n",
              "      <td>0.601156</td>\n",
              "      <td>1.005710</td>\n",
              "      <td>-0.058602</td>\n",
              "      <td>0.561737</td>\n",
              "      <td>0.489616</td>\n",
              "      <td>1.071099</td>\n",
              "      <td>0.422110</td>\n",
              "      <td>1.316362</td>\n",
              "      <td>0.475074</td>\n",
              "      <td>-0.163874</td>\n",
              "      <td>-0.382853</td>\n",
              "      <td>-0.045517</td>\n",
              "      <td>-0.940584</td>\n",
              "      <td>-0.045141</td>\n",
              "      <td>0.209395</td>\n",
              "      <td>0.379668</td>\n",
              "      <td>0.005961</td>\n",
              "      <td>-0.062241</td>\n",
              "      <td>0.310440</td>\n",
              "      <td>0.002107</td>\n",
              "      <td>-0.283697</td>\n",
              "      <td>0.345773</td>\n",
              "      <td>0.030241</td>\n",
              "      <td>0.172938</td>\n",
              "    </tr>\n",
              "    <tr>\n",
              "      <th>2</th>\n",
              "      <td>-1.784261</td>\n",
              "      <td>0.086327</td>\n",
              "      <td>-0.551374</td>\n",
              "      <td>1.455059</td>\n",
              "      <td>0.881829</td>\n",
              "      <td>0.621508</td>\n",
              "      <td>1.358606</td>\n",
              "      <td>-0.319418</td>\n",
              "      <td>0.989077</td>\n",
              "      <td>0.109741</td>\n",
              "      <td>-0.439067</td>\n",
              "      <td>0.799805</td>\n",
              "      <td>0.614929</td>\n",
              "      <td>0.728648</td>\n",
              "      <td>0.841632</td>\n",
              "      <td>0.163795</td>\n",
              "      <td>-0.242451</td>\n",
              "      <td>-0.044767</td>\n",
              "      <td>0.406497</td>\n",
              "      <td>1.689113</td>\n",
              "      <td>0.947898</td>\n",
              "      <td>0.908707</td>\n",
              "      <td>0.367275</td>\n",
              "      <td>0.193264</td>\n",
              "      <td>-0.156416</td>\n",
              "      <td>0.263905</td>\n",
              "      <td>-0.023388</td>\n",
              "      <td>-0.180631</td>\n",
              "      <td>-0.239507</td>\n",
              "      <td>0.351044</td>\n",
              "      <td>0.483759</td>\n",
              "      <td>-0.270133</td>\n",
              "      <td>-0.862749</td>\n",
              "      <td>-0.498215</td>\n",
              "      <td>-0.372718</td>\n",
              "      <td>-0.345769</td>\n",
              "      <td>-0.415033</td>\n",
              "      <td>0.860877</td>\n",
              "      <td>0.506007</td>\n",
              "      <td>-0.040799</td>\n",
              "    </tr>\n",
              "    <tr>\n",
              "      <th>3</th>\n",
              "      <td>-1.426643</td>\n",
              "      <td>-0.342105</td>\n",
              "      <td>-0.167820</td>\n",
              "      <td>1.438587</td>\n",
              "      <td>1.065424</td>\n",
              "      <td>-0.125903</td>\n",
              "      <td>0.997116</td>\n",
              "      <td>-0.587186</td>\n",
              "      <td>0.964449</td>\n",
              "      <td>-0.192373</td>\n",
              "      <td>-0.373125</td>\n",
              "      <td>1.612751</td>\n",
              "      <td>0.400533</td>\n",
              "      <td>0.796309</td>\n",
              "      <td>0.334719</td>\n",
              "      <td>-0.342114</td>\n",
              "      <td>0.840009</td>\n",
              "      <td>0.537329</td>\n",
              "      <td>0.874632</td>\n",
              "      <td>0.567934</td>\n",
              "      <td>-0.293281</td>\n",
              "      <td>0.718855</td>\n",
              "      <td>-0.471809</td>\n",
              "      <td>0.406049</td>\n",
              "      <td>0.003232</td>\n",
              "      <td>-0.167635</td>\n",
              "      <td>-0.387171</td>\n",
              "      <td>-0.167614</td>\n",
              "      <td>-0.583786</td>\n",
              "      <td>-0.596979</td>\n",
              "      <td>-0.610500</td>\n",
              "      <td>0.131012</td>\n",
              "      <td>0.491346</td>\n",
              "      <td>0.135567</td>\n",
              "      <td>-0.359596</td>\n",
              "      <td>0.329291</td>\n",
              "      <td>-0.136842</td>\n",
              "      <td>-0.148015</td>\n",
              "      <td>-0.331287</td>\n",
              "      <td>-0.269912</td>\n",
              "    </tr>\n",
              "    <tr>\n",
              "      <th>4</th>\n",
              "      <td>-1.685152</td>\n",
              "      <td>-0.085470</td>\n",
              "      <td>-0.707531</td>\n",
              "      <td>1.812362</td>\n",
              "      <td>1.108662</td>\n",
              "      <td>0.662272</td>\n",
              "      <td>0.947498</td>\n",
              "      <td>-0.291221</td>\n",
              "      <td>1.436161</td>\n",
              "      <td>-0.057650</td>\n",
              "      <td>-0.711554</td>\n",
              "      <td>1.092158</td>\n",
              "      <td>0.643851</td>\n",
              "      <td>0.440054</td>\n",
              "      <td>1.258503</td>\n",
              "      <td>0.554987</td>\n",
              "      <td>-0.027763</td>\n",
              "      <td>0.158337</td>\n",
              "      <td>-0.501668</td>\n",
              "      <td>1.674276</td>\n",
              "      <td>0.878477</td>\n",
              "      <td>0.701515</td>\n",
              "      <td>0.366218</td>\n",
              "      <td>0.548452</td>\n",
              "      <td>-0.065650</td>\n",
              "      <td>0.201622</td>\n",
              "      <td>0.133030</td>\n",
              "      <td>0.911894</td>\n",
              "      <td>0.179301</td>\n",
              "      <td>-0.234178</td>\n",
              "      <td>-0.167901</td>\n",
              "      <td>-0.433266</td>\n",
              "      <td>0.120210</td>\n",
              "      <td>0.451047</td>\n",
              "      <td>-0.385886</td>\n",
              "      <td>0.072454</td>\n",
              "      <td>-0.011898</td>\n",
              "      <td>0.732839</td>\n",
              "      <td>0.491145</td>\n",
              "      <td>0.092003</td>\n",
              "    </tr>\n",
              "  </tbody>\n",
              "</table>\n",
              "</div>\n",
              "      <button class=\"colab-df-convert\" onclick=\"convertToInteractive('df-c185b283-cb21-4428-9f5f-b3a8e49fcbc8')\"\n",
              "              title=\"Convert this dataframe to an interactive table.\"\n",
              "              style=\"display:none;\">\n",
              "        \n",
              "  <svg xmlns=\"http://www.w3.org/2000/svg\" height=\"24px\"viewBox=\"0 0 24 24\"\n",
              "       width=\"24px\">\n",
              "    <path d=\"M0 0h24v24H0V0z\" fill=\"none\"/>\n",
              "    <path d=\"M18.56 5.44l.94 2.06.94-2.06 2.06-.94-2.06-.94-.94-2.06-.94 2.06-2.06.94zm-11 1L8.5 8.5l.94-2.06 2.06-.94-2.06-.94L8.5 2.5l-.94 2.06-2.06.94zm10 10l.94 2.06.94-2.06 2.06-.94-2.06-.94-.94-2.06-.94 2.06-2.06.94z\"/><path d=\"M17.41 7.96l-1.37-1.37c-.4-.4-.92-.59-1.43-.59-.52 0-1.04.2-1.43.59L10.3 9.45l-7.72 7.72c-.78.78-.78 2.05 0 2.83L4 21.41c.39.39.9.59 1.41.59.51 0 1.02-.2 1.41-.59l7.78-7.78 2.81-2.81c.8-.78.8-2.07 0-2.86zM5.41 20L4 18.59l7.72-7.72 1.47 1.35L5.41 20z\"/>\n",
              "  </svg>\n",
              "      </button>\n",
              "      \n",
              "  <style>\n",
              "    .colab-df-container {\n",
              "      display:flex;\n",
              "      flex-wrap:wrap;\n",
              "      gap: 12px;\n",
              "    }\n",
              "\n",
              "    .colab-df-convert {\n",
              "      background-color: #E8F0FE;\n",
              "      border: none;\n",
              "      border-radius: 50%;\n",
              "      cursor: pointer;\n",
              "      display: none;\n",
              "      fill: #1967D2;\n",
              "      height: 32px;\n",
              "      padding: 0 0 0 0;\n",
              "      width: 32px;\n",
              "    }\n",
              "\n",
              "    .colab-df-convert:hover {\n",
              "      background-color: #E2EBFA;\n",
              "      box-shadow: 0px 1px 2px rgba(60, 64, 67, 0.3), 0px 1px 3px 1px rgba(60, 64, 67, 0.15);\n",
              "      fill: #174EA6;\n",
              "    }\n",
              "\n",
              "    [theme=dark] .colab-df-convert {\n",
              "      background-color: #3B4455;\n",
              "      fill: #D2E3FC;\n",
              "    }\n",
              "\n",
              "    [theme=dark] .colab-df-convert:hover {\n",
              "      background-color: #434B5C;\n",
              "      box-shadow: 0px 1px 3px 1px rgba(0, 0, 0, 0.15);\n",
              "      filter: drop-shadow(0px 1px 2px rgba(0, 0, 0, 0.3));\n",
              "      fill: #FFFFFF;\n",
              "    }\n",
              "  </style>\n",
              "\n",
              "      <script>\n",
              "        const buttonEl =\n",
              "          document.querySelector('#df-c185b283-cb21-4428-9f5f-b3a8e49fcbc8 button.colab-df-convert');\n",
              "        buttonEl.style.display =\n",
              "          google.colab.kernel.accessAllowed ? 'block' : 'none';\n",
              "\n",
              "        async function convertToInteractive(key) {\n",
              "          const element = document.querySelector('#df-c185b283-cb21-4428-9f5f-b3a8e49fcbc8');\n",
              "          const dataTable =\n",
              "            await google.colab.kernel.invokeFunction('convertToInteractive',\n",
              "                                                     [key], {});\n",
              "          if (!dataTable) return;\n",
              "\n",
              "          const docLinkHtml = 'Like what you see? Visit the ' +\n",
              "            '<a target=\"_blank\" href=https://colab.research.google.com/notebooks/data_table.ipynb>data table notebook</a>'\n",
              "            + ' to learn more about interactive tables.';\n",
              "          element.innerHTML = '';\n",
              "          dataTable['output_type'] = 'display_data';\n",
              "          await google.colab.output.renderOutput(dataTable, element);\n",
              "          const docLink = document.createElement('div');\n",
              "          docLink.innerHTML = docLinkHtml;\n",
              "          element.appendChild(docLink);\n",
              "        }\n",
              "      </script>\n",
              "    </div>\n",
              "  </div>\n",
              "  "
            ],
            "text/plain": [
              "      mfcc0     mfcc1     mfcc2  ...    mfcc37    mfcc38    mfcc39\n",
              "0  0.107377 -0.921775 -3.159700  ... -0.286402  0.080649  0.022040\n",
              "1 -1.507856 -0.178637 -0.715724  ...  0.345773  0.030241  0.172938\n",
              "2 -1.784261  0.086327 -0.551374  ...  0.860877  0.506007 -0.040799\n",
              "3 -1.426643 -0.342105 -0.167820  ... -0.148015 -0.331287 -0.269912\n",
              "4 -1.685152 -0.085470 -0.707531  ...  0.732839  0.491145  0.092003\n",
              "\n",
              "[5 rows x 40 columns]"
            ]
          },
          "metadata": {},
          "execution_count": 4
        }
      ],
      "source": [
        "#normalization (helps with exploding gradient); good as we are mixing a lot of datasets\n",
        "\n",
        "mean = np.mean(X_train,axis=0)\n",
        "std = np.std(X_train, axis=0)\n",
        "\n",
        "X_train =( X_train - mean)/std\n",
        "X_test = (X_test - mean)/std\n",
        "\n",
        "#data after normalization\n",
        "X_train.head()"
      ]
    },
    {
      "cell_type": "code",
      "execution_count": 5,
      "metadata": {
        "colab": {
          "base_uri": "https://localhost:8080/"
        },
        "id": "qtkhmcfezsRg",
        "outputId": "69df5535-752f-419a-c826-d342963c5fa6"
      },
      "outputs": [
        {
          "output_type": "stream",
          "name": "stdout",
          "text": [
            "(7079, 40)\n",
            "[0 1 2 3 4 5 6 7 8 9]\n"
          ]
        },
        {
          "output_type": "stream",
          "name": "stderr",
          "text": [
            "/usr/local/lib/python3.7/dist-packages/sklearn/preprocessing/_label.py:115: DataConversionWarning: A column-vector y was passed when a 1d array was expected. Please change the shape of y to (n_samples, ), for example using ravel().\n",
            "  y = column_or_1d(y, warn=True)\n"
          ]
        }
      ],
      "source": [
        "#formating the data for keras\n",
        "X_train = np.array(X_train)\n",
        "X_test = np.array(X_test)\n",
        "y_train = np.array(y_train)\n",
        "y_test = np.array(y_test)\n",
        "\n",
        "\n",
        "#one hot encoding the target\n",
        "le = LabelEncoder()\n",
        "\n",
        "y_train = to_categorical(le.fit_transform(y_train))\n",
        "y_test = to_categorical(le.fit_transform(y_test))\n",
        "\n",
        "print(X_train.shape)\n",
        "print(le.classes_)\n",
        "\n",
        "#pickel the le object for future use\n",
        "filename = 'labels_usc'\n",
        "outfile = open(filename, 'wb')\n",
        "pickle.dump(le, outfile)\n",
        "outfile.close()\n",
        "\n"
      ]
    },
    {
      "cell_type": "markdown",
      "metadata": {
        "id": "usle8hQmzsRg"
      },
      "source": [
        "# Modelling"
      ]
    },
    {
      "cell_type": "code",
      "execution_count": 6,
      "metadata": {
        "colab": {
          "base_uri": "https://localhost:8080/"
        },
        "id": "hwFW_fNHzsRh",
        "outputId": "a996569e-d1fd-4182-9592-11958e1e8542"
      },
      "outputs": [
        {
          "output_type": "stream",
          "name": "stdout",
          "text": [
            "Model: \"sequential_1\"\n",
            "_________________________________________________________________\n",
            " Layer (type)                Output Shape              Param #   \n",
            "=================================================================\n",
            " dense (Dense)               (None, 1024)              41984     \n",
            "                                                                 \n",
            " dense_1 (Dense)             (None, 512)               524800    \n",
            "                                                                 \n",
            " dense_2 (Dense)             (None, 256)               131328    \n",
            "                                                                 \n",
            " dense_3 (Dense)             (None, 128)               32896     \n",
            "                                                                 \n",
            " dense_4 (Dense)             (None, 64)                8256      \n",
            "                                                                 \n",
            " dense_5 (Dense)             (None, 32)                2080      \n",
            "                                                                 \n",
            " dense_6 (Dense)             (None, 10)                330       \n",
            "                                                                 \n",
            "=================================================================\n",
            "Total params: 741,674\n",
            "Trainable params: 741,674\n",
            "Non-trainable params: 0\n",
            "_________________________________________________________________\n"
          ]
        }
      ],
      "source": [
        "#builing our ANN model\n",
        "\n",
        "model = Sequential()\n",
        "\n",
        "model = Sequential()\n",
        "model.add(layers.Dense(1024, activation='relu', input_shape=(X_train.shape[1],)))\n",
        "model.add(layers.Dense(512, activation='relu'))\n",
        "model.add(layers.Dense(256, activation='relu'))\n",
        "model.add(layers.Dense(128, activation='relu'))\n",
        "model.add(layers.Dense(64, activation='relu'))\n",
        "model.add(layers.Dense(32, activation='relu'))\n",
        "model.add(layers.Dense(10, activation='softmax'))\n",
        "\n",
        "opt_sgd = tf.keras.optimizers.SGD(learning_rate=0.0001, momentum=0.0, decay=0.0, nesterov=False)\n",
        "opt_adam = tf.keras.optimizers.Adam(learning_rate=0.0001)\n",
        "opt_rmp = tensorflow.keras.optimizers.RMSprop(learning_rate=0.00001, decay=1e-6)\n",
        "model.summary()"
      ]
    },
    {
      "cell_type": "code",
      "execution_count": 7,
      "metadata": {
        "colab": {
          "base_uri": "https://localhost:8080/"
        },
        "id": "jiQR9wgmzsRh",
        "outputId": "c74e359a-0fa1-4918-ded5-6a4be0352adb"
      },
      "outputs": [
        {
          "output_type": "stream",
          "name": "stdout",
          "text": [
            "Epoch 1/20\n",
            "\n",
            "Epoch 00001: val_accuracy improved from -inf to 0.46461, saving model to up/usc_8020_DNN_mfcc.h5\n",
            "222/222 - 4s - loss: 1.6772 - accuracy: 0.4523 - val_loss: 1.6149 - val_accuracy: 0.4646 - 4s/epoch - 17ms/step\n",
            "Epoch 2/20\n",
            "\n",
            "Epoch 00002: val_accuracy improved from 0.46461 to 0.51119, saving model to up/usc_8020_DNN_mfcc.h5\n",
            "222/222 - 2s - loss: 0.9562 - accuracy: 0.7089 - val_loss: 1.5229 - val_accuracy: 0.5112 - 2s/epoch - 11ms/step\n",
            "Epoch 3/20\n",
            "\n",
            "Epoch 00003: val_accuracy improved from 0.51119 to 0.52087, saving model to up/usc_8020_DNN_mfcc.h5\n",
            "222/222 - 3s - loss: 0.6709 - accuracy: 0.8010 - val_loss: 1.6040 - val_accuracy: 0.5209 - 3s/epoch - 11ms/step\n",
            "Epoch 4/20\n",
            "\n",
            "Epoch 00004: val_accuracy did not improve from 0.52087\n",
            "222/222 - 2s - loss: 0.5196 - accuracy: 0.8401 - val_loss: 1.5977 - val_accuracy: 0.5160 - 2s/epoch - 11ms/step\n",
            "Epoch 5/20\n",
            "\n",
            "Epoch 00005: val_accuracy improved from 0.52087 to 0.56140, saving model to up/usc_8020_DNN_mfcc.h5\n",
            "222/222 - 3s - loss: 0.4102 - accuracy: 0.8723 - val_loss: 1.7525 - val_accuracy: 0.5614 - 3s/epoch - 11ms/step\n",
            "Epoch 6/20\n",
            "\n",
            "Epoch 00006: val_accuracy did not improve from 0.56140\n",
            "222/222 - 2s - loss: 0.3300 - accuracy: 0.8991 - val_loss: 1.9107 - val_accuracy: 0.5233 - 2s/epoch - 11ms/step\n",
            "Epoch 7/20\n",
            "\n",
            "Epoch 00007: val_accuracy did not improve from 0.56140\n",
            "222/222 - 2s - loss: 0.2657 - accuracy: 0.9172 - val_loss: 2.0404 - val_accuracy: 0.5505 - 2s/epoch - 11ms/step\n",
            "Epoch 8/20\n",
            "\n",
            "Epoch 00008: val_accuracy did not improve from 0.56140\n",
            "222/222 - 3s - loss: 0.2183 - accuracy: 0.9336 - val_loss: 2.0606 - val_accuracy: 0.5324 - 3s/epoch - 11ms/step\n",
            "Epoch 9/20\n",
            "\n",
            "Epoch 00009: val_accuracy did not improve from 0.56140\n",
            "222/222 - 2s - loss: 0.1813 - accuracy: 0.9465 - val_loss: 2.1975 - val_accuracy: 0.5263 - 2s/epoch - 11ms/step\n",
            "Epoch 10/20\n",
            "\n",
            "Epoch 00010: val_accuracy did not improve from 0.56140\n",
            "222/222 - 2s - loss: 0.1487 - accuracy: 0.9582 - val_loss: 2.3663 - val_accuracy: 0.5124 - 2s/epoch - 11ms/step\n",
            "Epoch 11/20\n",
            "\n",
            "Epoch 00011: val_accuracy did not improve from 0.56140\n",
            "222/222 - 2s - loss: 0.1217 - accuracy: 0.9660 - val_loss: 2.3669 - val_accuracy: 0.5263 - 2s/epoch - 11ms/step\n",
            "Epoch 12/20\n",
            "\n",
            "Epoch 00012: val_accuracy did not improve from 0.56140\n",
            "222/222 - 2s - loss: 0.1035 - accuracy: 0.9719 - val_loss: 2.5307 - val_accuracy: 0.5469 - 2s/epoch - 11ms/step\n",
            "Epoch 13/20\n",
            "\n",
            "Epoch 00013: val_accuracy did not improve from 0.56140\n",
            "222/222 - 2s - loss: 0.0909 - accuracy: 0.9768 - val_loss: 2.4642 - val_accuracy: 0.5433 - 2s/epoch - 11ms/step\n",
            "Epoch 14/20\n",
            "\n",
            "Epoch 00014: val_accuracy did not improve from 0.56140\n",
            "222/222 - 2s - loss: 0.0718 - accuracy: 0.9818 - val_loss: 2.7561 - val_accuracy: 0.5372 - 2s/epoch - 11ms/step\n",
            "Epoch 15/20\n",
            "\n",
            "Epoch 00015: val_accuracy did not improve from 0.56140\n",
            "222/222 - 2s - loss: 0.0591 - accuracy: 0.9857 - val_loss: 2.7704 - val_accuracy: 0.5402 - 2s/epoch - 11ms/step\n",
            "Epoch 16/20\n",
            "\n",
            "Epoch 00016: val_accuracy did not improve from 0.56140\n",
            "222/222 - 2s - loss: 0.0509 - accuracy: 0.9884 - val_loss: 2.7447 - val_accuracy: 0.5197 - 2s/epoch - 11ms/step\n",
            "Epoch 17/20\n",
            "\n",
            "Epoch 00017: val_accuracy did not improve from 0.56140\n",
            "222/222 - 2s - loss: 0.0418 - accuracy: 0.9921 - val_loss: 2.8479 - val_accuracy: 0.5493 - 2s/epoch - 11ms/step\n",
            "Epoch 18/20\n",
            "\n",
            "Epoch 00018: val_accuracy did not improve from 0.56140\n",
            "222/222 - 2s - loss: 0.0357 - accuracy: 0.9932 - val_loss: 3.3810 - val_accuracy: 0.5191 - 2s/epoch - 11ms/step\n",
            "Epoch 19/20\n",
            "\n",
            "Epoch 00019: val_accuracy did not improve from 0.56140\n",
            "222/222 - 2s - loss: 0.0581 - accuracy: 0.9847 - val_loss: 3.1414 - val_accuracy: 0.5227 - 2s/epoch - 11ms/step\n",
            "Epoch 20/20\n",
            "\n",
            "Epoch 00020: val_accuracy did not improve from 0.56140\n",
            "222/222 - 2s - loss: 0.0318 - accuracy: 0.9928 - val_loss: 3.1876 - val_accuracy: 0.5324 - 2s/epoch - 11ms/step\n"
          ]
        }
      ],
      "source": [
        "model.compile(loss='categorical_crossentropy', optimizer=opt_adam, metrics=['accuracy'])\n",
        "\n",
        "checkpoint = ModelCheckpoint('up/usc_8020_DNN_mfcc.h5', verbose=1, monitor='val_accuracy',save_best_only=True, mode='auto')  \n",
        "\n",
        "model_history = model.fit(X_train, y_train,validation_data=(X_test, y_test), epochs=20, batch_size=32, verbose=2, callbacks=[checkpoint])"
      ]
    },
    {
      "cell_type": "code",
      "execution_count": 8,
      "metadata": {
        "colab": {
          "base_uri": "https://localhost:8080/",
          "height": 312
        },
        "id": "XZMQ9Nh4zsRi",
        "outputId": "a1361672-7823-41c5-98e9-2bb82d07b5ec"
      },
      "outputs": [
        {
          "output_type": "execute_result",
          "data": {
            "text/plain": [
              "<function matplotlib.pyplot.show>"
            ]
          },
          "metadata": {},
          "execution_count": 8
        },
        {
          "output_type": "display_data",
          "data": {
            "image/png": "[encoded data removed]",
            "text/plain": [
              "<Figure size 432x288 with 1 Axes>"
            ]
          },
          "metadata": {
            "needs_background": "light"
          }
        }
      ],
      "source": [
        "#plotting the loss\n",
        "plt.plot(model_history.history['accuracy'])\n",
        "plt.plot(model_history.history['val_accuracy'])\n",
        "plt.title('model loss')\n",
        "plt.ylabel('loss')\n",
        "plt.xlabel('epoch')\n",
        "plt.legend(['train','test'], loc='upper right')\n",
        "plt.show"
      ]
    },
    {
      "cell_type": "markdown",
      "metadata": {
        "id": "l5VYMRrZzsRi"
      },
      "source": [
        "# Model Serialisation (saving the model)"
      ]
    },
    {
      "cell_type": "code",
      "execution_count": 9,
      "metadata": {
        "id": "ix2wKmdJzsRj"
      },
      "outputs": [],
      "source": [
        "#save model to disk \n",
        "model_json = model.to_json()\n",
        "with open('up/usc_8020_DNN_mfcc.json','w') as json_file:\n",
        "    json_file.write(model_json)"
      ]
    },
    {
      "cell_type": "markdown",
      "metadata": {
        "id": "stiPjUuszsRj"
      },
      "source": [
        "# Model Validation\n"
      ]
    },
    {
      "cell_type": "code",
      "execution_count": 10,
      "metadata": {
        "colab": {
          "base_uri": "https://localhost:8080/"
        },
        "id": "vSTCGGyvzsRj",
        "outputId": "7d1a4c51-5b62-4343-edc3-f030720519d8"
      },
      "outputs": [
        {
          "output_type": "stream",
          "name": "stdout",
          "text": [
            "Loaded model from disk\n",
            "52/52 [==============================] - 0s 4ms/step - loss: 1.7525 - accuracy: 0.5614\n",
            "accuracy: 56.14%\n"
          ]
        }
      ],
      "source": [
        "#loading the json file and model architecture\n",
        "json_file = open('up/usc_8020_DNN_mfcc.json', 'r')\n",
        "loaded_model_json = json_file.read()\n",
        "json_file.close()\n",
        "loaded_model = model_from_json(loaded_model_json)\n",
        "\n",
        "#load weights into the new mode\n",
        "loaded_model.load_weights('up/usc_8020_DNN_mfcc.h5')\n",
        "print('Loaded model from disk')\n",
        "\n",
        "loaded_model.compile(loss='categorical_crossentropy', optimizer=opt_adam, metrics =['accuracy'])\n",
        "\n",
        "score = loaded_model.evaluate(X_test, y_test)\n",
        "print(\"%s: %.2f%%\" %(loaded_model.metrics_names[1], score[1]*100))"
      ]
    },
    {
      "cell_type": "code",
      "execution_count": 11,
      "metadata": {
        "colab": {
          "base_uri": "https://localhost:8080/"
        },
        "id": "Yc93onq0zsRk",
        "outputId": "073bd000-6539-46b6-a137-67861f2b9b03"
      },
      "outputs": [
        {
          "output_type": "stream",
          "name": "stdout",
          "text": [
            "1653/1653 [==============================] - 2s 1ms/step\n"
          ]
        },
        {
          "output_type": "execute_result",
          "data": {
            "text/plain": [
              "array([9, 9, 2, ..., 2, 2, 2])"
            ]
          },
          "metadata": {},
          "execution_count": 11
        }
      ],
      "source": [
        "preds = loaded_model.predict(X_test, batch_size=1, verbose=1)\n",
        "preds = preds.argmax(axis=1)\n",
        "preds"
      ]
    },
    {
      "cell_type": "code",
      "execution_count": 12,
      "metadata": {
        "colab": {
          "base_uri": "https://localhost:8080/",
          "height": 206
        },
        "id": "gNCKgQI3zsRk",
        "outputId": "9308496a-2cdd-42cf-eee6-209c3fbd62a7"
      },
      "outputs": [
        {
          "output_type": "execute_result",
          "data": {
            "text/html": [
              "\n",
              "  <div id=\"df-4d421c46-f06c-4ab5-8c28-c45e1235cc74\">\n",
              "    <div class=\"colab-df-container\">\n",
              "      <div>\n",
              "<style scoped>\n",
              "    .dataframe tbody tr th:only-of-type {\n",
              "        vertical-align: middle;\n",
              "    }\n",
              "\n",
              "    .dataframe tbody tr th {\n",
              "        vertical-align: top;\n",
              "    }\n",
              "\n",
              "    .dataframe thead th {\n",
              "        text-align: right;\n",
              "    }\n",
              "</style>\n",
              "<table border=\"1\" class=\"dataframe\">\n",
              "  <thead>\n",
              "    <tr style=\"text-align: right;\">\n",
              "      <th></th>\n",
              "      <th>actual_values</th>\n",
              "      <th>predicted_values</th>\n",
              "    </tr>\n",
              "  </thead>\n",
              "  <tbody>\n",
              "    <tr>\n",
              "      <th>0</th>\n",
              "      <td>1</td>\n",
              "      <td>9</td>\n",
              "    </tr>\n",
              "    <tr>\n",
              "      <th>1</th>\n",
              "      <td>1</td>\n",
              "      <td>9</td>\n",
              "    </tr>\n",
              "    <tr>\n",
              "      <th>2</th>\n",
              "      <td>1</td>\n",
              "      <td>2</td>\n",
              "    </tr>\n",
              "    <tr>\n",
              "      <th>3</th>\n",
              "      <td>1</td>\n",
              "      <td>1</td>\n",
              "    </tr>\n",
              "    <tr>\n",
              "      <th>4</th>\n",
              "      <td>1</td>\n",
              "      <td>7</td>\n",
              "    </tr>\n",
              "  </tbody>\n",
              "</table>\n",
              "</div>\n",
              "      <button class=\"colab-df-convert\" onclick=\"convertToInteractive('df-4d421c46-f06c-4ab5-8c28-c45e1235cc74')\"\n",
              "              title=\"Convert this dataframe to an interactive table.\"\n",
              "              style=\"display:none;\">\n",
              "        \n",
              "  <svg xmlns=\"http://www.w3.org/2000/svg\" height=\"24px\"viewBox=\"0 0 24 24\"\n",
              "       width=\"24px\">\n",
              "    <path d=\"M0 0h24v24H0V0z\" fill=\"none\"/>\n",
              "    <path d=\"M18.56 5.44l.94 2.06.94-2.06 2.06-.94-2.06-.94-.94-2.06-.94 2.06-2.06.94zm-11 1L8.5 8.5l.94-2.06 2.06-.94-2.06-.94L8.5 2.5l-.94 2.06-2.06.94zm10 10l.94 2.06.94-2.06 2.06-.94-2.06-.94-.94-2.06-.94 2.06-2.06.94z\"/><path d=\"M17.41 7.96l-1.37-1.37c-.4-.4-.92-.59-1.43-.59-.52 0-1.04.2-1.43.59L10.3 9.45l-7.72 7.72c-.78.78-.78 2.05 0 2.83L4 21.41c.39.39.9.59 1.41.59.51 0 1.02-.2 1.41-.59l7.78-7.78 2.81-2.81c.8-.78.8-2.07 0-2.86zM5.41 20L4 18.59l7.72-7.72 1.47 1.35L5.41 20z\"/>\n",
              "  </svg>\n",
              "      </button>\n",
              "      \n",
              "  <style>\n",
              "    .colab-df-container {\n",
              "      display:flex;\n",
              "      flex-wrap:wrap;\n",
              "      gap: 12px;\n",
              "    }\n",
              "\n",
              "    .colab-df-convert {\n",
              "      background-color: #E8F0FE;\n",
              "      border: none;\n",
              "      border-radius: 50%;\n",
              "      cursor: pointer;\n",
              "      display: none;\n",
              "      fill: #1967D2;\n",
              "      height: 32px;\n",
              "      padding: 0 0 0 0;\n",
              "      width: 32px;\n",
              "    }\n",
              "\n",
              "    .colab-df-convert:hover {\n",
              "      background-color: #E2EBFA;\n",
              "      box-shadow: 0px 1px 2px rgba(60, 64, 67, 0.3), 0px 1px 3px 1px rgba(60, 64, 67, 0.15);\n",
              "      fill: #174EA6;\n",
              "    }\n",
              "\n",
              "    [theme=dark] .colab-df-convert {\n",
              "      background-color: #3B4455;\n",
              "      fill: #D2E3FC;\n",
              "    }\n",
              "\n",
              "    [theme=dark] .colab-df-convert:hover {\n",
              "      background-color: #434B5C;\n",
              "      box-shadow: 0px 1px 3px 1px rgba(0, 0, 0, 0.15);\n",
              "      filter: drop-shadow(0px 1px 2px rgba(0, 0, 0, 0.3));\n",
              "      fill: #FFFFFF;\n",
              "    }\n",
              "  </style>\n",
              "\n",
              "      <script>\n",
              "        const buttonEl =\n",
              "          document.querySelector('#df-4d421c46-f06c-4ab5-8c28-c45e1235cc74 button.colab-df-convert');\n",
              "        buttonEl.style.display =\n",
              "          google.colab.kernel.accessAllowed ? 'block' : 'none';\n",
              "\n",
              "        async function convertToInteractive(key) {\n",
              "          const element = document.querySelector('#df-4d421c46-f06c-4ab5-8c28-c45e1235cc74');\n",
              "          const dataTable =\n",
              "            await google.colab.kernel.invokeFunction('convertToInteractive',\n",
              "                                                     [key], {});\n",
              "          if (!dataTable) return;\n",
              "\n",
              "          const docLinkHtml = 'Like what you see? Visit the ' +\n",
              "            '<a target=\"_blank\" href=https://colab.research.google.com/notebooks/data_table.ipynb>data table notebook</a>'\n",
              "            + ' to learn more about interactive tables.';\n",
              "          element.innerHTML = '';\n",
              "          dataTable['output_type'] = 'display_data';\n",
              "          await google.colab.output.renderOutput(dataTable, element);\n",
              "          const docLink = document.createElement('div');\n",
              "          docLink.innerHTML = docLinkHtml;\n",
              "          element.appendChild(docLink);\n",
              "        }\n",
              "      </script>\n",
              "    </div>\n",
              "  </div>\n",
              "  "
            ],
            "text/plain": [
              "   actual_values  predicted_values\n",
              "0              1                 9\n",
              "1              1                 9\n",
              "2              1                 2\n",
              "3              1                 1\n",
              "4              1                 7"
            ]
          },
          "metadata": {},
          "execution_count": 12
        }
      ],
      "source": [
        "#The prediction is in the form of numbers, we'll need to append the labels to it before we run the accuracy measure\n",
        "\n",
        "#predictions\n",
        "#preds = preds.astype(int).flatten()\n",
        "preds = le.inverse_transform(preds)\n",
        "preds= pd.DataFrame({'predicted_values': preds})\n",
        "\n",
        "#Actual labels\n",
        "\n",
        "actual = y_test.argmax(axis=1)\n",
        "#actual = actual.astype(int).flatten()\n",
        "actual = le.inverse_transform(actual)\n",
        "actual = pd.DataFrame({'actual_values': actual})\n",
        "\n",
        "#combine both in one dataframe\n",
        "final_df = actual.join(preds)\n",
        "final_df.head()"
      ]
    },
    {
      "cell_type": "code",
      "execution_count": 13,
      "metadata": {
        "colab": {
          "base_uri": "https://localhost:8080/",
          "height": 352
        },
        "id": "dPfNTRE3zsRk",
        "outputId": "a9528d1d-ccb0-421a-88c8-eb7d11a452dc"
      },
      "outputs": [
        {
          "output_type": "execute_result",
          "data": {
            "text/plain": [
              "[]"
            ]
          },
          "metadata": {},
          "execution_count": 13
        },
        {
          "output_type": "display_data",
          "data": {
            "image/png": "[encoded data removed]",
            "text/plain": [
              "<Figure size 1440x360 with 1 Axes>"
            ]
          },
          "metadata": {
            "needs_background": "light"
          }
        }
      ],
      "source": [
        "#write out predictions to disk\n",
        "#final_df.to_csv('usc_8020_DNN_pred.csv', index=False)\n",
        "ddf = final_df.groupby('predicted_values')['actual_values'].value_counts()\n",
        "#final_df.groupby('actual_values').count()\n",
        "\n",
        "ax = ddf.unstack().plot(kind='bar',figsize=(20,5), rot = 0)\n",
        "ax.legend(bbox_to_anchor=(1.0, 1.0))\n",
        "ax.plot()"
      ]
    },
    {
      "cell_type": "code",
      "execution_count": 14,
      "metadata": {
        "colab": {
          "base_uri": "https://localhost:8080/"
        },
        "id": "emYKcPxKzsRl",
        "outputId": "06936453-e681-47b0-f195-ad95e920b764"
      },
      "outputs": [
        {
          "output_type": "stream",
          "name": "stdout",
          "text": [
            "              precision    recall  f1-score   support\n",
            "\n",
            "           0       0.56      0.21      0.31       200\n",
            "           1       0.83      0.85      0.84        65\n",
            "           2       0.53      0.73      0.62       200\n",
            "           3       0.55      0.56      0.56       200\n",
            "           4       0.42      0.38      0.40       200\n",
            "           5       0.78      0.69      0.73       182\n",
            "           6       0.56      0.35      0.43        63\n",
            "           7       0.55      0.67      0.60       178\n",
            "           8       0.76      0.68      0.72       165\n",
            "           9       0.41      0.58      0.48       200\n",
            "\n",
            "    accuracy                           0.56      1653\n",
            "   macro avg       0.60      0.57      0.57      1653\n",
            "weighted avg       0.57      0.56      0.55      1653\n",
            "\n"
          ]
        }
      ],
      "source": [
        "#Classification report\n",
        "classes = final_df.actual_values.unique()\n",
        "classes.sort()\n",
        "print(classification_report(final_df.actual_values, final_df.predicted_values))"
      ]
    },
    {
      "cell_type": "code",
      "execution_count": 15,
      "metadata": {
        "id": "Klnc_mskzsRl"
      },
      "outputs": [],
      "source": [
        "\n",
        "k_df = final_df.copy()\n",
        "k_df = k_df.astype(str)\n",
        "k_df['actual_values'] = k_df.actual_values.replace({          \n",
        "                                        '0.0' :   'air_conditioner',\n",
        "                                        '1.0' :  'car_horn',\n",
        "                                        '2.0' :  'children_playing',\n",
        "                                        '3.0' :  'dog_bark' ,      \n",
        "                                        '4.0' :  'drilling',       \n",
        "                                        '5.0' :  'engine_idling',  \n",
        "                                        '6.0' :  'gun_shot',\n",
        "                                        '7.0' :  'jackhammer',     \n",
        "                                        '8.0' :  'siren', \n",
        "                                        '9.0' :  'street_music'\n",
        "                                                         })\n",
        "k_df['predicted_values'] = k_df.predicted_values.replace({\n",
        "                                        '0.0' :   'air_conditioner',\n",
        "                                        '1.0' :  'car_horn',\n",
        "                                        '2.0' :  'children_playing',\n",
        "                                        '3.0' :  'dog_bark' ,      \n",
        "                                        '4.0' :  'drilling',       \n",
        "                                        '5.0' :  'engine_idling',  \n",
        "                                        '6.0' :  'gun_shot',\n",
        "                                        '7.0' :  'jackhammer',     \n",
        "                                        '8.0' :  'siren', \n",
        "                                        '9.0' :  'street_music'\n",
        "                                                         })\n",
        "\n",
        "\n",
        "classes = k_df.actual_values.unique()\n",
        "classes.sort()"
      ]
    },
    {
      "cell_type": "code",
      "execution_count": 16,
      "metadata": {
        "colab": {
          "base_uri": "https://localhost:8080/"
        },
        "id": "dB08qrXizsRl",
        "outputId": "6ed0e4ab-90af-4ae3-a961-c3a723616230"
      },
      "outputs": [
        {
          "output_type": "execute_result",
          "data": {
            "text/plain": [
              "3    200\n",
              "9    200\n",
              "4    200\n",
              "0    200\n",
              "2    200\n",
              "5    182\n",
              "7    178\n",
              "8    165\n",
              "1     65\n",
              "6     63\n",
              "Name: actual_values, dtype: int64"
            ]
          },
          "metadata": {},
          "execution_count": 16
        }
      ],
      "source": [
        "#k_df = k_df.astype(str)\n",
        "\n",
        "k_df.actual_values.value_counts()\n"
      ]
    },
    {
      "cell_type": "code",
      "execution_count": 17,
      "metadata": {
        "scrolled": false,
        "colab": {
          "base_uri": "https://localhost:8080/",
          "height": 697
        },
        "id": "ZANPwwwpzsRl",
        "outputId": "cd61f9dd-c23f-4ca8-c53b-a8792e0b19f1"
      },
      "outputs": [
        {
          "output_type": "stream",
          "name": "stderr",
          "text": [
            "findfont: Font family ['NanumGothic'] not found. Falling back to DejaVu Sans.\n",
            "findfont: Font family ['NanumGothic'] not found. Falling back to DejaVu Sans.\n"
          ]
        },
        {
          "output_type": "stream",
          "name": "stdout",
          "text": [
            "0.5614035087719298\n"
          ]
        },
        {
          "output_type": "display_data",
          "data": {
            "image/png": "[encoded data removed]",
            "text/plain": [
              "<Figure size 1080x720 with 2 Axes>"
            ]
          },
          "metadata": {
            "needs_background": "light"
          }
        }
      ],
      "source": [
        "#final_df = pd.read_csv(\"kr_13_p.csv\")\n",
        "classes = k_df.actual_values.unique()\n",
        "classes.sort()\n",
        "\n",
        "#confusion matrix\n",
        "c = confusion_matrix(k_df.actual_values, k_df.predicted_values)\n",
        "print(accuracy_score(k_df.actual_values, k_df.predicted_values))\n",
        "make_confusion_matrix(c, group_names=['True Values','Predicted Value'], categories=classes, figsize =(15,10), title='Urban Sound Classification_8020_DNN')"
      ]
    },
    {
      "cell_type": "code",
      "execution_count": null,
      "metadata": {
        "id": "jneQoZOezsRm"
      },
      "outputs": [],
      "source": [
        ""
      ]
    }
  ],
  "metadata": {
    "interpreter": {
      "hash": "f7683a7f777909b12b9dba625a5b210f0c2b8f5f0928a0c53def8c253f8296f8"
    },
    "kernelspec": {
      "display_name": "sg_tensorflowTTS_new",
      "language": "python",
      "name": "python3"
    },
    "language_info": {
      "codemirror_mode": {
        "name": "ipython",
        "version": 3
      },
      "file_extension": ".py",
      "mimetype": "text/x-python",
      "name": "python",
      "nbconvert_exporter": "python",
      "pygments_lexer": "ipython3",
      "version": "3.7.10"
    },
    "colab": {
      "name": "usc_8020_DNN_mfcc.ipynb",
      "provenance": [],
      "include_colab_link": true
    }
  },
  "nbformat": 4,
  "nbformat_minor": 0
}